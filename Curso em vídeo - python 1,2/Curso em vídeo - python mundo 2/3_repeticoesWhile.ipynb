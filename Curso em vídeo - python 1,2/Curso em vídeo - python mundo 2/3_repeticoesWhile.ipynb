{
 "cells": [
  {
   "cell_type": "markdown",
   "id": "8bab0907",
   "metadata": {},
   "source": [
    "# Estrutura de repetição While "
   ]
  },
  {
   "cell_type": "raw",
   "id": "dc0f4686",
   "metadata": {},
   "source": [
    "Estrutura que usa o ENQUANTO, sendo assim, não é preciso setar um número limite igual o a estrutura de repetição for. \n",
    "\n",
    "Exemplo: \n",
    "\n",
    "Estruturae m portugol: \n",
    "enquanto não maça \n",
    "    passo \n",
    "pega \n",
    "\n",
    "Python: \n",
    "while not maça:\n",
    "    passo \n",
    "pega "
   ]
  },
  {
   "cell_type": "raw",
   "id": "b0182ba9",
   "metadata": {},
   "source": [
    "---- Portugol \n",
    "enquanto não maça \n",
    "    se chão \n",
    "        passo \n",
    "    se vazio \n",
    "        pula \n",
    "    se moeda \n",
    "        pega \n",
    "pega - Quando for True \n",
    "\n",
    "---- Python \n",
    "\n",
    "while not maça:\n",
    "    se chão:\n",
    "        passo \n",
    "    se vazio: \n",
    "        pula \n",
    "    se moeda: \n",
    "        pega \n",
    "pega "
   ]
  },
  {
   "cell_type": "markdown",
   "id": "20c120c0",
   "metadata": {},
   "source": [
    "## Prática "
   ]
  },
  {
   "cell_type": "code",
   "execution_count": 1,
   "id": "9cdd31d6",
   "metadata": {},
   "outputs": [
    {
     "name": "stdout",
     "output_type": "stream",
     "text": [
      "1\n",
      "2\n",
      "3\n",
      "4\n",
      "5\n",
      "6\n",
      "7\n",
      "8\n",
      "9\n",
      "FIM!\n"
     ]
    }
   ],
   "source": [
    "#For \n",
    "for c in range(1,10):\n",
    "    print(c)\n",
    "print('FIM!')"
   ]
  },
  {
   "cell_type": "code",
   "execution_count": 5,
   "id": "f8b394db",
   "metadata": {},
   "outputs": [
    {
     "name": "stdout",
     "output_type": "stream",
     "text": [
      "1\n",
      "2\n",
      "3\n",
      "4\n",
      "5\n",
      "6\n",
      "7\n",
      "8\n",
      "9\n",
      "FIM!\n"
     ]
    }
   ],
   "source": [
    "#While \n",
    "c = 1 \n",
    "while c < 10:\n",
    "    print(c)\n",
    "    c+=1\n",
    "print('FIM!')"
   ]
  },
  {
   "cell_type": "code",
   "execution_count": 6,
   "id": "6839773f",
   "metadata": {},
   "outputs": [
    {
     "name": "stdout",
     "output_type": "stream",
     "text": [
      "Digite um valor: 2\n",
      "Digite um valor: 3\n",
      "Fim\n"
     ]
    }
   ],
   "source": [
    "for c in range(1,3):\n",
    "    n = int(input('Digite um valor: '))\n",
    "print('Fim')"
   ]
  },
  {
   "cell_type": "code",
   "execution_count": 7,
   "id": "a9bc02e8",
   "metadata": {},
   "outputs": [
    {
     "name": "stdout",
     "output_type": "stream",
     "text": [
      "Digite um valor: 10\n",
      "Digite um valor: 23\n",
      "Digite um valor: 65\n",
      "Digite um valor: 89\n",
      "Digite um valor: 656\n",
      "Digite um valor: 0\n",
      "Fim\n"
     ]
    }
   ],
   "source": [
    "n = 1 \n",
    "while n != 0: #Flag - Condição de parada \n",
    "    n = int(input('Digite um valor: '))\n",
    "print('Fim')"
   ]
  },
  {
   "cell_type": "code",
   "execution_count": 10,
   "id": "0334ab51",
   "metadata": {},
   "outputs": [
    {
     "name": "stdout",
     "output_type": "stream",
     "text": [
      "Digite um valor: 10\n",
      "Quer continuar? [S/N]s\n",
      "Digite um valor: 56\n",
      "Quer continuar? [S/N]s\n",
      "Digite um valor: 59\n",
      "Quer continuar? [S/N]n\n",
      "Fim\n"
     ]
    }
   ],
   "source": [
    "r = 'S' \n",
    "while r == 'S': #Flag - Condição de parada \n",
    "    n = int(input('Digite um valor: '))\n",
    "    r = str(input('Quer continuar? [S/N] ')).upper()\n",
    "print('Fim')"
   ]
  },
  {
   "cell_type": "code",
   "execution_count": 18,
   "id": "e62e25d2",
   "metadata": {},
   "outputs": [
    {
     "name": "stdout",
     "output_type": "stream",
     "text": [
      "Digite um valor: 1\n",
      "Digite um valor: 2\n",
      "Digite um valor: 3\n",
      "Digite um valor: 4\n",
      "Digite um valor: 5\n",
      "Digite um valor: 0\n",
      "Acabou, tivemos 2 pares e 3 impares\n"
     ]
    }
   ],
   "source": [
    "n = 1\n",
    "par = 0\n",
    "impar = 0 \n",
    "while n != 0:\n",
    "    n = int(input('Digite um valor: '))\n",
    "    if n != 0:\n",
    "        if n % 2 == 0:\n",
    "            par += 1\n",
    "        else:\n",
    "            impar += 1 \n",
    "print('Acabou, tivemos {} pares e {} impares'.format(par,impar))"
   ]
  },
  {
   "cell_type": "markdown",
   "id": "e2e152cc",
   "metadata": {},
   "source": [
    "## Exercícios "
   ]
  },
  {
   "cell_type": "raw",
   "id": "269969f1",
   "metadata": {},
   "source": [
    "1 - Faça um programa que leia o sexo de uma pessoa, mas só aceite os valores 'M' ou 'F'. Caso esteja errado, peça a digitação \n",
    "novamente até ter um valor correto."
   ]
  },
  {
   "cell_type": "code",
   "execution_count": null,
   "id": "3309366b",
   "metadata": {},
   "outputs": [],
   "source": []
  },
  {
   "cell_type": "raw",
   "id": "4d991e51",
   "metadata": {},
   "source": [
    "2 - Melhore o jogo DESAFIO 028 onde o computador vai \"pensar\" em um número entre 0 e 10. Só que agora o jogador vai tentar\n",
    "advininhar até acertar, mostrando nop final quantos palpites foram necessários para vencer."
   ]
  },
  {
   "cell_type": "code",
   "execution_count": null,
   "id": "1f945505",
   "metadata": {},
   "outputs": [],
   "source": []
  },
  {
   "cell_type": "raw",
   "id": "ea4040b6",
   "metadata": {},
   "source": [
    "3 - Crie um programa que leia dois valores e mostre um menu na tela:\n",
    "    [1] Somar \n",
    "    [2] Multiplicar \n",
    "    [3] Maior \n",
    "    [4] Novos números \n",
    "    [5] Sair do programa \n",
    "Seu programa deverá realizar a operação solicitada em cada caso. "
   ]
  },
  {
   "cell_type": "code",
   "execution_count": null,
   "id": "94d02a2b",
   "metadata": {},
   "outputs": [],
   "source": []
  },
  {
   "cell_type": "raw",
   "id": "02a4d8f6",
   "metadata": {},
   "source": [
    "4 - Faça um programa que leia um número qualquer e mostre o seu fatorial.\n",
    "Ex:\n",
    "    5! = 5*4*3*2*1 = 120 "
   ]
  },
  {
   "cell_type": "code",
   "execution_count": null,
   "id": "bd66c638",
   "metadata": {},
   "outputs": [],
   "source": []
  },
  {
   "cell_type": "raw",
   "id": "2be80cb2",
   "metadata": {},
   "source": [
    "5 - Refaça o Desafio 051, lendo o primeiro termo e a razão de uma PA, mostrando os 10 primeiros termos da progressão usando \n",
    "a estrutura while."
   ]
  },
  {
   "cell_type": "code",
   "execution_count": null,
   "id": "7949a3d4",
   "metadata": {},
   "outputs": [],
   "source": []
  },
  {
   "cell_type": "raw",
   "id": "9a091708",
   "metadata": {},
   "source": [
    "6 - Melhore o Desafio 061, perguntando para o usuário se ele quer mostrar mais alguns termos. O programa encerra quando ele\n",
    "disse que quer mostrar 0 termos."
   ]
  },
  {
   "cell_type": "code",
   "execution_count": null,
   "id": "ffe04b5e",
   "metadata": {},
   "outputs": [],
   "source": []
  },
  {
   "cell_type": "raw",
   "id": "bdba92ff",
   "metadata": {},
   "source": [
    "7 - Escreva um programa que leia um número n inteiro qualquer e mostre na tela os n primeiros elementos de uma sequência de\n",
    "Fibonacci. \n",
    "Ex: \n",
    "    0 - 1 - 1 - 2 - 3 - 5 - 8  "
   ]
  },
  {
   "cell_type": "code",
   "execution_count": null,
   "id": "7d6a1b20",
   "metadata": {},
   "outputs": [],
   "source": []
  },
  {
   "cell_type": "raw",
   "id": "3ef22fe1",
   "metadata": {},
   "source": [
    "8 - Crie um programa que leia vários números inteiros pelo teclado. O programa só vai parar quando o usuário digitar o valor\n",
    "999, que é a condição de parada. No final, mostre quantos números foram digitados e qual foi a soma entre eles(Desconsiderando\n",
    "o flag)."
   ]
  },
  {
   "cell_type": "code",
   "execution_count": null,
   "id": "f0e4f8d6",
   "metadata": {},
   "outputs": [],
   "source": []
  },
  {
   "cell_type": "raw",
   "id": "ab898019",
   "metadata": {},
   "source": [
    "9 - Crie um programa que leia vários númeos inteiros pelo teclado. No final da execução, mostre a média entre todos os valores\n",
    "e qual foi o maior e o menor valores lidos. O programa deve perguntar ao usuário se ele quer ou não continuar a digitar valores."
   ]
  },
  {
   "cell_type": "code",
   "execution_count": null,
   "id": "2fd4bb85",
   "metadata": {},
   "outputs": [],
   "source": []
  }
 ],
 "metadata": {
  "kernelspec": {
   "display_name": "Python 3",
   "language": "python",
   "name": "python3"
  },
  "language_info": {
   "codemirror_mode": {
    "name": "ipython",
    "version": 3
   },
   "file_extension": ".py",
   "mimetype": "text/x-python",
   "name": "python",
   "nbconvert_exporter": "python",
   "pygments_lexer": "ipython3",
   "version": "3.8.8"
  },
  "toc": {
   "base_numbering": 1,
   "nav_menu": {},
   "number_sections": true,
   "sideBar": true,
   "skip_h1_title": false,
   "title_cell": "Table of Contents",
   "title_sidebar": "Contents",
   "toc_cell": false,
   "toc_position": {},
   "toc_section_display": true,
   "toc_window_display": false
  },
  "varInspector": {
   "cols": {
    "lenName": 16,
    "lenType": 16,
    "lenVar": 40
   },
   "kernels_config": {
    "python": {
     "delete_cmd_postfix": "",
     "delete_cmd_prefix": "del ",
     "library": "var_list.py",
     "varRefreshCmd": "print(var_dic_list())"
    },
    "r": {
     "delete_cmd_postfix": ") ",
     "delete_cmd_prefix": "rm(",
     "library": "var_list.r",
     "varRefreshCmd": "cat(var_dic_list()) "
    }
   },
   "types_to_exclude": [
    "module",
    "function",
    "builtin_function_or_method",
    "instance",
    "_Feature"
   ],
   "window_display": false
  }
 },
 "nbformat": 4,
 "nbformat_minor": 5
}
