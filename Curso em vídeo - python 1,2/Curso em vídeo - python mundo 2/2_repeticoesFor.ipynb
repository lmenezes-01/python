{
 "cells": [
  {
   "cell_type": "markdown",
   "id": "6f0ca43d",
   "metadata": {},
   "source": [
    "# Estrutura de repetição,laços ou interações - FOR "
   ]
  },
  {
   "cell_type": "raw",
   "id": "e3a53f98",
   "metadata": {},
   "source": [
    "Repetição de comenados até chegar no resultado esperado. \n",
    "\n",
    "Ideia:\n",
    "laço c no intervalo(1,10)\n",
    "    passo \n",
    "pega \n",
    "\n",
    "python:\n",
    "for c in range(1,10):\n",
    "    passo \n",
    "pega \n",
    "\n",
    "Ele tira o último  número no Range \n",
    "Colocar o -1, conta para trás "
   ]
  },
  {
   "cell_type": "code",
   "execution_count": 7,
   "id": "6e8ff30e",
   "metadata": {},
   "outputs": [
    {
     "name": "stdout",
     "output_type": "stream",
     "text": [
      "6\n",
      "5\n",
      "4\n",
      "3\n",
      "2\n",
      "1\n",
      "Fim\n"
     ]
    }
   ],
   "source": [
    "for c in range(6,0, -1):\n",
    "    print(c)\n",
    "print('Fim')"
   ]
  },
  {
   "cell_type": "code",
   "execution_count": 10,
   "id": "65926bbd",
   "metadata": {},
   "outputs": [
    {
     "name": "stdout",
     "output_type": "stream",
     "text": [
      "Digite um número:5\n",
      "0\n",
      "1\n",
      "2\n",
      "3\n",
      "4\n",
      "Fim\n"
     ]
    }
   ],
   "source": [
    "n = int(input('Digite um número:'))\n",
    "for c in range(0,n):\n",
    "    print(c)\n",
    "print('Fim')"
   ]
  },
  {
   "cell_type": "code",
   "execution_count": 11,
   "id": "6d9c20aa",
   "metadata": {},
   "outputs": [
    {
     "name": "stdout",
     "output_type": "stream",
     "text": [
      "Ínicio:2\n",
      "Fim:8\n",
      "Passo:2\n",
      "2\n",
      "4\n",
      "6\n",
      "Fim\n"
     ]
    }
   ],
   "source": [
    "i = int(input('Ínicio:'))\n",
    "f = int(input('Fim:'))\n",
    "p = int(input('Passo:'))\n",
    "for c in range(i,f,p):\n",
    "    print(c)\n",
    "print('Fim')"
   ]
  },
  {
   "cell_type": "markdown",
   "id": "aca77a14",
   "metadata": {},
   "source": [
    "## Desafios\n"
   ]
  },
  {
   "cell_type": "raw",
   "id": "580ca52a",
   "metadata": {},
   "source": [
    "1 - Faça um programa que mostre na tela uma contagem regressiva para o estouro de fogos de artifício, indo 10 até 0, com uma \n",
    "pausa de 1 segundo entre eles. "
   ]
  },
  {
   "cell_type": "code",
   "execution_count": 13,
   "id": "c1c1167b",
   "metadata": {},
   "outputs": [
    {
     "name": "stdout",
     "output_type": "stream",
     "text": [
      "10\n",
      "9\n",
      "8\n",
      "7\n",
      "6\n",
      "5\n",
      "4\n",
      "3\n",
      "2\n",
      "1\n",
      "0\n",
      "Fogos!!!\n"
     ]
    }
   ],
   "source": [
    "from time import sleep\n",
    "for x in range(10,-1,-1):\n",
    "    print(x)\n",
    "    sleep(1)\n",
    "print('Fogos!!!')"
   ]
  },
  {
   "cell_type": "raw",
   "id": "a934a4e4",
   "metadata": {},
   "source": [
    "2 - Crie um programa que mostre na tela todos os números pares que estão no intervalo entre 1 e 50."
   ]
  },
  {
   "cell_type": "code",
   "execution_count": 16,
   "id": "c8030433",
   "metadata": {},
   "outputs": [
    {
     "name": "stdout",
     "output_type": "stream",
     "text": [
      "0\n",
      "2\n",
      "4\n",
      "6\n",
      "8\n",
      "10\n",
      "12\n",
      "14\n",
      "16\n",
      "18\n",
      "20\n",
      "22\n",
      "24\n",
      "26\n",
      "28\n",
      "30\n",
      "32\n",
      "34\n",
      "36\n",
      "38\n",
      "40\n",
      "42\n",
      "44\n",
      "46\n",
      "48\n",
      "Fim\n"
     ]
    }
   ],
   "source": [
    "for x in range(1,51,2):\n",
    "    print(x-1)\n",
    "print('Fim')"
   ]
  },
  {
   "cell_type": "raw",
   "id": "aaf3b266",
   "metadata": {},
   "source": [
    "3 - Faça um programa que calcule a soma entre todos os números ímpares que são múltiplos de três e que se encontram no intervalo\n",
    "de 1 até 100 "
   ]
  },
  {
   "cell_type": "code",
   "execution_count": 9,
   "id": "857de84f",
   "metadata": {},
   "outputs": [
    {
     "name": "stdout",
     "output_type": "stream",
     "text": [
      "A soma de todos os 83 valores solicitados é 20667\n"
     ]
    }
   ],
   "source": [
    "soma = 0 \n",
    "cont = 0 \n",
    "for x in range(1,501,2):\n",
    "    if x % 3 ==0:\n",
    "        cont += 1\n",
    "        soma += x \n",
    "print('A soma de todos os {} valores solicitados é {}'.format(cont,soma))\n"
   ]
  },
  {
   "cell_type": "raw",
   "id": "dd36334f",
   "metadata": {},
   "source": [
    "4 - Refaça o DESAFIO 009, mostrando a tabuada de um número que o usuário escolher, só que agora utilizando um laço for."
   ]
  },
  {
   "cell_type": "code",
   "execution_count": 14,
   "id": "6b5692e9",
   "metadata": {},
   "outputs": [
    {
     "name": "stdout",
     "output_type": "stream",
     "text": [
      "Digite um valor e descubra sua tabuada:10\n",
      "10 x  1 = 10\n",
      "10 x  2 = 20\n",
      "10 x  3 = 30\n",
      "10 x  4 = 40\n",
      "10 x  5 = 50\n",
      "10 x  6 = 60\n",
      "10 x  7 = 70\n",
      "10 x  8 = 80\n",
      "10 x  9 = 90\n",
      "10 x 10 = 100\n"
     ]
    }
   ],
   "source": [
    "x = int(input('Digite um valor e descubra sua tabuada:'))\n",
    "for mult in range(1,11):\n",
    "    print('{} x {:2} = {}'.format(x,mult,x*mult))\n",
    "    "
   ]
  },
  {
   "cell_type": "raw",
   "id": "14901f1e",
   "metadata": {},
   "source": [
    "5 - Desenvolva um programa que leia seis números inteiros e mostre a soma apenas daqueles que forem pares. Se o valor digitado \n",
    "for ímpar, desconsidere-o "
   ]
  },
  {
   "cell_type": "code",
   "execution_count": 22,
   "id": "ae05c877",
   "metadata": {},
   "outputs": [
    {
     "name": "stdout",
     "output_type": "stream",
     "text": [
      "Digite seis números inteiros e saiba a soma daqueles que forem par\n",
      "Valor 1: 3\n",
      "Valor 2: 6\n",
      "Valor 3: 9\n",
      "Valor 4: 2\n",
      "Valor 5: 4\n",
      "Valor 6: 6\n",
      "A quantidade de números pares foi 4 e a soma total é 18\n"
     ]
    }
   ],
   "source": [
    "print('Digite seis números inteiros e saiba a soma daqueles que forem par')\n",
    "soma = 0 \n",
    "count = 0 \n",
    "for x in range(1,7):\n",
    "    c = int(input('Valor {}: '.format(x)))\n",
    "    if c % 2 == 0:\n",
    "        soma += c \n",
    "        count += 1  \n",
    "print('A quantidade de números pares foi {} e a soma total é {}'.format(count, soma))"
   ]
  },
  {
   "cell_type": "raw",
   "id": "a0bad39a",
   "metadata": {},
   "source": [
    "6 - Desevolva um programa que leia o primeiro termo e a razão de uma PA. No final, mostre os 10 primeiros termos dessa progressão"
   ]
  },
  {
   "cell_type": "code",
   "execution_count": 37,
   "id": "58570bf6",
   "metadata": {},
   "outputs": [
    {
     "name": "stdout",
     "output_type": "stream",
     "text": [
      "====================\n",
      "10 TERMOS DE UMA PA\n",
      "====================\n",
      "Digite o primeiro termo da sua PA: 0\n",
      "Digite a razão da sua PA: 2\n",
      "0 - 2 - 4 - 6 - 8 - 10 - 12 - 14 - 16 - Acabou\n"
     ]
    }
   ],
   "source": [
    "print('=='*10)\n",
    "print('10 TERMOS DE UMA PA')\n",
    "print('=='*10)\n",
    "\n",
    "termo = int(input('Digite o primeiro termo da sua PA: '))\n",
    "razao = int(input('Digite a razão da sua PA: '))\n",
    "decimo = termo + (10 - 1) * razao #Cálculo para pegar os 10 números na razao\n",
    "\n",
    "for x in range(termo,decimo,razao):\n",
    "    print('{}'.format(x), end=' - ')\n",
    "print('Acabou')"
   ]
  },
  {
   "cell_type": "raw",
   "id": "2a9d771b",
   "metadata": {},
   "source": [
    "7 - Faça um programa que leia um número inteiro e diga se ele é ou não um número primo "
   ]
  },
  {
   "cell_type": "code",
   "execution_count": 52,
   "id": "354423d3",
   "metadata": {},
   "outputs": [
    {
     "name": "stdout",
     "output_type": "stream",
     "text": [
      "Digite um número: 5\n",
      "\u001b[34m 1 \u001b[31m 2 \u001b[31m 3 \u001b[31m 4 \u001b[34m 5 \n",
      "\u001b[m O número 5 foi divisível 2 vezes\n",
      "E por isso que ele É PRIMO!\n"
     ]
    }
   ],
   "source": [
    "num = int(input('Digite um número: '))\n",
    "tot = 0 \n",
    "for c in range(1,num+1):\n",
    "    if num % c == 0:\n",
    "        print('\\033[34m', end=' ')\n",
    "        tot += 1\n",
    "    else:\n",
    "        print('\\033[31m', end=' ')\n",
    "    print('{}'.format(c), end=' ')\n",
    "print('\\n\\033[m O número {} foi divisível {} vezes'.format(num,tot))\n",
    "if tot == 2:\n",
    "    print('E por isso que ele É PRIMO!')\n",
    "else: \n",
    "    print('E por isso ele NÃO É PRIMO!')"
   ]
  },
  {
   "cell_type": "raw",
   "id": "b3dea27c",
   "metadata": {},
   "source": [
    "8 - Crie um programa que leia uma frase qualquer e diga se ela é um palíndromo, desconsiderando os espaços. \n",
    "\n",
    "Ex: O lobo ama o bolo "
   ]
  },
  {
   "cell_type": "code",
   "execution_count": 69,
   "id": "f87d607d",
   "metadata": {},
   "outputs": [
    {
     "name": "stdout",
     "output_type": "stream",
     "text": [
      "Digite uma frase: lucas estuda python\n",
      "O inverso de LUCASESTUDAPYTHON é NOHTYPADUTSESACUL\n",
      "A frase LUCAS ESTUDA PYTHON NÃO É PALÍNDROMO\n"
     ]
    }
   ],
   "source": [
    "#Usando For \n",
    "frase = str(input('Digite uma frase: ')).strip().upper() #.strip() - Função que tira os espaços  \n",
    "palavras = frase.split() #.split() - Cria uma lista de cada palavra escrita \n",
    "junto = ''.join(palavras) #Junção das palavras sem espaço \n",
    "inverso = ''\n",
    "for letra in range(len(junto) - 1, -1, -1):\n",
    "    inverso += junto[letra]\n",
    "print('O inverso de {} é {}'.format(junto,inverso))\n",
    "if inverso == junto:\n",
    "    print('A frase {} É PALÍNDROMO'.format(frase))\n",
    "else:\n",
    "    print('A frase {} NÃO É PALÍNDROMO'.format(frase))"
   ]
  },
  {
   "cell_type": "code",
   "execution_count": 73,
   "id": "2f60c423",
   "metadata": {},
   "outputs": [
    {
     "name": "stdout",
     "output_type": "stream",
     "text": [
      "Digite uma frase: o lobo ama o bolo\n",
      "O inverso de OLOBOAMAOBOLO é OLOBOAMAOBOLO\n",
      "A frase O LOBO AMA O BOLO É PALÍNDROMO\n"
     ]
    }
   ],
   "source": [
    "#Usando fatiamento \n",
    "frase = str(input('Digite uma frase: ')).strip().upper() #.strip() - Função que tira os espaços  \n",
    "palavras = frase.split() #.split() - Cria uma lista de cada palavra escrita \n",
    "junto = ''.join(palavras) #Junção das palavras sem espaço \n",
    "inverso = junto[::-1]\n",
    "print('O inverso de {} é {}'.format(junto,inverso))\n",
    "if inverso == junto:\n",
    "    print('A frase {} É PALÍNDROMO'.format(frase))\n",
    "else:\n",
    "    print('A frase {} NÃO É PALÍNDROMO'.format(frase))"
   ]
  },
  {
   "cell_type": "raw",
   "id": "7928ba02",
   "metadata": {},
   "source": [
    "9 - Crie um programa que leia o ano de nascimento de sete pessoas. No final, mostre quantas pessoas ainda não atingiram a maioridade e quantos já são maiores "
   ]
  },
  {
   "cell_type": "code",
   "execution_count": 92,
   "id": "f69b27a0",
   "metadata": {},
   "outputs": [
    {
     "name": "stdout",
     "output_type": "stream",
     "text": [
      "Em que ano a 1ª pessoa nasceu? 2000\n",
      "Em que ano a 2ª pessoa nasceu? 2001\n",
      "Em que ano a 3ª pessoa nasceu? 2010\n",
      "Em que ano a 4ª pessoa nasceu? 2005\n",
      "Em que ano a 5ª pessoa nasceu? 2006\n",
      "Em que ano a 6ª pessoa nasceu? 2002\n",
      "Em que ano a 7ª pessoa nasceu? 1980\n",
      "Dos sete anos de nascimento informados, 3 são menores e 4 são maiores de idade\n"
     ]
    }
   ],
   "source": [
    "from datetime import date  \n",
    "atual = date.today().year\n",
    "totmaior = 0\n",
    "totmenor = 0\n",
    "for i in range(1,8):\n",
    "    nasc = int(input('Em que ano a {}ª pessoa nasceu? '.format(i)))\n",
    "    idade = atual - nasc \n",
    "    if idade >= 21: \n",
    "        totmaior += 1\n",
    "    else: \n",
    "        totmenor += 1 \n",
    "print('Dos sete anos de nascimento informados, {} são menores e {} são maiores de idade'.format(totmaior,totmenor))\n",
    "\n"
   ]
  },
  {
   "cell_type": "raw",
   "id": "eedf5c49",
   "metadata": {},
   "source": [
    "10 - Faça um programa que leia o peso de cinco pessoas. No final, mostre qual foi o maior e o menor peso lidos. "
   ]
  },
  {
   "cell_type": "code",
   "execution_count": 108,
   "id": "68ca6c7e",
   "metadata": {},
   "outputs": [
    {
     "name": "stdout",
     "output_type": "stream",
     "text": [
      "Peso da 1ª pessoa: 50\n",
      "Peso da 2ª pessoa: 20\n",
      "Peso da 3ª pessoa: 32\n",
      "Peso da 4ª pessoa: 65\n",
      "Peso da 5ª pessoa: 98\n",
      "O maior peso lido foi de 98.0Kg\n",
      "O menor peso lido foi de 20.0Kg\n"
     ]
    }
   ],
   "source": [
    "maior = 0 \n",
    "menor = 0 \n",
    "for p in range(1, 6):\n",
    "    peso = float(input('Peso da {}ª pessoa: '.format(p)))\n",
    "    if p == 1: \n",
    "        maior = peso\n",
    "        menor = peso\n",
    "    else: \n",
    "        if peso > maior: \n",
    "            maior = peso \n",
    "        if peso < menor: \n",
    "            menor = peso \n",
    "print('O maior peso lido foi de {}Kg'.format(maior))\n",
    "print('O menor peso lido foi de {}Kg'.format(menor))\n",
    "    \n"
   ]
  },
  {
   "cell_type": "raw",
   "id": "eb605c4c",
   "metadata": {},
   "source": [
    "11 - Desenvolva um programa que leia o nome,idade e sexo de 4 pessoas. No final do programa, mostre: \n",
    "    - A média de idade do grupo.\n",
    "    - Qual é o nome do homem mais velho.\n",
    "    - Quantas mulheres têm menos de 20 anos "
   ]
  },
  {
   "cell_type": "code",
   "execution_count": 2,
   "id": "d23f6bcd",
   "metadata": {},
   "outputs": [
    {
     "name": "stdout",
     "output_type": "stream",
     "text": [
      "----- 1ª PESSOA -----\n",
      "Nome: João \n",
      "Idade: 78\n",
      "Sexo [M/F]: M\n",
      "----- 2ª PESSOA -----\n",
      "Nome: Julia \n",
      "Idade: 15\n",
      "Sexo [M/F]: F\n",
      "----- 3ª PESSOA -----\n",
      "Nome: Paulo \n",
      "Idade: 10\n",
      "Sexo [M/F]: M\n",
      "----- 4ª PESSOA -----\n",
      "Nome: Carla \n",
      "Idade: 80\n",
      "Sexo [M/F]: F\n",
      "A média de idade do grupo é 45.75 anos\n",
      "O homem mais velho tem 78 anos e se chama João\n",
      "Ao todo são 1 mulher(es) com menos de 20 anos\n"
     ]
    }
   ],
   "source": [
    "count = 0\n",
    "soma_idade = 0 \n",
    "maior_idade = 0 \n",
    "nomevelho = ''\n",
    "sexo_fem = 0\n",
    "for p in range(1,5):\n",
    "    print('----- {}ª PESSOA -----'.format(p))\n",
    "    nome = str(input('Nome: ')).strip()\n",
    "    idade = int(input('Idade: '))\n",
    "    sexo = str(input('Sexo [M/F]: ')).strip()\n",
    "    soma_idade += idade\n",
    "    count += 1\n",
    "    if p == 1 and sexo in 'Mm':\n",
    "        maior_idade = idade  \n",
    "        nomevelho = nome\n",
    "    if sexo in 'Mm' and idade > maior_idade:\n",
    "        maior_idade = idade \n",
    "        nomevelho = nome \n",
    "    if sexo in 'Ff' and idade < 20:\n",
    "        sexo_fem += 1\n",
    "            \n",
    "calc_media = soma_idade/count\n",
    "print('A média de idade do grupo é {:.2f} anos'.format(calc_media))    \n",
    "print('O homem mais velho tem {} anos e se chama {}'.format(maior_idade, nomevelho))\n",
    "print('Ao todo são {} mulher(es) com menos de 20 anos'.format(sexo_fem))\n",
    "\n",
    "\n",
    "\n"
   ]
  }
 ],
 "metadata": {
  "kernelspec": {
   "display_name": "Python 3",
   "language": "python",
   "name": "python3"
  },
  "language_info": {
   "codemirror_mode": {
    "name": "ipython",
    "version": 3
   },
   "file_extension": ".py",
   "mimetype": "text/x-python",
   "name": "python",
   "nbconvert_exporter": "python",
   "pygments_lexer": "ipython3",
   "version": "3.8.8"
  },
  "toc": {
   "base_numbering": 1,
   "nav_menu": {},
   "number_sections": true,
   "sideBar": true,
   "skip_h1_title": false,
   "title_cell": "Table of Contents",
   "title_sidebar": "Contents",
   "toc_cell": false,
   "toc_position": {},
   "toc_section_display": true,
   "toc_window_display": false
  },
  "varInspector": {
   "cols": {
    "lenName": 16,
    "lenType": 16,
    "lenVar": 40
   },
   "kernels_config": {
    "python": {
     "delete_cmd_postfix": "",
     "delete_cmd_prefix": "del ",
     "library": "var_list.py",
     "varRefreshCmd": "print(var_dic_list())"
    },
    "r": {
     "delete_cmd_postfix": ") ",
     "delete_cmd_prefix": "rm(",
     "library": "var_list.r",
     "varRefreshCmd": "cat(var_dic_list()) "
    }
   },
   "types_to_exclude": [
    "module",
    "function",
    "builtin_function_or_method",
    "instance",
    "_Feature"
   ],
   "window_display": false
  }
 },
 "nbformat": 4,
 "nbformat_minor": 5
}
