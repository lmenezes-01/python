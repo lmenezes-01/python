{
 "cells": [
  {
   "cell_type": "markdown",
   "id": "3d8df002",
   "metadata": {},
   "source": [
    "# Listas "
   ]
  },
  {
   "cell_type": "markdown",
   "id": "6ac9966e",
   "metadata": {},
   "source": [
    "- Lista são mutáveis \n",
    "- Usam ()  "
   ]
  },
  {
   "cell_type": "code",
   "execution_count": 8,
   "id": "d56143b7",
   "metadata": {},
   "outputs": [
    {
     "name": "stdout",
     "output_type": "stream",
     "text": [
      "['hamburguer', 'soda', 'pudim', 'frango']\n",
      "<class 'list'>\n"
     ]
    }
   ],
   "source": [
    "lista = ['hamburguer','soda','pudim','frango']\n",
    "print(lista)\n",
    "print(type(lista))"
   ]
  },
  {
   "cell_type": "code",
   "execution_count": 10,
   "id": "0d8c1a84",
   "metadata": {},
   "outputs": [
    {
     "name": "stdout",
     "output_type": "stream",
     "text": [
      "['hamburguer', 'soda', 'pudim', 'frango', 'cookie']\n"
     ]
    }
   ],
   "source": [
    "#Adicionando dados a lista \n",
    "lista.append('cookie') #A função append() - adiciona dados a lista \n",
    "print(lista)"
   ]
  },
  {
   "cell_type": "code",
   "execution_count": 12,
   "id": "56d40179",
   "metadata": {},
   "outputs": [
    {
     "name": "stdout",
     "output_type": "stream",
     "text": [
      "['hot dog', 'hot dog', 'hamburguer', 'soda', 'pudim', 'frango', 'cookie']\n"
     ]
    }
   ],
   "source": [
    "#Adicionando dados sem alterar os itens da lista \n",
    "lista.insert(0,'hot dog') #O valor 0 é aonde eu quero adicionar o item \n",
    "print(lista)"
   ]
  },
  {
   "cell_type": "code",
   "execution_count": 13,
   "id": "0b6b3348",
   "metadata": {},
   "outputs": [
    {
     "name": "stdout",
     "output_type": "stream",
     "text": [
      "['hot dog', 'hot dog', 'hamburguer', 'soda', 'pudim', 'frango', 'cookie']\n",
      "['hot dog', 'hamburguer', 'soda', 'pudim', 'frango', 'cookie']\n",
      "['hot dog', 'hamburguer', 'soda', 'frango', 'cookie']\n"
     ]
    }
   ],
   "source": [
    "#Eliminando elementos da Lista \n",
    "print(lista)\n",
    "del lista[0] #Primeira forma \n",
    "print(lista)\n",
    "lista.pop(3) #Segunda forma usando função \n",
    "print(lista)"
   ]
  },
  {
   "cell_type": "code",
   "execution_count": 15,
   "id": "55ae63a4",
   "metadata": {},
   "outputs": [
    {
     "name": "stdout",
     "output_type": "stream",
     "text": [
      "['hot dog', 'hamburguer', 'soda', 'frango', 'cookie']\n",
      "['hamburguer', 'soda', 'frango', 'cookie']\n"
     ]
    }
   ],
   "source": [
    "#Outra forma de eliminar é usando o remove()\n",
    "print(lista)\n",
    "lista.remove('hot dog') #Função remove(), você passa o nome ou valor armazenado dentro da variável\n",
    "print(lista)"
   ]
  },
  {
   "cell_type": "code",
   "execution_count": 16,
   "id": "e6e1a254",
   "metadata": {},
   "outputs": [
    {
     "name": "stdout",
     "output_type": "stream",
     "text": [
      "['hamburguer', 'frango', 'cookie']\n"
     ]
    }
   ],
   "source": [
    "#Usando IF \n",
    "if 'soda' in lista:\n",
    "    lista.remove('soda')\n",
    "print(lista)"
   ]
  },
  {
   "cell_type": "code",
   "execution_count": 19,
   "id": "7464bc18",
   "metadata": {},
   "outputs": [
    {
     "name": "stdout",
     "output_type": "stream",
     "text": [
      "[4, 5, 6, 7, 8, 9, 10]\n"
     ]
    }
   ],
   "source": [
    "#É possível criar listas usando range \n",
    "valores = list(range(4,11))\n",
    "print(valores)"
   ]
  },
  {
   "cell_type": "code",
   "execution_count": 25,
   "id": "bb01f6a2",
   "metadata": {},
   "outputs": [
    {
     "name": "stdout",
     "output_type": "stream",
     "text": [
      "[8, 2, 3, 4, 6, 5]\n"
     ]
    }
   ],
   "source": [
    "#Ordenando listas\n",
    "valores1 = [8,2,3,4,6,5]\n",
    "print(valores1)\n",
    "valores1.sort() #Crescente \n",
    "valores1.sort(reverse=True) #Ordem reversa "
   ]
  },
  {
   "cell_type": "code",
   "execution_count": 28,
   "id": "fc9bef71",
   "metadata": {},
   "outputs": [
    {
     "name": "stdout",
     "output_type": "stream",
     "text": [
      "[10, 9, 8, 7, 6, 5, 4]\n"
     ]
    },
    {
     "data": {
      "text/plain": [
       "7"
      ]
     },
     "execution_count": 28,
     "metadata": {},
     "output_type": "execute_result"
    }
   ],
   "source": [
    "#Quantidade de dados dentro da lista \n",
    "print(valores)\n",
    "len(valores)"
   ]
  },
  {
   "cell_type": "markdown",
   "id": "67ea69d0",
   "metadata": {},
   "source": [
    "## Conteúdo na prática "
   ]
  },
  {
   "cell_type": "code",
   "execution_count": 32,
   "id": "82cfa613",
   "metadata": {},
   "outputs": [
    {
     "name": "stdout",
     "output_type": "stream",
     "text": [
      "[2, 5, 9, 1]\n",
      "[2, 5, 3, 1]\n"
     ]
    }
   ],
   "source": [
    "#Alterando alor \n",
    "num = [2,5,9,1]\n",
    "print(num)\n",
    "num[2] = 3\n",
    "print(num)"
   ]
  },
  {
   "cell_type": "code",
   "execution_count": 33,
   "id": "d1f4bdaa",
   "metadata": {},
   "outputs": [
    {
     "name": "stdout",
     "output_type": "stream",
     "text": [
      "[2, 5, 3, 1]\n",
      "[2, 5, 3, 1, 7]\n"
     ]
    }
   ],
   "source": [
    "#Colocando um novo valor na lista \n",
    "print(num)\n",
    "num.append(7)\n",
    "print(num)"
   ]
  },
  {
   "cell_type": "code",
   "execution_count": 34,
   "id": "df01dd23",
   "metadata": {},
   "outputs": [
    {
     "name": "stdout",
     "output_type": "stream",
     "text": [
      "[2, 5, 3, 1, 7]\n",
      "[1, 2, 3, 5, 7]\n"
     ]
    }
   ],
   "source": [
    "#Organizando a lista \n",
    "print(num)\n",
    "num.sort()\n",
    "print(num)"
   ]
  },
  {
   "cell_type": "code",
   "execution_count": 36,
   "id": "f632b374",
   "metadata": {},
   "outputs": [
    {
     "name": "stdout",
     "output_type": "stream",
     "text": [
      "Essa lista tem o total de 5 elementos\n"
     ]
    }
   ],
   "source": [
    "#Quantidade usando a função len()\n",
    "print(f'Essa lista tem o total de {len(num)} elementos')"
   ]
  },
  {
   "cell_type": "code",
   "execution_count": 37,
   "id": "c2236d5a",
   "metadata": {},
   "outputs": [
    {
     "name": "stdout",
     "output_type": "stream",
     "text": [
      "[1, 2, 3, 5, 7]\n",
      "[1, 2, 3, 4, 5, 7]\n"
     ]
    }
   ],
   "source": [
    "#Inserindo valor na lista sem modificar o que já tinha \n",
    "print(num)\n",
    "num.insert(3,4)\n",
    "print(num)"
   ]
  },
  {
   "cell_type": "code",
   "execution_count": 38,
   "id": "8b5c6af0",
   "metadata": {},
   "outputs": [
    {
     "name": "stdout",
     "output_type": "stream",
     "text": [
      "[1, 2, 3, 4, 5, 7]\n",
      "[2, 3, 4, 5, 7]\n",
      "[2, 3, 5, 7]\n",
      "[2, 3, 5]\n"
     ]
    }
   ],
   "source": [
    "#Excluindo valores\n",
    "print(num)\n",
    "del num[0] #1\n",
    "print(num)\n",
    "num.pop(2) #4 \n",
    "print(num)\n",
    "num.remove(7) #7\n",
    "print(num)"
   ]
  },
  {
   "cell_type": "code",
   "execution_count": 40,
   "id": "24fd7bfc",
   "metadata": {},
   "outputs": [
    {
     "name": "stdout",
     "output_type": "stream",
     "text": [
      "[2, 3, 5]\n",
      "Não tem o valor 1 na lista para ser excluído\n"
     ]
    }
   ],
   "source": [
    "#Usando lógica para deletar um valor \n",
    "print(num)\n",
    "if 1 in num:\n",
    "    num.remove(1)\n",
    "else:\n",
    "    print('Não tem o valor 1 na lista para ser excluído')"
   ]
  },
  {
   "cell_type": "code",
   "execution_count": 42,
   "id": "0a78f364",
   "metadata": {},
   "outputs": [
    {
     "name": "stdout",
     "output_type": "stream",
     "text": [
      "5...9...4..."
     ]
    }
   ],
   "source": [
    "#Treino \n",
    "\n",
    "valores = []\n",
    "valores.append(5)\n",
    "valores.append(9)\n",
    "valores.append(4)\n",
    "\n",
    "for v in valores: \n",
    "    print(f'{v}...',end='')"
   ]
  },
  {
   "cell_type": "code",
   "execution_count": 48,
   "id": "1a717ab5",
   "metadata": {},
   "outputs": [
    {
     "name": "stdout",
     "output_type": "stream",
     "text": [
      "Na posição 0, encontrei o valor 5!\n",
      "Na posição 1, encontrei o valor 9!\n",
      "Na posição 2, encontrei o valor 4!\n",
      "Cheguei ao final da lista\n"
     ]
    }
   ],
   "source": [
    "#Treino para saber o index \n",
    "\n",
    "valores = []\n",
    "valores.append(5)\n",
    "valores.append(9)\n",
    "valores.append(4)\n",
    "\n",
    "for c,v in enumerate(valores): \n",
    "    print(f'Na posição {c}, encontrei o valor {v}!')\n",
    "print('Cheguei ao final da lista')"
   ]
  },
  {
   "cell_type": "code",
   "execution_count": 50,
   "id": "0b453c59",
   "metadata": {},
   "outputs": [
    {
     "name": "stdout",
     "output_type": "stream",
     "text": [
      "Digite um valor: 2\n",
      "Digite um valor: 3\n",
      "Digite um valor: 6\n",
      "Digite um valor: 8\n",
      "Digite um valor: 78\n",
      "Na posição 0, encontrei o valor 2!\n",
      "Na posição 1, encontrei o valor 3!\n",
      "Na posição 2, encontrei o valor 6!\n",
      "Na posição 3, encontrei o valor 8!\n",
      "Na posição 4, encontrei o valor 78!\n",
      "Cheguei ao final da lista\n"
     ]
    }
   ],
   "source": [
    "#Treino digitando valores e sendo armazenados na lista\n",
    "valores = list()\n",
    "for cont in range(0,5):\n",
    "    valores.append(int(input('Digite um valor: ')))\n",
    "for c,v in enumerate(valores): \n",
    "    print(f'Na posição {c}, encontrei o valor {v}!')\n",
    "print('Cheguei ao final da lista')"
   ]
  },
  {
   "cell_type": "code",
   "execution_count": 53,
   "id": "118cf58c",
   "metadata": {},
   "outputs": [
    {
     "name": "stdout",
     "output_type": "stream",
     "text": [
      "Lista [2, 3, 8, 7]\n",
      "Lista [2, 3, 8, 7]\n"
     ]
    }
   ],
   "source": [
    "#Atenção - Agregando uma lista a outra variável, ela será alterada. Pois o Python faz uma ligação \n",
    "a = [2,3,4,7]\n",
    "b = a \n",
    "b[2] = 8\n",
    "print(f'Lista {a}')\n",
    "print(f'Lista {b}')"
   ]
  },
  {
   "cell_type": "code",
   "execution_count": 54,
   "id": "c0abf24a",
   "metadata": {},
   "outputs": [
    {
     "name": "stdout",
     "output_type": "stream",
     "text": [
      "Lista [2, 3, 4, 7]\n",
      "Lista [2, 3, 8, 7]\n"
     ]
    }
   ],
   "source": [
    "#Criando uma forma que não tenha ligação\n",
    "a = [2,3,4,7]\n",
    "b = a[:] \n",
    "b[2] = 8\n",
    "print(f'Lista {a}')\n",
    "print(f'Lista {b}')"
   ]
  },
  {
   "cell_type": "markdown",
   "id": "3c1cf81c",
   "metadata": {},
   "source": [
    "## Exercícios "
   ]
  },
  {
   "cell_type": "markdown",
   "id": "bb29e99f",
   "metadata": {},
   "source": [
    "78 - 1 - Faça um programa que leia 5 valores e guarde-os em uma lista.\n",
    "- No final, mostre qual foi o maior e o menor valor digitado."
   ]
  },
  {
   "cell_type": "code",
   "execution_count": 13,
   "id": "a4485909",
   "metadata": {},
   "outputs": [
    {
     "name": "stdout",
     "output_type": "stream",
     "text": [
      "Digite o valor da 1ª posição: 10\n",
      "Digite o valor da 2ª posição: 20\n",
      "Digite o valor da 3ª posição: 23\n",
      "Digite o valor da 4ª posição: 84\n",
      "Digite o valor da 5ª posição: 52\n",
      "Os valores digitados foram 10 20 23 84 52 \n",
      "Maior valor: 84\n",
      "Menor valor: 10\n"
     ]
    }
   ],
   "source": [
    "lista = list()\n",
    "menor = maior = 0 \n",
    "for n,x in enumerate(range(1,6)):\n",
    "    num = int(input(f'Digite o valor da {x}ª posição: '))\n",
    "    lista.append(num)\n",
    "print('Os valores digitados foram ',end='')\n",
    "for l in lista:\n",
    "        print(l, end=' ')\n",
    "print(f'\\nMaior valor: {max(lista)}')\n",
    "print(f'Menor valor: {min(lista)}')"
   ]
  },
  {
   "cell_type": "markdown",
   "id": "6d68444e",
   "metadata": {},
   "source": [
    "2 - Crie um programa que o usuário possa digitar vários valores numéricos e cadastre-os em uma lista. Caso o número já exista lá dentro, ele não será acionado. No final, serão exibidos todos os valores únicos digitados em ordem crescente. "
   ]
  },
  {
   "cell_type": "code",
   "execution_count": 39,
   "id": "a02ca15f",
   "metadata": {},
   "outputs": [
    {
     "name": "stdout",
     "output_type": "stream",
     "text": [
      "Digite um valor: 10\n",
      "Valor adicionado com sucesso!\n",
      "Quer continuar? [S/N]S\n",
      "Digite um valor: 32\n",
      "Valor adicionado com sucesso!\n",
      "Quer continuar? [S/N]S\n",
      "Digite um valor: 56\n",
      "Valor adicionado com sucesso!\n",
      "Quer continuar? [S/N]S\n",
      "Digite um valor: 56\n",
      "Valor duplicado!\n",
      "Quer continuar? [S/N]S\n",
      "Digite um valor: 10\n",
      "Valor duplicado!\n",
      "Quer continuar? [S/N]n\n",
      "Você digitou os valores [10, 32, 56]\n"
     ]
    }
   ],
   "source": [
    "numeros = list()\n",
    "r = ' '\n",
    "while True: \n",
    "    n = int(input('Digite um valor: '))\n",
    "    if n not in numeros:\n",
    "        numeros.append(n)\n",
    "        print('Valor adicionado com sucesso!')\n",
    "    else: \n",
    "        print('Valor duplicado!')\n",
    "    r = str(input('Quer continuar? [S/N]')).strip()[0]\n",
    "    if r in 'Nn':\n",
    "        break\n",
    "numeros.sort()\n",
    "print(f'Você digitou os valores {numeros}')\n"
   ]
  },
  {
   "cell_type": "markdown",
   "id": "6bc3ee2c",
   "metadata": {},
   "source": [
    "3 - Crie um programa que o usuário possa digitar 5 valores numéricos e cadastre-os em uma lista, já na posição correta de inserção(sem usar o sort())\n",
    "- No final, mostre a lista ordenada na tela "
   ]
  },
  {
   "cell_type": "code",
   "execution_count": 40,
   "id": "f5b948bc",
   "metadata": {},
   "outputs": [
    {
     "name": "stdout",
     "output_type": "stream",
     "text": [
      "Digite um valor: 10\n",
      "Adicionado no final da lista...\n",
      "Digite um valor: 32\n",
      "Adicionado no final da lista...\n",
      "Digite um valor: 8\n",
      "Adicionado na posição 0\n",
      "Digite um valor: 6\n",
      "Adicionado na posição 0\n",
      "Digite um valor: 9\n",
      "Adicionado na posição 2\n",
      "O valores digitados em ordem foram [6, 8, 9, 10, 32]\n"
     ]
    }
   ],
   "source": [
    "lista = []\n",
    "for c in range(0, 5):\n",
    "    n = int(input('Digite um valor: '))\n",
    "    if c == 0 or n > lista[-1]:\n",
    "        lista.append(n)\n",
    "        print('Adicionado no final da lista...')\n",
    "    else: \n",
    "        pos = 0 \n",
    "        while pos < len(lista):\n",
    "            if n <= lista[pos]:\n",
    "                lista.insert(pos, n)\n",
    "                print(f'Adicionado na posição {pos}')\n",
    "                break\n",
    "            pos += 1 \n",
    "print(f'O valores digitados em ordem foram {lista}')"
   ]
  },
  {
   "cell_type": "markdown",
   "id": "4b0db9b8",
   "metadata": {},
   "source": [
    "4 - Crie um programa que vai ler vários números e colocar em uma lista. Depois disso, mostre: \n",
    "- A) Quantos números foram digitados.\n",
    "- B) A lista de valores, ordenada de forma decrescente.\n",
    "- C) Se o valor 5 foi digitado e está ou não na lista."
   ]
  },
  {
   "cell_type": "code",
   "execution_count": 41,
   "id": "f4ad1769",
   "metadata": {},
   "outputs": [
    {
     "name": "stdout",
     "output_type": "stream",
     "text": [
      "Digite um valor: 10\n",
      "Deseja continuar [S/N]: S\n",
      "Digite um valor: 58\n",
      "Deseja continuar [S/N]: S\n",
      "Digite um valor: 6\n",
      "Deseja continuar [S/N]: S\n",
      "Digite um valor: 4\n",
      "Deseja continuar [S/N]: S\n",
      "Digite um valor: 25\n",
      "Deseja continuar [S/N]: n\n",
      "Total de valores informados: 5\n",
      "A lista em ordem decrescente: [58, 25, 10, 6, 4]\n",
      "O valor 5 foi digitado na lista? False\n"
     ]
    }
   ],
   "source": [
    "lista = list()\n",
    "continuar = ' '\n",
    "quant = 0 \n",
    "while continuar not in 'Nn':\n",
    "    num = int(input('Digite um valor: '))\n",
    "    lista.append(num)\n",
    "    continuar = str(input('Deseja continuar [S/N]: ')).strip()[0]\n",
    "print(f'Total de valores informados: {len(lista)}')\n",
    "lista.sort(reverse=True)\n",
    "print(f'A lista em ordem decrescente: {lista}')\n",
    "print(f'O valor 5 foi digitado na lista? {5 in lista}')    "
   ]
  },
  {
   "cell_type": "markdown",
   "id": "dd0ce2bf",
   "metadata": {},
   "source": [
    "5 - Crie um programa que vai ler vários números e colocar em uma lista. \n",
    "- Depois disso, crie duas listas extras que vão conter apenas os valores pares e os valores impares digitados, respectivamente.\n",
    "- Ao final, mostre o conteúdo das três listas geradas "
   ]
  },
  {
   "cell_type": "code",
   "execution_count": 42,
   "id": "38a24b36",
   "metadata": {},
   "outputs": [
    {
     "name": "stdout",
     "output_type": "stream",
     "text": [
      "Digite um valor: 25\n",
      "Deseja continuar? S\n",
      "Digite um valor: 55\n",
      "Deseja continuar? S\n",
      "Digite um valor: 5\n",
      "Deseja continuar? S\n",
      "Digite um valor: 41\n",
      "Deseja continuar? S\n",
      "Digite um valor: 8\n",
      "Deseja continuar? S\n",
      "Digite um valor: 2\n",
      "Deseja continuar? n\n",
      "Todos os valores: [25, 55, 5, 41, 8, 2]\n",
      "Valores pares: [8, 2]\n",
      "Valores impares: [25, 55, 5, 41]\n"
     ]
    }
   ],
   "source": [
    "listaTodos = []\n",
    "listaPar = []\n",
    "listaImpar = []\n",
    "continuar = ' '\n",
    "while continuar not in 'Nn':\n",
    "    num = int(input('Digite um valor: '))\n",
    "    listaTodos.append(num)\n",
    "    if num % 2 == 0:\n",
    "        listaPar.append(num)\n",
    "    else:\n",
    "        listaImpar.append(num)\n",
    "    continuar = str(input('Deseja continuar? ')).strip()[0]\n",
    "print(f'Todos os valores: {listaTodos}')\n",
    "print(f'Valores pares: {listaPar}')\n",
    "print(f'Valores impares: {listaImpar}')"
   ]
  },
  {
   "cell_type": "markdown",
   "id": "88e6dd84",
   "metadata": {},
   "source": [
    "6 - Crie um programa que o usuário digite uma expressão qualquer que use parênteses. Seu aplicativo deverá analisar a expressão passada está com os parênteses abertos e fechados na ordem correta.  "
   ]
  },
  {
   "cell_type": "code",
   "execution_count": 43,
   "id": "0881078f",
   "metadata": {},
   "outputs": [
    {
     "name": "stdout",
     "output_type": "stream",
     "text": [
      "Digite a expressão: x((a+b)*((c/d)+z)\n",
      "Sua expressão está errada!\n"
     ]
    }
   ],
   "source": [
    "expr = str(input('Digite a expressão: '))\n",
    "pilha = []\n",
    "for simb in expr:\n",
    "    if simb == '(':\n",
    "        pilha.append('(')\n",
    "    elif simb == ')':\n",
    "        if len(pilha) > 0:\n",
    "            pilha.pop()\n",
    "        else:\n",
    "            pilha.append(')')\n",
    "            break\n",
    "if len(pilha) == 0:\n",
    "    print('Sua expressão está válida!')\n",
    "else:\n",
    "    print('Sua expressão está errada!')"
   ]
  },
  {
   "cell_type": "markdown",
   "id": "4c7c9b02",
   "metadata": {},
   "source": [
    "# Lista (Part2)"
   ]
  },
  {
   "cell_type": "markdown",
   "id": "79271683",
   "metadata": {},
   "source": [
    "- Listas Compostas [][]"
   ]
  },
  {
   "cell_type": "code",
   "execution_count": 45,
   "id": "7cda8cef",
   "metadata": {},
   "outputs": [
    {
     "name": "stdout",
     "output_type": "stream",
     "text": [
      "['Pedro', 25]\n",
      "Pedro\n",
      "25\n"
     ]
    }
   ],
   "source": [
    "#Relembrando \n",
    "dados = list()\n",
    "dados.append('Pedro')\n",
    "dados.append(25)\n",
    "print(dados)\n",
    "print(dados[0])\n",
    "print(dados[1])"
   ]
  },
  {
   "cell_type": "code",
   "execution_count": 57,
   "id": "587c0eda",
   "metadata": {},
   "outputs": [
    {
     "name": "stdout",
     "output_type": "stream",
     "text": [
      "[['Pedro', 25]]\n"
     ]
    }
   ],
   "source": [
    "#Lista com listas internas \n",
    "pessoas = list()\n",
    "pessoas.append(dados[:]) #[:] - Gera um fatiamento completo da estrutura de dados\n",
    "print(pessoas)"
   ]
  },
  {
   "cell_type": "code",
   "execution_count": 58,
   "id": "a7957c3a",
   "metadata": {},
   "outputs": [
    {
     "name": "stdout",
     "output_type": "stream",
     "text": [
      "[['Pedro', 25], ['Maria', 19], ['João', 32]]\n"
     ]
    }
   ],
   "source": [
    "pessoas.append(['Maria',19])\n",
    "pessoas.append(['João',32])\n",
    "print(pessoas)"
   ]
  },
  {
   "cell_type": "code",
   "execution_count": 60,
   "id": "263da98f",
   "metadata": {},
   "outputs": [
    {
     "name": "stdout",
     "output_type": "stream",
     "text": [
      "[['Pedro', 25], ['Maria', 19], ['João', 32]]\n",
      "Pedro\n",
      "19\n",
      "João\n",
      "['Maria', 19]\n"
     ]
    }
   ],
   "source": [
    "print(pessoas)\n",
    "print(pessoas[0][0]) #Capturo o index 0 e o primeiro valor dentro. \n",
    "print(pessoas[1][1]) \n",
    "print(pessoas[2][0]) \n",
    "print(pessoas[1])"
   ]
  },
  {
   "cell_type": "markdown",
   "id": "6537bcfb",
   "metadata": {},
   "source": [
    "## Conteúdo na prática "
   ]
  },
  {
   "cell_type": "code",
   "execution_count": 66,
   "id": "06ca5003",
   "metadata": {},
   "outputs": [
    {
     "name": "stdout",
     "output_type": "stream",
     "text": [
      "[['Gustavo', 40], ['Maria', 22]]\n"
     ]
    }
   ],
   "source": [
    "teste = list()\n",
    "teste.append('Gustavo')\n",
    "teste.append(40)\n",
    "galera = list()\n",
    "galera.append(teste[:]) #Caso não coloque o [:] ele puxará a altreração anterior \n",
    "teste[0] = 'Maria'\n",
    "teste[1] = 22 \n",
    "galera.append(teste[:]) #Caso não coloque o [:] ele puxará a altreração anterior \n",
    "print(galera)"
   ]
  },
  {
   "cell_type": "code",
   "execution_count": 69,
   "id": "7176b79c",
   "metadata": {},
   "outputs": [
    {
     "name": "stdout",
     "output_type": "stream",
     "text": [
      "[['João', 19], ['Ana', 33], ['Joaquim', 13], ['Maria', 45]]\n"
     ]
    }
   ],
   "source": [
    "#fatiamento na lista composta \n",
    "galera = [['João', 19], ['Ana', 33], ['Joaquim', 13], ['Maria', 45]]\n",
    "print(galera)"
   ]
  },
  {
   "cell_type": "code",
   "execution_count": 70,
   "id": "57639db4",
   "metadata": {},
   "outputs": [
    {
     "name": "stdout",
     "output_type": "stream",
     "text": [
      "João\n",
      "45\n",
      "13\n"
     ]
    }
   ],
   "source": [
    "print(galera[0][0])\n",
    "print(galera[3][1])\n",
    "print(galera[2][-1])"
   ]
  },
  {
   "cell_type": "code",
   "execution_count": 73,
   "id": "a51c25bd",
   "metadata": {},
   "outputs": [
    {
     "name": "stdout",
     "output_type": "stream",
     "text": [
      "[['João', 19], ['Ana', 33], ['Joaquim', 13], ['Maria', 45]]\n",
      "João tem 19 anos de idade\n",
      "Ana tem 33 anos de idade\n",
      "Joaquim tem 13 anos de idade\n",
      "Maria tem 45 anos de idade\n"
     ]
    }
   ],
   "source": [
    "#Varrendo as listas com for\n",
    "print(galera)\n",
    "for p in galera:\n",
    "    print(f'{p[0]} tem {p[1]} anos de idade')"
   ]
  },
  {
   "cell_type": "code",
   "execution_count": 75,
   "id": "2be91578",
   "metadata": {},
   "outputs": [
    {
     "name": "stdout",
     "output_type": "stream",
     "text": [
      "Nome: Lucas\n",
      "Idade: 20\n",
      "Nome: Ana\n",
      "Idade: 78\n",
      "Nome: José\n",
      "Idade: 5\n",
      "[['Lucas', 20], ['Ana', 78], ['José', 5]]\n"
     ]
    }
   ],
   "source": [
    "#A lista dado, funciona para jogar as informações dentro da lista galera. \n",
    "#Após perguntar nome e idade, ele armazena na galera. E logo em seguida é limpa para armazenar novos dados. \n",
    "galera = list()\n",
    "dado = list()\n",
    "for c in range(0,3):\n",
    "    dado.append(str(input('Nome: ')))\n",
    "    dado.append(int(input('Idade: ')))\n",
    "    galera.append(dado[:])\n",
    "    dado.clear()\n",
    "print(galera)"
   ]
  },
  {
   "cell_type": "code",
   "execution_count": 79,
   "id": "a8e17d13",
   "metadata": {},
   "outputs": [
    {
     "name": "stdout",
     "output_type": "stream",
     "text": [
      "Lucas é maior de idade\n",
      "Ana é maior de idade\n",
      "José é menor de idade\n"
     ]
    }
   ],
   "source": [
    "#Como extrair quem é maior de idade\n",
    "for p in galera:\n",
    "    if p[1] >= 18:\n",
    "        print(f'{p[0]} é maior de idade')\n",
    "    else:\n",
    "        print(f'{p[0]} é menor de idade')"
   ]
  },
  {
   "cell_type": "markdown",
   "id": "d3a9fdae",
   "metadata": {},
   "source": [
    "# Exercícios "
   ]
  },
  {
   "cell_type": "markdown",
   "id": "745ed62b",
   "metadata": {},
   "source": [
    "84 - 1 - Faça um programa que leia o nome e peso de várias pessoas, guardando tudo em uma lista. No final, mostre:\n",
    " - Quantas pessoas foram cadastradas.\n",
    " - Uma listagem com as pessoas mais pesadas.\n",
    " - Uma listagem com pessoas mais leves. "
   ]
  },
  {
   "cell_type": "code",
   "execution_count": 100,
   "id": "46b2c569",
   "metadata": {},
   "outputs": [
    {
     "name": "stdout",
     "output_type": "stream",
     "text": [
      "Nome: Lucas\n",
      "Peso: 68\n",
      "Deseja continuar? [S/N]S\n",
      "Nome: Paula\n",
      "Peso: 101\n",
      "Deseja continuar? [S/N]S\n",
      "Nome: Julio\n",
      "Peso: 112\n",
      "Deseja continuar? [S/N]S\n",
      "Nome: Ana\n",
      "Peso: 54\n",
      "Deseja continuar? [S/N]N\n",
      "====================\n",
      "[['Lucas', 68.0], ['Paula', 101.0], ['Julio', 112.0], ['Ana', 54.0]]\n",
      "Quantidade de pessoas cadastradas: 4\n",
      "Pessoas mais pesadas ['Paula', 'Julio']\n",
      "Pessoas mais leves ['Lucas', 'Ana']\n"
     ]
    }
   ],
   "source": [
    "lista = list()\n",
    "lista_resp = list()\n",
    "quant = 0 \n",
    "pesada = list()\n",
    "leve =  list()\n",
    "while True: \n",
    "    nome = str(input('Nome: '))\n",
    "    peso = float(input('Peso: '))\n",
    "    lista_resp.append(nome)\n",
    "    lista_resp.append(peso)\n",
    "    lista.append(lista_resp[:])\n",
    "    lista_resp.clear()\n",
    "    quant += 1 \n",
    "    continuar = str(input('Deseja continuar? [S/N]'))\n",
    "    if continuar in 'Nn':\n",
    "        break\n",
    "for p in lista:\n",
    "    if p[1] > 100:\n",
    "        pesada.append(p[0]) \n",
    "    else:\n",
    "        leve.append(p[0]) \n",
    "        \n",
    "print('=='*10)\n",
    "print(lista)\n",
    "print(f'Quantidade de pessoas cadastradas: {quant}')\n",
    "print(f'Pessoas mais pesadas {pesada}')\n",
    "print(f'Pessoas mais leves {leve}')"
   ]
  },
  {
   "cell_type": "markdown",
   "id": "6bb9c2f9",
   "metadata": {},
   "source": [
    "2 - Crie um programa onde o usuário possa digitar sete valores numéricos e cadastre-os em uma lista única que mantenha separados os valores pares e ímpares. No final, mostre os valores pares e ímpares em ordem crescente. "
   ]
  },
  {
   "cell_type": "code",
   "execution_count": 101,
   "id": "a2fd5726",
   "metadata": {},
   "outputs": [
    {
     "name": "stdout",
     "output_type": "stream",
     "text": [
      "Digite um valor: 10\n",
      "Digite um valor: 5\n",
      "Digite um valor: 6\n",
      "Digite um valor: 4\n",
      "Digite um valor: 8\n",
      "Digite um valor: 9\n",
      "[[4, 6, 8, 10], [5, 9]]\n"
     ]
    }
   ],
   "source": [
    "lista_num = list()\n",
    "lista_par = list()\n",
    "lista_impar = list()\n",
    "for x in range(0,6):\n",
    "    num = int(input('Digite um valor: '))\n",
    "    if num % 2 == 0:\n",
    "        lista_par.append(num)\n",
    "    else:\n",
    "        lista_impar.append(num)\n",
    "lista_par.sort()\n",
    "lista_impar.sort()\n",
    "lista_num.append(lista_par)\n",
    "lista_num.append(lista_impar)\n",
    "print(lista_num)\n",
    "    "
   ]
  },
  {
   "cell_type": "markdown",
   "id": "df1e24d9",
   "metadata": {},
   "source": [
    "3 - Crie um programa que crie uma matriz de dimensão 3x3 e preencha com valores lidos pelos teclado. No final, mostre a matriz na tela, a formatação correta."
   ]
  },
  {
   "cell_type": "raw",
   "id": "a762efcb",
   "metadata": {},
   "source": [
    "[1][2][3]\n",
    "[4][5][6]\n",
    "[7][8][9]"
   ]
  },
  {
   "cell_type": "code",
   "execution_count": null,
   "id": "4da52d95",
   "metadata": {},
   "outputs": [],
   "source": []
  },
  {
   "cell_type": "markdown",
   "id": "8febfac7",
   "metadata": {},
   "source": [
    " 4 - Aprimore o desafio anterior, mostrando no final: \n",
    " - A soma de todos os valores pares digitados \n",
    " - A soma dos valores da terceira coluna \n",
    " - O maior valor da segunda linha "
   ]
  },
  {
   "cell_type": "code",
   "execution_count": null,
   "id": "1692b5ae",
   "metadata": {},
   "outputs": [],
   "source": []
  },
  {
   "cell_type": "markdown",
   "id": "6e7f600c",
   "metadata": {},
   "source": [
    "5 - Faça um programa que ajude um jogador da Mega Sena a criar palpites. O programa vai perguntar quantos jogos serão gerados e vai sortear 6 números entre 1 e 60 para cada jogo, cadastrando tudo em uma lista composta."
   ]
  },
  {
   "cell_type": "code",
   "execution_count": 135,
   "id": "9936d116",
   "metadata": {},
   "outputs": [
    {
     "name": "stdout",
     "output_type": "stream",
     "text": [
      "Quantos jogos serão? 6\n",
      "=+==+==+==+==+==+==+==+==+=\n",
      "SEGUE OS JOGOS:\n",
      "[28, 30, 31, 32, 39, 41]\n",
      "[10, 14, 18, 21, 34, 46]\n",
      "[11, 27, 34, 40, 54, 55]\n",
      "[11, 27, 35, 38, 54, 54]\n",
      "[15, 26, 39, 40, 43, 52]\n",
      "[6, 7, 13, 15, 38, 52]\n"
     ]
    }
   ],
   "source": [
    "from random import randint\n",
    "jogos = list()\n",
    "jogos_mais = list()\n",
    "quant_jogos = int(input('Quantos jogos serão? '))\n",
    "for x in range(0,quant_jogos):\n",
    "    for n in range(0,6):\n",
    "        j = randint(1,60)\n",
    "        jogos_mais.append(j)\n",
    "        if len(jogos_mais) == 6:\n",
    "            jogos.append(jogos_mais[:])\n",
    "            jogos_mais.clear()\n",
    "print('=+='*9)\n",
    "print('SEGUE OS JOGOS:')\n",
    "for v in jogos:\n",
    "    v.sort()\n",
    "    print(f'{v}')"
   ]
  },
  {
   "cell_type": "markdown",
   "id": "bf90e802",
   "metadata": {},
   "source": [
    "6 - Crie um programa que leia o nome e duas notas de vários alunos e guarde tudo em uma lista composta. No final, mostre um boletim contendo a média de cada um e permita que o usuário possa mostrar as notas de cada aluno individualmente. "
   ]
  },
  {
   "cell_type": "code",
   "execution_count": 89,
   "id": "e3848228",
   "metadata": {},
   "outputs": [],
   "source": [
    "#Criar três níveis de lista [[nome[nota1,nota2]],[nome[nota1,nota2]]]\n",
    "#Mostrar as médias  NOME MÉDIA \n",
    "#Mostrar notas de qual aluno? (999 interrompe) As notas de Maria são [lista]"
   ]
  }
 ],
 "metadata": {
  "kernelspec": {
   "display_name": "Python 3 (ipykernel)",
   "language": "python",
   "name": "python3"
  },
  "language_info": {
   "codemirror_mode": {
    "name": "ipython",
    "version": 3
   },
   "file_extension": ".py",
   "mimetype": "text/x-python",
   "name": "python",
   "nbconvert_exporter": "python",
   "pygments_lexer": "ipython3",
   "version": "3.9.7"
  }
 },
 "nbformat": 4,
 "nbformat_minor": 5
}
