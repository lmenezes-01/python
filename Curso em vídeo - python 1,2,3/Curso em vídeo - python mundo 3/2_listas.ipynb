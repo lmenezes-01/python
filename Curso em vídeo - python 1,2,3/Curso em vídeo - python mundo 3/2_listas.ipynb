{
 "cells": [
  {
   "cell_type": "markdown",
   "id": "ff9e8f58",
   "metadata": {},
   "source": [
    "# Listas "
   ]
  },
  {
   "cell_type": "markdown",
   "id": "028509a7",
   "metadata": {},
   "source": [
    "- Lista são mutáveis \n",
    "- Usam ()  "
   ]
  },
  {
   "cell_type": "code",
   "execution_count": 8,
   "id": "6f7aeb1b",
   "metadata": {},
   "outputs": [
    {
     "name": "stdout",
     "output_type": "stream",
     "text": [
      "['hamburguer', 'soda', 'pudim', 'frango']\n",
      "<class 'list'>\n"
     ]
    }
   ],
   "source": [
    "lista = ['hamburguer','soda','pudim','frango']\n",
    "print(lista)\n",
    "print(type(lista))"
   ]
  },
  {
   "cell_type": "code",
   "execution_count": 10,
   "id": "6790ca65",
   "metadata": {},
   "outputs": [
    {
     "name": "stdout",
     "output_type": "stream",
     "text": [
      "['hamburguer', 'soda', 'pudim', 'frango', 'cookie']\n"
     ]
    }
   ],
   "source": [
    "#Adicionando dados a lista \n",
    "lista.append('cookie') #A função append() - adiciona dados a lista \n",
    "print(lista)"
   ]
  },
  {
   "cell_type": "code",
   "execution_count": 12,
   "id": "df9237e6",
   "metadata": {},
   "outputs": [
    {
     "name": "stdout",
     "output_type": "stream",
     "text": [
      "['hot dog', 'hot dog', 'hamburguer', 'soda', 'pudim', 'frango', 'cookie']\n"
     ]
    }
   ],
   "source": [
    "#Adicionando dados sem alterar os itens da lista \n",
    "lista.insert(0,'hot dog') #O valor 0 é aonde eu quero adicionar o item \n",
    "print(lista)"
   ]
  },
  {
   "cell_type": "code",
   "execution_count": 13,
   "id": "b327baa9",
   "metadata": {},
   "outputs": [
    {
     "name": "stdout",
     "output_type": "stream",
     "text": [
      "['hot dog', 'hot dog', 'hamburguer', 'soda', 'pudim', 'frango', 'cookie']\n",
      "['hot dog', 'hamburguer', 'soda', 'pudim', 'frango', 'cookie']\n",
      "['hot dog', 'hamburguer', 'soda', 'frango', 'cookie']\n"
     ]
    }
   ],
   "source": [
    "#Eliminando elementos da Lista \n",
    "print(lista)\n",
    "del lista[0] #Primeira forma \n",
    "print(lista)\n",
    "lista.pop(3) #Segunda forma usando função \n",
    "print(lista)"
   ]
  },
  {
   "cell_type": "code",
   "execution_count": 15,
   "id": "57b35699",
   "metadata": {},
   "outputs": [
    {
     "name": "stdout",
     "output_type": "stream",
     "text": [
      "['hot dog', 'hamburguer', 'soda', 'frango', 'cookie']\n",
      "['hamburguer', 'soda', 'frango', 'cookie']\n"
     ]
    }
   ],
   "source": [
    "#Outra forma de eliminar é usando o remove()\n",
    "print(lista)\n",
    "lista.remove('hot dog') #Função remove(), você passa o nome ou valor armazenado dentro da variável\n",
    "print(lista)"
   ]
  },
  {
   "cell_type": "code",
   "execution_count": 16,
   "id": "d345ce2d",
   "metadata": {},
   "outputs": [
    {
     "name": "stdout",
     "output_type": "stream",
     "text": [
      "['hamburguer', 'frango', 'cookie']\n"
     ]
    }
   ],
   "source": [
    "#Usando IF \n",
    "if 'soda' in lista:\n",
    "    lista.remove('soda')\n",
    "print(lista)"
   ]
  },
  {
   "cell_type": "code",
   "execution_count": 19,
   "id": "8be255e6",
   "metadata": {},
   "outputs": [
    {
     "name": "stdout",
     "output_type": "stream",
     "text": [
      "[4, 5, 6, 7, 8, 9, 10]\n"
     ]
    }
   ],
   "source": [
    "#É possível criar listas usando range \n",
    "valores = list(range(4,11))\n",
    "print(valores)"
   ]
  },
  {
   "cell_type": "code",
   "execution_count": 25,
   "id": "72958256",
   "metadata": {},
   "outputs": [
    {
     "name": "stdout",
     "output_type": "stream",
     "text": [
      "[8, 2, 3, 4, 6, 5]\n"
     ]
    }
   ],
   "source": [
    "#Ordenando listas\n",
    "valores1 = [8,2,3,4,6,5]\n",
    "print(valores1)\n",
    "valores1.sort() #Crescente \n",
    "valores1.sort(reverse=True) #Ordem reversa "
   ]
  },
  {
   "cell_type": "code",
   "execution_count": 28,
   "id": "93d596a7",
   "metadata": {},
   "outputs": [
    {
     "name": "stdout",
     "output_type": "stream",
     "text": [
      "[10, 9, 8, 7, 6, 5, 4]\n"
     ]
    },
    {
     "data": {
      "text/plain": [
       "7"
      ]
     },
     "execution_count": 28,
     "metadata": {},
     "output_type": "execute_result"
    }
   ],
   "source": [
    "#Quantidade de dados dentro da lista \n",
    "print(valores)\n",
    "len(valores)"
   ]
  },
  {
   "cell_type": "markdown",
   "id": "ae24b5d9",
   "metadata": {},
   "source": [
    "# Conteúdo na prática "
   ]
  },
  {
   "cell_type": "code",
   "execution_count": 32,
   "id": "ae06fc0d",
   "metadata": {},
   "outputs": [
    {
     "name": "stdout",
     "output_type": "stream",
     "text": [
      "[2, 5, 9, 1]\n",
      "[2, 5, 3, 1]\n"
     ]
    }
   ],
   "source": [
    "#Alterando alor \n",
    "num = [2,5,9,1]\n",
    "print(num)\n",
    "num[2] = 3\n",
    "print(num)"
   ]
  },
  {
   "cell_type": "code",
   "execution_count": 33,
   "id": "d0216bd2",
   "metadata": {},
   "outputs": [
    {
     "name": "stdout",
     "output_type": "stream",
     "text": [
      "[2, 5, 3, 1]\n",
      "[2, 5, 3, 1, 7]\n"
     ]
    }
   ],
   "source": [
    "#Colocando um novo valor na lista \n",
    "print(num)\n",
    "num.append(7)\n",
    "print(num)"
   ]
  },
  {
   "cell_type": "code",
   "execution_count": 34,
   "id": "3587bf6d",
   "metadata": {},
   "outputs": [
    {
     "name": "stdout",
     "output_type": "stream",
     "text": [
      "[2, 5, 3, 1, 7]\n",
      "[1, 2, 3, 5, 7]\n"
     ]
    }
   ],
   "source": [
    "#Organizando a lista \n",
    "print(num)\n",
    "num.sort()\n",
    "print(num)"
   ]
  },
  {
   "cell_type": "code",
   "execution_count": 36,
   "id": "cd9c94e2",
   "metadata": {},
   "outputs": [
    {
     "name": "stdout",
     "output_type": "stream",
     "text": [
      "Essa lista tem o total de 5 elementos\n"
     ]
    }
   ],
   "source": [
    "#Quantidade usando a função len()\n",
    "print(f'Essa lista tem o total de {len(num)} elementos')"
   ]
  },
  {
   "cell_type": "code",
   "execution_count": 37,
   "id": "ea35faa9",
   "metadata": {},
   "outputs": [
    {
     "name": "stdout",
     "output_type": "stream",
     "text": [
      "[1, 2, 3, 5, 7]\n",
      "[1, 2, 3, 4, 5, 7]\n"
     ]
    }
   ],
   "source": [
    "#Inserindo valor na lista sem modificar o que já tinha \n",
    "print(num)\n",
    "num.insert(3,4)\n",
    "print(num)"
   ]
  },
  {
   "cell_type": "code",
   "execution_count": 38,
   "id": "8598a4f4",
   "metadata": {},
   "outputs": [
    {
     "name": "stdout",
     "output_type": "stream",
     "text": [
      "[1, 2, 3, 4, 5, 7]\n",
      "[2, 3, 4, 5, 7]\n",
      "[2, 3, 5, 7]\n",
      "[2, 3, 5]\n"
     ]
    }
   ],
   "source": [
    "#Excluindo valores\n",
    "print(num)\n",
    "del num[0] #1\n",
    "print(num)\n",
    "num.pop(2) #4 \n",
    "print(num)\n",
    "num.remove(7) #7\n",
    "print(num)"
   ]
  },
  {
   "cell_type": "code",
   "execution_count": 40,
   "id": "ee0d961f",
   "metadata": {},
   "outputs": [
    {
     "name": "stdout",
     "output_type": "stream",
     "text": [
      "[2, 3, 5]\n",
      "Não tem o valor 1 na lista para ser excluído\n"
     ]
    }
   ],
   "source": [
    "#Usando lógica para deletar um valor \n",
    "print(num)\n",
    "if 1 in num:\n",
    "    num.remove(1)\n",
    "else:\n",
    "    print('Não tem o valor 1 na lista para ser excluído')"
   ]
  },
  {
   "cell_type": "code",
   "execution_count": 42,
   "id": "4857f895",
   "metadata": {},
   "outputs": [
    {
     "name": "stdout",
     "output_type": "stream",
     "text": [
      "5...9...4..."
     ]
    }
   ],
   "source": [
    "#Treino \n",
    "\n",
    "valores = []\n",
    "valores.append(5)\n",
    "valores.append(9)\n",
    "valores.append(4)\n",
    "\n",
    "for v in valores: \n",
    "    print(f'{v}...',end='')"
   ]
  },
  {
   "cell_type": "code",
   "execution_count": 48,
   "id": "bf9ab45f",
   "metadata": {},
   "outputs": [
    {
     "name": "stdout",
     "output_type": "stream",
     "text": [
      "Na posição 0, encontrei o valor 5!\n",
      "Na posição 1, encontrei o valor 9!\n",
      "Na posição 2, encontrei o valor 4!\n",
      "Cheguei ao final da lista\n"
     ]
    }
   ],
   "source": [
    "#Treino para saber o index \n",
    "\n",
    "valores = []\n",
    "valores.append(5)\n",
    "valores.append(9)\n",
    "valores.append(4)\n",
    "\n",
    "for c,v in enumerate(valores): \n",
    "    print(f'Na posição {c}, encontrei o valor {v}!')\n",
    "print('Cheguei ao final da lista')"
   ]
  },
  {
   "cell_type": "code",
   "execution_count": 50,
   "id": "448e959c",
   "metadata": {},
   "outputs": [
    {
     "name": "stdout",
     "output_type": "stream",
     "text": [
      "Digite um valor: 2\n",
      "Digite um valor: 3\n",
      "Digite um valor: 6\n",
      "Digite um valor: 8\n",
      "Digite um valor: 78\n",
      "Na posição 0, encontrei o valor 2!\n",
      "Na posição 1, encontrei o valor 3!\n",
      "Na posição 2, encontrei o valor 6!\n",
      "Na posição 3, encontrei o valor 8!\n",
      "Na posição 4, encontrei o valor 78!\n",
      "Cheguei ao final da lista\n"
     ]
    }
   ],
   "source": [
    "#Treino digitando valores e sendo armazenados na lista\n",
    "valores = list()\n",
    "for cont in range(0,5):\n",
    "    valores.append(int(input('Digite um valor: ')))\n",
    "for c,v in enumerate(valores): \n",
    "    print(f'Na posição {c}, encontrei o valor {v}!')\n",
    "print('Cheguei ao final da lista')"
   ]
  },
  {
   "cell_type": "code",
   "execution_count": 53,
   "id": "7356afe8",
   "metadata": {},
   "outputs": [
    {
     "name": "stdout",
     "output_type": "stream",
     "text": [
      "Lista [2, 3, 8, 7]\n",
      "Lista [2, 3, 8, 7]\n"
     ]
    }
   ],
   "source": [
    "#Atenção - Agregando uma lista a outra variável, ela será alterada. Pois o Python faz uma ligação \n",
    "a = [2,3,4,7]\n",
    "b = a \n",
    "b[2] = 8\n",
    "print(f'Lista {a}')\n",
    "print(f'Lista {b}')"
   ]
  },
  {
   "cell_type": "code",
   "execution_count": 54,
   "id": "baee0de0",
   "metadata": {},
   "outputs": [
    {
     "name": "stdout",
     "output_type": "stream",
     "text": [
      "Lista [2, 3, 4, 7]\n",
      "Lista [2, 3, 8, 7]\n"
     ]
    }
   ],
   "source": [
    "#Criando uma forma que não tenha ligação\n",
    "a = [2,3,4,7]\n",
    "b = a[:] \n",
    "b[2] = 8\n",
    "print(f'Lista {a}')\n",
    "print(f'Lista {b}')"
   ]
  },
  {
   "cell_type": "markdown",
   "id": "39763cd9",
   "metadata": {},
   "source": [
    "# Exercícios "
   ]
  },
  {
   "cell_type": "markdown",
   "id": "db2ee42a",
   "metadata": {},
   "source": [
    "78 - 1 - Faça um programa que leia 5 valores e guarde-os em uma lista.\n",
    "- No final, mostre qual foi o maior e o menor valor digitado e as respectivas posições "
   ]
  },
  {
   "cell_type": "code",
   "execution_count": 55,
   "id": "d9bd560d",
   "metadata": {},
   "outputs": [],
   "source": [
    "#Digite um valor para a posição {variavel do index}: "
   ]
  },
  {
   "cell_type": "markdown",
   "id": "37aef900",
   "metadata": {},
   "source": [
    "2 - Crie um programa que o usuário possa digitar vários valores numéricos e cadastre-os em uma lista. Caso o número já exista lá denro, ele não será acionado. No final, serão exibidos todos os valores únicos digitados em ordem crescente. "
   ]
  },
  {
   "cell_type": "code",
   "execution_count": 56,
   "id": "e3a4c159",
   "metadata": {},
   "outputs": [],
   "source": [
    "#Quer continuar [S/N]"
   ]
  },
  {
   "cell_type": "markdown",
   "id": "2038856e",
   "metadata": {},
   "source": [
    "3 - Crie um programa que o usuário possa digitar 5 valores numéricos e cadastre-os em uma lista, já na posição correta de inserção(sem usar o sort())\n",
    "- No final, mostre a lista ordenada na tela "
   ]
  },
  {
   "cell_type": "code",
   "execution_count": null,
   "id": "2d7f095f",
   "metadata": {},
   "outputs": [],
   "source": []
  },
  {
   "cell_type": "markdown",
   "id": "f2e4dbc1",
   "metadata": {},
   "source": [
    "4 - Crie um programa que vai ler vários números e colocar em uma lista. Depois disso, mostre: \n",
    "- A) Quantos números foram digitados.\n",
    "- B) A lista de valores, ordenada de forma decrescente.\n",
    "- C) Se o valor 5 foi digitado e está ou não na lista."
   ]
  },
  {
   "cell_type": "code",
   "execution_count": 57,
   "id": "be272e2b",
   "metadata": {},
   "outputs": [],
   "source": [
    "#Quer continuar \n",
    "#A mais - Qual posição está o 5, caso tenha. "
   ]
  },
  {
   "cell_type": "markdown",
   "id": "310c4322",
   "metadata": {},
   "source": [
    "5 - Crie um programa que vai ler vários números e colocar em uma lista. \n",
    "- Depois disso, crie duas listas extras que vão conter apenas os valores pares e os valores impares digitados, respectivamente.\n",
    "- Ao final, mostre o conteúdo das três listas geradas "
   ]
  },
  {
   "cell_type": "code",
   "execution_count": 58,
   "id": "36beff2c",
   "metadata": {},
   "outputs": [],
   "source": [
    "#Quer continuar [S/N]"
   ]
  },
  {
   "cell_type": "markdown",
   "id": "728fdc06",
   "metadata": {},
   "source": [
    "6 - Crie um programa que o usuário digite uma expressão qualquer que use parênteses. Seu aplicativo deverá analisar a expressão passada está com os parênteses abertos e fechados na ordem correta.  "
   ]
  },
  {
   "cell_type": "code",
   "execution_count": null,
   "id": "d7240384",
   "metadata": {},
   "outputs": [],
   "source": []
  }
 ],
 "metadata": {
  "kernelspec": {
   "display_name": "Python 3 (ipykernel)",
   "language": "python",
   "name": "python3"
  },
  "language_info": {
   "codemirror_mode": {
    "name": "ipython",
    "version": 3
   },
   "file_extension": ".py",
   "mimetype": "text/x-python",
   "name": "python",
   "nbconvert_exporter": "python",
   "pygments_lexer": "ipython3",
   "version": "3.9.7"
  }
 },
 "nbformat": 4,
 "nbformat_minor": 5
}
