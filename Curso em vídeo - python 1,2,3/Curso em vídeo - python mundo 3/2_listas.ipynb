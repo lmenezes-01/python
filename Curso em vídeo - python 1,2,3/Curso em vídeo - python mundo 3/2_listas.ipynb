{
 "cells": [
  {
   "cell_type": "markdown",
   "id": "3d8df002",
   "metadata": {},
   "source": [
    "# Listas "
   ]
  },
  {
   "cell_type": "markdown",
   "id": "6ac9966e",
   "metadata": {},
   "source": [
    "- Lista são mutáveis \n",
    "- Usam ()  "
   ]
  },
  {
   "cell_type": "code",
   "execution_count": 8,
   "id": "d56143b7",
   "metadata": {},
   "outputs": [
    {
     "name": "stdout",
     "output_type": "stream",
     "text": [
      "['hamburguer', 'soda', 'pudim', 'frango']\n",
      "<class 'list'>\n"
     ]
    }
   ],
   "source": [
    "lista = ['hamburguer','soda','pudim','frango']\n",
    "print(lista)\n",
    "print(type(lista))"
   ]
  },
  {
   "cell_type": "code",
   "execution_count": 10,
   "id": "0d8c1a84",
   "metadata": {},
   "outputs": [
    {
     "name": "stdout",
     "output_type": "stream",
     "text": [
      "['hamburguer', 'soda', 'pudim', 'frango', 'cookie']\n"
     ]
    }
   ],
   "source": [
    "#Adicionando dados a lista \n",
    "lista.append('cookie') #A função append() - adiciona dados a lista \n",
    "print(lista)"
   ]
  },
  {
   "cell_type": "code",
   "execution_count": 12,
   "id": "56d40179",
   "metadata": {},
   "outputs": [
    {
     "name": "stdout",
     "output_type": "stream",
     "text": [
      "['hot dog', 'hot dog', 'hamburguer', 'soda', 'pudim', 'frango', 'cookie']\n"
     ]
    }
   ],
   "source": [
    "#Adicionando dados sem alterar os itens da lista \n",
    "lista.insert(0,'hot dog') #O valor 0 é aonde eu quero adicionar o item \n",
    "print(lista)"
   ]
  },
  {
   "cell_type": "code",
   "execution_count": 13,
   "id": "0b6b3348",
   "metadata": {},
   "outputs": [
    {
     "name": "stdout",
     "output_type": "stream",
     "text": [
      "['hot dog', 'hot dog', 'hamburguer', 'soda', 'pudim', 'frango', 'cookie']\n",
      "['hot dog', 'hamburguer', 'soda', 'pudim', 'frango', 'cookie']\n",
      "['hot dog', 'hamburguer', 'soda', 'frango', 'cookie']\n"
     ]
    }
   ],
   "source": [
    "#Eliminando elementos da Lista \n",
    "print(lista)\n",
    "del lista[0] #Primeira forma \n",
    "print(lista)\n",
    "lista.pop(3) #Segunda forma usando função \n",
    "print(lista)"
   ]
  },
  {
   "cell_type": "code",
   "execution_count": 15,
   "id": "55ae63a4",
   "metadata": {},
   "outputs": [
    {
     "name": "stdout",
     "output_type": "stream",
     "text": [
      "['hot dog', 'hamburguer', 'soda', 'frango', 'cookie']\n",
      "['hamburguer', 'soda', 'frango', 'cookie']\n"
     ]
    }
   ],
   "source": [
    "#Outra forma de eliminar é usando o remove()\n",
    "print(lista)\n",
    "lista.remove('hot dog') #Função remove(), você passa o nome ou valor armazenado dentro da variável\n",
    "print(lista)"
   ]
  },
  {
   "cell_type": "code",
   "execution_count": 16,
   "id": "e6e1a254",
   "metadata": {},
   "outputs": [
    {
     "name": "stdout",
     "output_type": "stream",
     "text": [
      "['hamburguer', 'frango', 'cookie']\n"
     ]
    }
   ],
   "source": [
    "#Usando IF \n",
    "if 'soda' in lista:\n",
    "    lista.remove('soda')\n",
    "print(lista)"
   ]
  },
  {
   "cell_type": "code",
   "execution_count": 19,
   "id": "7464bc18",
   "metadata": {},
   "outputs": [
    {
     "name": "stdout",
     "output_type": "stream",
     "text": [
      "[4, 5, 6, 7, 8, 9, 10]\n"
     ]
    }
   ],
   "source": [
    "#É possível criar listas usando range \n",
    "valores = list(range(4,11))\n",
    "print(valores)"
   ]
  },
  {
   "cell_type": "code",
   "execution_count": 25,
   "id": "bb01f6a2",
   "metadata": {},
   "outputs": [
    {
     "name": "stdout",
     "output_type": "stream",
     "text": [
      "[8, 2, 3, 4, 6, 5]\n"
     ]
    }
   ],
   "source": [
    "#Ordenando listas\n",
    "valores1 = [8,2,3,4,6,5]\n",
    "print(valores1)\n",
    "valores1.sort() #Crescente \n",
    "valores1.sort(reverse=True) #Ordem reversa "
   ]
  },
  {
   "cell_type": "code",
   "execution_count": 28,
   "id": "fc9bef71",
   "metadata": {},
   "outputs": [
    {
     "name": "stdout",
     "output_type": "stream",
     "text": [
      "[10, 9, 8, 7, 6, 5, 4]\n"
     ]
    },
    {
     "data": {
      "text/plain": [
       "7"
      ]
     },
     "execution_count": 28,
     "metadata": {},
     "output_type": "execute_result"
    }
   ],
   "source": [
    "#Quantidade de dados dentro da lista \n",
    "print(valores)\n",
    "len(valores)"
   ]
  },
  {
   "cell_type": "markdown",
   "id": "67ea69d0",
   "metadata": {},
   "source": [
    "# Conteúdo na prática "
   ]
  },
  {
   "cell_type": "code",
   "execution_count": 32,
   "id": "82cfa613",
   "metadata": {},
   "outputs": [
    {
     "name": "stdout",
     "output_type": "stream",
     "text": [
      "[2, 5, 9, 1]\n",
      "[2, 5, 3, 1]\n"
     ]
    }
   ],
   "source": [
    "#Alterando alor \n",
    "num = [2,5,9,1]\n",
    "print(num)\n",
    "num[2] = 3\n",
    "print(num)"
   ]
  },
  {
   "cell_type": "code",
   "execution_count": 33,
   "id": "d1f4bdaa",
   "metadata": {},
   "outputs": [
    {
     "name": "stdout",
     "output_type": "stream",
     "text": [
      "[2, 5, 3, 1]\n",
      "[2, 5, 3, 1, 7]\n"
     ]
    }
   ],
   "source": [
    "#Colocando um novo valor na lista \n",
    "print(num)\n",
    "num.append(7)\n",
    "print(num)"
   ]
  },
  {
   "cell_type": "code",
   "execution_count": 34,
   "id": "df01dd23",
   "metadata": {},
   "outputs": [
    {
     "name": "stdout",
     "output_type": "stream",
     "text": [
      "[2, 5, 3, 1, 7]\n",
      "[1, 2, 3, 5, 7]\n"
     ]
    }
   ],
   "source": [
    "#Organizando a lista \n",
    "print(num)\n",
    "num.sort()\n",
    "print(num)"
   ]
  },
  {
   "cell_type": "code",
   "execution_count": 36,
   "id": "f632b374",
   "metadata": {},
   "outputs": [
    {
     "name": "stdout",
     "output_type": "stream",
     "text": [
      "Essa lista tem o total de 5 elementos\n"
     ]
    }
   ],
   "source": [
    "#Quantidade usando a função len()\n",
    "print(f'Essa lista tem o total de {len(num)} elementos')"
   ]
  },
  {
   "cell_type": "code",
   "execution_count": 37,
   "id": "c2236d5a",
   "metadata": {},
   "outputs": [
    {
     "name": "stdout",
     "output_type": "stream",
     "text": [
      "[1, 2, 3, 5, 7]\n",
      "[1, 2, 3, 4, 5, 7]\n"
     ]
    }
   ],
   "source": [
    "#Inserindo valor na lista sem modificar o que já tinha \n",
    "print(num)\n",
    "num.insert(3,4)\n",
    "print(num)"
   ]
  },
  {
   "cell_type": "code",
   "execution_count": 38,
   "id": "8b5c6af0",
   "metadata": {},
   "outputs": [
    {
     "name": "stdout",
     "output_type": "stream",
     "text": [
      "[1, 2, 3, 4, 5, 7]\n",
      "[2, 3, 4, 5, 7]\n",
      "[2, 3, 5, 7]\n",
      "[2, 3, 5]\n"
     ]
    }
   ],
   "source": [
    "#Excluindo valores\n",
    "print(num)\n",
    "del num[0] #1\n",
    "print(num)\n",
    "num.pop(2) #4 \n",
    "print(num)\n",
    "num.remove(7) #7\n",
    "print(num)"
   ]
  },
  {
   "cell_type": "code",
   "execution_count": 40,
   "id": "24fd7bfc",
   "metadata": {},
   "outputs": [
    {
     "name": "stdout",
     "output_type": "stream",
     "text": [
      "[2, 3, 5]\n",
      "Não tem o valor 1 na lista para ser excluído\n"
     ]
    }
   ],
   "source": [
    "#Usando lógica para deletar um valor \n",
    "print(num)\n",
    "if 1 in num:\n",
    "    num.remove(1)\n",
    "else:\n",
    "    print('Não tem o valor 1 na lista para ser excluído')"
   ]
  },
  {
   "cell_type": "code",
   "execution_count": 42,
   "id": "0a78f364",
   "metadata": {},
   "outputs": [
    {
     "name": "stdout",
     "output_type": "stream",
     "text": [
      "5...9...4..."
     ]
    }
   ],
   "source": [
    "#Treino \n",
    "\n",
    "valores = []\n",
    "valores.append(5)\n",
    "valores.append(9)\n",
    "valores.append(4)\n",
    "\n",
    "for v in valores: \n",
    "    print(f'{v}...',end='')"
   ]
  },
  {
   "cell_type": "code",
   "execution_count": 48,
   "id": "1a717ab5",
   "metadata": {},
   "outputs": [
    {
     "name": "stdout",
     "output_type": "stream",
     "text": [
      "Na posição 0, encontrei o valor 5!\n",
      "Na posição 1, encontrei o valor 9!\n",
      "Na posição 2, encontrei o valor 4!\n",
      "Cheguei ao final da lista\n"
     ]
    }
   ],
   "source": [
    "#Treino para saber o index \n",
    "\n",
    "valores = []\n",
    "valores.append(5)\n",
    "valores.append(9)\n",
    "valores.append(4)\n",
    "\n",
    "for c,v in enumerate(valores): \n",
    "    print(f'Na posição {c}, encontrei o valor {v}!')\n",
    "print('Cheguei ao final da lista')"
   ]
  },
  {
   "cell_type": "code",
   "execution_count": 50,
   "id": "0b453c59",
   "metadata": {},
   "outputs": [
    {
     "name": "stdout",
     "output_type": "stream",
     "text": [
      "Digite um valor: 2\n",
      "Digite um valor: 3\n",
      "Digite um valor: 6\n",
      "Digite um valor: 8\n",
      "Digite um valor: 78\n",
      "Na posição 0, encontrei o valor 2!\n",
      "Na posição 1, encontrei o valor 3!\n",
      "Na posição 2, encontrei o valor 6!\n",
      "Na posição 3, encontrei o valor 8!\n",
      "Na posição 4, encontrei o valor 78!\n",
      "Cheguei ao final da lista\n"
     ]
    }
   ],
   "source": [
    "#Treino digitando valores e sendo armazenados na lista\n",
    "valores = list()\n",
    "for cont in range(0,5):\n",
    "    valores.append(int(input('Digite um valor: ')))\n",
    "for c,v in enumerate(valores): \n",
    "    print(f'Na posição {c}, encontrei o valor {v}!')\n",
    "print('Cheguei ao final da lista')"
   ]
  },
  {
   "cell_type": "code",
   "execution_count": 53,
   "id": "118cf58c",
   "metadata": {},
   "outputs": [
    {
     "name": "stdout",
     "output_type": "stream",
     "text": [
      "Lista [2, 3, 8, 7]\n",
      "Lista [2, 3, 8, 7]\n"
     ]
    }
   ],
   "source": [
    "#Atenção - Agregando uma lista a outra variável, ela será alterada. Pois o Python faz uma ligação \n",
    "a = [2,3,4,7]\n",
    "b = a \n",
    "b[2] = 8\n",
    "print(f'Lista {a}')\n",
    "print(f'Lista {b}')"
   ]
  },
  {
   "cell_type": "code",
   "execution_count": 54,
   "id": "c0abf24a",
   "metadata": {},
   "outputs": [
    {
     "name": "stdout",
     "output_type": "stream",
     "text": [
      "Lista [2, 3, 4, 7]\n",
      "Lista [2, 3, 8, 7]\n"
     ]
    }
   ],
   "source": [
    "#Criando uma forma que não tenha ligação\n",
    "a = [2,3,4,7]\n",
    "b = a[:] \n",
    "b[2] = 8\n",
    "print(f'Lista {a}')\n",
    "print(f'Lista {b}')"
   ]
  },
  {
   "cell_type": "markdown",
   "id": "3c1cf81c",
   "metadata": {},
   "source": [
    "# Exercícios "
   ]
  },
  {
   "cell_type": "markdown",
   "id": "bb29e99f",
   "metadata": {},
   "source": [
    "78 - 1 - Faça um programa que leia 5 valores e guarde-os em uma lista.\n",
    "- No final, mostre qual foi o maior e o menor valor digitado."
   ]
  },
  {
   "cell_type": "code",
   "execution_count": 13,
   "id": "a4485909",
   "metadata": {},
   "outputs": [
    {
     "name": "stdout",
     "output_type": "stream",
     "text": [
      "Digite o valor da 1ª posição: 10\n",
      "Digite o valor da 2ª posição: 20\n",
      "Digite o valor da 3ª posição: 23\n",
      "Digite o valor da 4ª posição: 84\n",
      "Digite o valor da 5ª posição: 52\n",
      "Os valores digitados foram 10 20 23 84 52 \n",
      "Maior valor: 84\n",
      "Menor valor: 10\n"
     ]
    }
   ],
   "source": [
    "lista = list()\n",
    "menor = maior = 0 \n",
    "for n,x in enumerate(range(1,6)):\n",
    "    num = int(input(f'Digite o valor da {x}ª posição: '))\n",
    "    lista.append(num)\n",
    "print('Os valores digitados foram ',end='')\n",
    "for l in lista:\n",
    "        print(l, end=' ')\n",
    "print(f'\\nMaior valor: {max(lista)}')\n",
    "print(f'Menor valor: {min(lista)}')"
   ]
  },
  {
   "cell_type": "markdown",
   "id": "6d68444e",
   "metadata": {},
   "source": [
    "2 - Crie um programa que o usuário possa digitar vários valores numéricos e cadastre-os em uma lista. Caso o número já exista lá dentro, ele não será acionado. No final, serão exibidos todos os valores únicos digitados em ordem crescente. "
   ]
  },
  {
   "cell_type": "code",
   "execution_count": 39,
   "id": "a02ca15f",
   "metadata": {},
   "outputs": [
    {
     "name": "stdout",
     "output_type": "stream",
     "text": [
      "Digite um valor: 10\n",
      "Valor adicionado com sucesso!\n",
      "Quer continuar? [S/N]S\n",
      "Digite um valor: 32\n",
      "Valor adicionado com sucesso!\n",
      "Quer continuar? [S/N]S\n",
      "Digite um valor: 56\n",
      "Valor adicionado com sucesso!\n",
      "Quer continuar? [S/N]S\n",
      "Digite um valor: 56\n",
      "Valor duplicado!\n",
      "Quer continuar? [S/N]S\n",
      "Digite um valor: 10\n",
      "Valor duplicado!\n",
      "Quer continuar? [S/N]n\n",
      "Você digitou os valores [10, 32, 56]\n"
     ]
    }
   ],
   "source": [
    "numeros = list()\n",
    "r = ' '\n",
    "while True: \n",
    "    n = int(input('Digite um valor: '))\n",
    "    if n not in numeros:\n",
    "        numeros.append(n)\n",
    "        print('Valor adicionado com sucesso!')\n",
    "    else: \n",
    "        print('Valor duplicado!')\n",
    "    r = str(input('Quer continuar? [S/N]')).strip()[0]\n",
    "    if r in 'Nn':\n",
    "        break\n",
    "numeros.sort()\n",
    "print(f'Você digitou os valores {numeros}')\n"
   ]
  },
  {
   "cell_type": "markdown",
   "id": "6bc3ee2c",
   "metadata": {},
   "source": [
    "3 - Crie um programa que o usuário possa digitar 5 valores numéricos e cadastre-os em uma lista, já na posição correta de inserção(sem usar o sort())\n",
    "- No final, mostre a lista ordenada na tela "
   ]
  },
  {
   "cell_type": "code",
   "execution_count": 40,
   "id": "f5b948bc",
   "metadata": {},
   "outputs": [
    {
     "name": "stdout",
     "output_type": "stream",
     "text": [
      "Digite um valor: 10\n",
      "Adicionado no final da lista...\n",
      "Digite um valor: 32\n",
      "Adicionado no final da lista...\n",
      "Digite um valor: 8\n",
      "Adicionado na posição 0\n",
      "Digite um valor: 6\n",
      "Adicionado na posição 0\n",
      "Digite um valor: 9\n",
      "Adicionado na posição 2\n",
      "O valores digitados em ordem foram [6, 8, 9, 10, 32]\n"
     ]
    }
   ],
   "source": [
    "lista = []\n",
    "for c in range(0, 5):\n",
    "    n = int(input('Digite um valor: '))\n",
    "    if c == 0 or n > lista[-1]:\n",
    "        lista.append(n)\n",
    "        print('Adicionado no final da lista...')\n",
    "    else: \n",
    "        pos = 0 \n",
    "        while pos < len(lista):\n",
    "            if n <= lista[pos]:\n",
    "                lista.insert(pos, n)\n",
    "                print(f'Adicionado na posição {pos}')\n",
    "                break\n",
    "            pos += 1 \n",
    "print(f'O valores digitados em ordem foram {lista}')"
   ]
  },
  {
   "cell_type": "markdown",
   "id": "4b0db9b8",
   "metadata": {},
   "source": [
    "4 - Crie um programa que vai ler vários números e colocar em uma lista. Depois disso, mostre: \n",
    "- A) Quantos números foram digitados.\n",
    "- B) A lista de valores, ordenada de forma decrescente.\n",
    "- C) Se o valor 5 foi digitado e está ou não na lista."
   ]
  },
  {
   "cell_type": "code",
   "execution_count": 41,
   "id": "f4ad1769",
   "metadata": {},
   "outputs": [
    {
     "name": "stdout",
     "output_type": "stream",
     "text": [
      "Digite um valor: 10\n",
      "Deseja continuar [S/N]: S\n",
      "Digite um valor: 58\n",
      "Deseja continuar [S/N]: S\n",
      "Digite um valor: 6\n",
      "Deseja continuar [S/N]: S\n",
      "Digite um valor: 4\n",
      "Deseja continuar [S/N]: S\n",
      "Digite um valor: 25\n",
      "Deseja continuar [S/N]: n\n",
      "Total de valores informados: 5\n",
      "A lista em ordem decrescente: [58, 25, 10, 6, 4]\n",
      "O valor 5 foi digitado na lista? False\n"
     ]
    }
   ],
   "source": [
    "lista = list()\n",
    "continuar = ' '\n",
    "quant = 0 \n",
    "while continuar not in 'Nn':\n",
    "    num = int(input('Digite um valor: '))\n",
    "    lista.append(num)\n",
    "    continuar = str(input('Deseja continuar [S/N]: ')).strip()[0]\n",
    "print(f'Total de valores informados: {len(lista)}')\n",
    "lista.sort(reverse=True)\n",
    "print(f'A lista em ordem decrescente: {lista}')\n",
    "print(f'O valor 5 foi digitado na lista? {5 in lista}')    "
   ]
  },
  {
   "cell_type": "markdown",
   "id": "dd0ce2bf",
   "metadata": {},
   "source": [
    "5 - Crie um programa que vai ler vários números e colocar em uma lista. \n",
    "- Depois disso, crie duas listas extras que vão conter apenas os valores pares e os valores impares digitados, respectivamente.\n",
    "- Ao final, mostre o conteúdo das três listas geradas "
   ]
  },
  {
   "cell_type": "code",
   "execution_count": 42,
   "id": "38a24b36",
   "metadata": {},
   "outputs": [
    {
     "name": "stdout",
     "output_type": "stream",
     "text": [
      "Digite um valor: 25\n",
      "Deseja continuar? S\n",
      "Digite um valor: 55\n",
      "Deseja continuar? S\n",
      "Digite um valor: 5\n",
      "Deseja continuar? S\n",
      "Digite um valor: 41\n",
      "Deseja continuar? S\n",
      "Digite um valor: 8\n",
      "Deseja continuar? S\n",
      "Digite um valor: 2\n",
      "Deseja continuar? n\n",
      "Todos os valores: [25, 55, 5, 41, 8, 2]\n",
      "Valores pares: [8, 2]\n",
      "Valores impares: [25, 55, 5, 41]\n"
     ]
    }
   ],
   "source": [
    "listaTodos = []\n",
    "listaPar = []\n",
    "listaImpar = []\n",
    "continuar = ' '\n",
    "while continuar not in 'Nn':\n",
    "    num = int(input('Digite um valor: '))\n",
    "    listaTodos.append(num)\n",
    "    if num % 2 == 0:\n",
    "        listaPar.append(num)\n",
    "    else:\n",
    "        listaImpar.append(num)\n",
    "    continuar = str(input('Deseja continuar? ')).strip()[0]\n",
    "print(f'Todos os valores: {listaTodos}')\n",
    "print(f'Valores pares: {listaPar}')\n",
    "print(f'Valores impares: {listaImpar}')"
   ]
  },
  {
   "cell_type": "markdown",
   "id": "88e6dd84",
   "metadata": {},
   "source": [
    "6 - Crie um programa que o usuário digite uma expressão qualquer que use parênteses. Seu aplicativo deverá analisar a expressão passada está com os parênteses abertos e fechados na ordem correta.  "
   ]
  },
  {
   "cell_type": "code",
   "execution_count": 43,
   "id": "0881078f",
   "metadata": {},
   "outputs": [
    {
     "name": "stdout",
     "output_type": "stream",
     "text": [
      "Digite a expressão: x((a+b)*((c/d)+z)\n",
      "Sua expressão está errada!\n"
     ]
    }
   ],
   "source": [
    "expr = str(input('Digite a expressão: '))\n",
    "pilha = []\n",
    "for simb in expr:\n",
    "    if simb == '(':\n",
    "        pilha.append('(')\n",
    "    elif simb == ')':\n",
    "        if len(pilha) > 0:\n",
    "            pilha.pop()\n",
    "        else:\n",
    "            pilha.append(')')\n",
    "            break\n",
    "if len(pilha) == 0:\n",
    "    print('Sua expressão está válida!')\n",
    "else:\n",
    "    print('Sua expressão está errada!')"
   ]
  }
 ],
 "metadata": {
  "kernelspec": {
   "display_name": "Python 3 (ipykernel)",
   "language": "python",
   "name": "python3"
  },
  "language_info": {
   "codemirror_mode": {
    "name": "ipython",
    "version": 3
   },
   "file_extension": ".py",
   "mimetype": "text/x-python",
   "name": "python",
   "nbconvert_exporter": "python",
   "pygments_lexer": "ipython3",
   "version": "3.9.7"
  }
 },
 "nbformat": 4,
 "nbformat_minor": 5
}
