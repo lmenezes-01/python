{
 "cells": [
  {
   "cell_type": "markdown",
   "id": "468b10a0",
   "metadata": {},
   "source": [
    "# Tuplas"
   ]
  },
  {
   "cell_type": "markdown",
   "id": "c3e771fb",
   "metadata": {},
   "source": [
    "** AS TUPLAS SÃO IMUTÁVEIS **"
   ]
  },
  {
   "cell_type": "code",
   "execution_count": 17,
   "id": "b8215630",
   "metadata": {},
   "outputs": [],
   "source": [
    "#Exemplo\n",
    "#variável simples   \n",
    "lanche = 'hambuguer' \n",
    "\n",
    "#variavel composta (Tuplas(), listas[] e dicionários{})\n",
    "lanche_tupla = ('hamburguer', 'suco', 'pizza', 'pudim') \n",
    "lanche_lista = ['hamburguer', 'suco', 'pizza', 'pudim']\n",
    "lanche_dicionario = { 'lanche1':'hamburguer',\n",
    "                      'lanche2':'suco',\n",
    "                      'lanche3':'pizza',\n",
    "                      'lanche4':'pudim' }\n"
   ]
  },
  {
   "cell_type": "markdown",
   "id": "144561e1",
   "metadata": {},
   "source": [
    "Tuplas são acessadas pelos seus Índices, partem do 0 "
   ]
  },
  {
   "cell_type": "markdown",
   "id": "076e5158",
   "metadata": {},
   "source": [
    "## Fatiamento de Tuplas"
   ]
  },
  {
   "cell_type": "code",
   "execution_count": 7,
   "id": "6d265fc6",
   "metadata": {},
   "outputs": [
    {
     "data": {
      "text/plain": [
       "('hamburguer', 'suco', 'pizza', 'pudim')"
      ]
     },
     "execution_count": 7,
     "metadata": {},
     "output_type": "execute_result"
    }
   ],
   "source": [
    "lanche_tupla"
   ]
  },
  {
   "cell_type": "code",
   "execution_count": 8,
   "id": "0a8e7f74",
   "metadata": {},
   "outputs": [
    {
     "data": {
      "text/plain": [
       "'hamburguer'"
      ]
     },
     "execution_count": 8,
     "metadata": {},
     "output_type": "execute_result"
    }
   ],
   "source": [
    "lanche_tupla[0]"
   ]
  },
  {
   "cell_type": "code",
   "execution_count": 10,
   "id": "18b443e5",
   "metadata": {},
   "outputs": [
    {
     "data": {
      "text/plain": [
       "('hamburguer', 'suco')"
      ]
     },
     "execution_count": 10,
     "metadata": {},
     "output_type": "execute_result"
    }
   ],
   "source": [
    "lanche_tupla[0:2]"
   ]
  },
  {
   "cell_type": "code",
   "execution_count": 12,
   "id": "cf8aee1a",
   "metadata": {},
   "outputs": [
    {
     "data": {
      "text/plain": [
       "('suco', 'pizza', 'pudim')"
      ]
     },
     "execution_count": 12,
     "metadata": {},
     "output_type": "execute_result"
    }
   ],
   "source": [
    "lanche_tupla[1:]"
   ]
  },
  {
   "cell_type": "code",
   "execution_count": 13,
   "id": "84b99016",
   "metadata": {},
   "outputs": [
    {
     "data": {
      "text/plain": [
       "'pudim'"
      ]
     },
     "execution_count": 13,
     "metadata": {},
     "output_type": "execute_result"
    }
   ],
   "source": [
    "lanche_tupla[-1] #Último"
   ]
  },
  {
   "cell_type": "markdown",
   "id": "b178bdd6",
   "metadata": {},
   "source": [
    "## Varredura dentro da Tupla com For"
   ]
  },
  {
   "cell_type": "code",
   "execution_count": 14,
   "id": "bc0524c0",
   "metadata": {},
   "outputs": [
    {
     "data": {
      "text/plain": [
       "4"
      ]
     },
     "execution_count": 14,
     "metadata": {},
     "output_type": "execute_result"
    }
   ],
   "source": [
    "len(lanche_tupla)"
   ]
  },
  {
   "cell_type": "code",
   "execution_count": 16,
   "id": "28cdf316",
   "metadata": {},
   "outputs": [
    {
     "name": "stdout",
     "output_type": "stream",
     "text": [
      "hamburguer\n",
      "suco\n",
      "pizza\n",
      "pudim\n"
     ]
    }
   ],
   "source": [
    "for c in lanche_tupla: \n",
    "    print(c)"
   ]
  },
  {
   "cell_type": "code",
   "execution_count": 21,
   "id": "dff5b0ff",
   "metadata": {},
   "outputs": [
    {
     "name": "stdout",
     "output_type": "stream",
     "text": [
      "0\n",
      "1\n",
      "2\n",
      "3\n"
     ]
    }
   ],
   "source": [
    "#Sem estar atribuido \n",
    "for cont in range(0,len(lanche_tupla)):\n",
    "    print(cont)"
   ]
  },
  {
   "cell_type": "code",
   "execution_count": 22,
   "id": "a9e3b90c",
   "metadata": {},
   "outputs": [
    {
     "name": "stdout",
     "output_type": "stream",
     "text": [
      "hamburguer\n",
      "suco\n",
      "pizza\n",
      "pudim\n"
     ]
    }
   ],
   "source": [
    "#Atribuído ao lanche_tupla[]\n",
    "for cont in range(0,len(lanche_tupla)):\n",
    "    print(lanche_tupla[cont])"
   ]
  },
  {
   "cell_type": "code",
   "execution_count": 25,
   "id": "ac19991d",
   "metadata": {},
   "outputs": [
    {
     "name": "stdout",
     "output_type": "stream",
     "text": [
      "Eu vou comer hamburguer na posição 0\n",
      "Eu vou comer suco na posição 1\n",
      "Eu vou comer pizza na posição 2\n",
      "Eu vou comer pudim na posição 3\n"
     ]
    }
   ],
   "source": [
    "#Duas variáveis, uma conta e outra diz o que está escrito \n",
    "for pos, c in enumerate(lanche_tupla):\n",
    "    print(f'Eu vou comer {c} na posição {pos}')\n",
    "          "
   ]
  },
  {
   "cell_type": "code",
   "execution_count": 26,
   "id": "554b1f40",
   "metadata": {},
   "outputs": [
    {
     "name": "stdout",
     "output_type": "stream",
     "text": [
      "['hamburguer', 'pizza', 'pudim', 'suco']\n"
     ]
    }
   ],
   "source": [
    "print(sorted(lanche_tupla)) #Coloca em ordem "
   ]
  },
  {
   "cell_type": "markdown",
   "id": "0baad985",
   "metadata": {},
   "source": [
    "## Juntando Tuplas"
   ]
  },
  {
   "cell_type": "code",
   "execution_count": 27,
   "id": "86d85184",
   "metadata": {},
   "outputs": [
    {
     "name": "stdout",
     "output_type": "stream",
     "text": [
      "(2, 5, 4, 5, 8, 1, 2)\n"
     ]
    }
   ],
   "source": [
    "a = (2,5,4)\n",
    "b = (5,8,1,2)\n",
    "c = a+b\n",
    "print(c)"
   ]
  },
  {
   "cell_type": "code",
   "execution_count": 29,
   "id": "187c8848",
   "metadata": {},
   "outputs": [
    {
     "name": "stdout",
     "output_type": "stream",
     "text": [
      "7\n"
     ]
    }
   ],
   "source": [
    "a = (2,5,4)\n",
    "b = (5,8,1,2)\n",
    "c = a+b\n",
    "print(len(c))"
   ]
  },
  {
   "cell_type": "code",
   "execution_count": 30,
   "id": "769bec68",
   "metadata": {},
   "outputs": [
    {
     "name": "stdout",
     "output_type": "stream",
     "text": [
      "2\n"
     ]
    }
   ],
   "source": [
    "a = (2,5,4)\n",
    "b = (5,8,1,2)\n",
    "c = a+b\n",
    "print(c.count(5))"
   ]
  },
  {
   "cell_type": "code",
   "execution_count": 32,
   "id": "ff691527",
   "metadata": {},
   "outputs": [
    {
     "name": "stdout",
     "output_type": "stream",
     "text": [
      "(2, 5, 4, 5, 8, 1, 2)\n",
      "4\n"
     ]
    }
   ],
   "source": [
    "a = (2,5,4)\n",
    "b = (5,8,1,2)\n",
    "c = a+b\n",
    "print(c)\n",
    "print(c.index(8))"
   ]
  },
  {
   "cell_type": "markdown",
   "id": "ebde4dce",
   "metadata": {},
   "source": [
    "## Estilos "
   ]
  },
  {
   "cell_type": "markdown",
   "id": "c9ef5967",
   "metadata": {},
   "source": [
    "Tuplas aceitam Str, Int, Bool e afins, dentro da mesma variável "
   ]
  },
  {
   "cell_type": "code",
   "execution_count": 33,
   "id": "14ad06e6",
   "metadata": {},
   "outputs": [],
   "source": [
    "pessoa = ('Gustavo',20,'M',70)"
   ]
  },
  {
   "cell_type": "code",
   "execution_count": 34,
   "id": "f5281af8",
   "metadata": {},
   "outputs": [
    {
     "name": "stdout",
     "output_type": "stream",
     "text": [
      "('Gustavo', 20, 'M', 70)\n"
     ]
    }
   ],
   "source": [
    "print(pessoa)"
   ]
  },
  {
   "cell_type": "markdown",
   "id": "656d0c4d",
   "metadata": {},
   "source": [
    "## Deletando Tuplas "
   ]
  },
  {
   "cell_type": "code",
   "execution_count": 35,
   "id": "1c580d5e",
   "metadata": {},
   "outputs": [],
   "source": [
    "pessoa1 = ('Gustavo',20,'M',70)"
   ]
  },
  {
   "cell_type": "code",
   "execution_count": 36,
   "id": "7fa48315",
   "metadata": {},
   "outputs": [],
   "source": [
    "del(pessoa1)"
   ]
  },
  {
   "cell_type": "markdown",
   "id": "be01daf1",
   "metadata": {},
   "source": [
    "# Desafio "
   ]
  },
  {
   "cell_type": "markdown",
   "id": "884e58bb",
   "metadata": {},
   "source": [
    "1 - Crie um programa que tenha uma tupla totalmente preenchida com uma contagem por extensão, de zero até 20. \n",
    " - Seu programa deverá ler um número pelo teclado (entre 0 e 20) e mostrá-lo por extenso."
   ]
  },
  {
   "cell_type": "code",
   "execution_count": 49,
   "id": "c7e41faf",
   "metadata": {},
   "outputs": [
    {
     "name": "stdout",
     "output_type": "stream",
     "text": [
      "Escolha um valor entre 0 e 20: -1\n",
      "Número inválido! Escolha um valor entre 0 e 20: 21\n",
      "Número inválido! Escolha um valor entre 0 e 20: 6\n",
      "Você digitou 6, cujo nome por extenso é seis\n"
     ]
    }
   ],
   "source": [
    "num = ('um','dois','três','quatro','cinco','seis','sete','oito','nove','dez'\n",
    "       'onze','doze','treze','quatorze','quinze','dezesseis','dezessete','dezoito','dezenove','vinte')\n",
    "escolha = int(input('Escolha um valor entre 0 e 20: '))\n",
    "while escolha < 0 or escolha > 20:\n",
    "    escolha = int(input('Número inválido! Escolha um valor entre 0 e 20: '))\n",
    "print(f'Você digitou {escolha}, cujo nome por extenso é {num[escolha - 1]}')"
   ]
  },
  {
   "cell_type": "markdown",
   "id": "74eb679c",
   "metadata": {},
   "source": [
    "2 - Crie uma tupla com os 20 primeiros colocados da tabela do Campeonato Brasileiro de Futebol, na ordem de colocação. Depois mostre: \n",
    "  - A) Apenas os 5 primeiros colocados \n",
    "  - B) Os últimos 4 colocados da tabela \n",
    "  - C) Uma lista com os times em ordem alfabética \n",
    "  - D) Em que posição na tabela está o time da Chapeconense "
   ]
  },
  {
   "cell_type": "code",
   "execution_count": null,
   "id": "143b791b",
   "metadata": {},
   "outputs": [],
   "source": []
  },
  {
   "cell_type": "markdown",
   "id": "30cb85b4",
   "metadata": {},
   "source": [
    "3 - Crie um programa que vai gerar 5 números aletórios e colocar em uma tupla.\n",
    "Depois disso, mostre a listagem de números gerados e também indique o menor valor que estão na tupla. "
   ]
  },
  {
   "cell_type": "code",
   "execution_count": null,
   "id": "e3f1b1f3",
   "metadata": {},
   "outputs": [],
   "source": []
  },
  {
   "cell_type": "markdown",
   "id": "446b2f7e",
   "metadata": {},
   "source": [
    "4 - Desenvolva um programa que leia quatro valores pelo teclado e guarde-os em uma tupla. No final, mostre: \n",
    "- A) Quantas vezes apareceu o valor 9.\n",
    "- B) Em que posição foi digitado o primeiro valor 3.\n",
    "- C) Quais foram os números pares. "
   ]
  },
  {
   "cell_type": "code",
   "execution_count": 40,
   "id": "32ad40f2",
   "metadata": {},
   "outputs": [],
   "source": [
    "#Caso não tenha o 3, mostrar que não foi colocado "
   ]
  },
  {
   "cell_type": "markdown",
   "id": "e9b29abb",
   "metadata": {},
   "source": [
    "5 - Crie um programa qie tenha uma tupla única com nomes de produtos e seus respectivos preços, na sequência.\n",
    "No final, mostre uma listagem de preços, organizando os dados em forma tabular. "
   ]
  },
  {
   "cell_type": "code",
   "execution_count": null,
   "id": "644c85f1",
   "metadata": {},
   "outputs": [],
   "source": []
  },
  {
   "cell_type": "markdown",
   "id": "adf506c2",
   "metadata": {},
   "source": [
    "6 - Crie um progama que tenha uma tupla com várias palavras(não usar acentos). Depois disso, você deve mostrar, para cada palavra, quais são vogais. "
   ]
  },
  {
   "cell_type": "code",
   "execution_count": null,
   "id": "0853f66d",
   "metadata": {},
   "outputs": [],
   "source": []
  }
 ],
 "metadata": {
  "kernelspec": {
   "display_name": "Python 3",
   "language": "python",
   "name": "python3"
  },
  "language_info": {
   "codemirror_mode": {
    "name": "ipython",
    "version": 3
   },
   "file_extension": ".py",
   "mimetype": "text/x-python",
   "name": "python",
   "nbconvert_exporter": "python",
   "pygments_lexer": "ipython3",
   "version": "3.8.8"
  },
  "toc": {
   "base_numbering": 1,
   "nav_menu": {},
   "number_sections": true,
   "sideBar": true,
   "skip_h1_title": false,
   "title_cell": "Table of Contents",
   "title_sidebar": "Contents",
   "toc_cell": false,
   "toc_position": {},
   "toc_section_display": true,
   "toc_window_display": true
  },
  "varInspector": {
   "cols": {
    "lenName": 16,
    "lenType": 16,
    "lenVar": 40
   },
   "kernels_config": {
    "python": {
     "delete_cmd_postfix": "",
     "delete_cmd_prefix": "del ",
     "library": "var_list.py",
     "varRefreshCmd": "print(var_dic_list())"
    },
    "r": {
     "delete_cmd_postfix": ") ",
     "delete_cmd_prefix": "rm(",
     "library": "var_list.r",
     "varRefreshCmd": "cat(var_dic_list()) "
    }
   },
   "types_to_exclude": [
    "module",
    "function",
    "builtin_function_or_method",
    "instance",
    "_Feature"
   ],
   "window_display": false
  }
 },
 "nbformat": 4,
 "nbformat_minor": 5
}
