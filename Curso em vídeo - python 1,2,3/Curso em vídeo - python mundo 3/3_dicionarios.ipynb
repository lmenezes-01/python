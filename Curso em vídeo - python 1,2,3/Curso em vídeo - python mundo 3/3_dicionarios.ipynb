{
 "cells": [
  {
   "cell_type": "markdown",
   "id": "6a437cbf",
   "metadata": {},
   "source": [
    "# Dicionários"
   ]
  },
  {
   "cell_type": "markdown",
   "id": "8532ea7f",
   "metadata": {},
   "source": [
    "Índíces literais = Nomes \n",
    "* Podemos acessar via:\n",
    "    * Chave  \n",
    "    * Valores\n",
    "    * Items\n",
    "* É possível criar dicionários dentro de listas "
   ]
  },
  {
   "cell_type": "code",
   "execution_count": 3,
   "id": "7686aa5e",
   "metadata": {},
   "outputs": [
    {
     "name": "stdout",
     "output_type": "stream",
     "text": [
      "Pedro\n",
      "25\n"
     ]
    }
   ],
   "source": [
    "#EXEMPLO 1:\n",
    "dados = dict()\n",
    "dados = {'nome':'Pedro', 'idade':25}\n",
    "print(dados['nome'])\n",
    "print(dados['idade'])"
   ]
  },
  {
   "cell_type": "code",
   "execution_count": 4,
   "id": "9e159135",
   "metadata": {},
   "outputs": [
    {
     "name": "stdout",
     "output_type": "stream",
     "text": [
      "{'nome': 'Pedro', 'idade': 25, 'sexo': 'M'}\n"
     ]
    }
   ],
   "source": [
    "#Adiconar dados não precisa usar append e sim chamar o índice \n",
    "dados['sexo'] = 'M'\n",
    "print(dados)"
   ]
  },
  {
   "cell_type": "code",
   "execution_count": 5,
   "id": "a1f9de2f",
   "metadata": {},
   "outputs": [
    {
     "name": "stdout",
     "output_type": "stream",
     "text": [
      "{'nome': 'Pedro', 'sexo': 'M'}\n"
     ]
    }
   ],
   "source": [
    "#Excluindo dados \n",
    "del dados['idade']\n",
    "print(dados)"
   ]
  },
  {
   "cell_type": "code",
   "execution_count": 6,
   "id": "797415b1",
   "metadata": {},
   "outputs": [],
   "source": [
    "#EXEMPLO 2: \n",
    "filme = {'titulo':'Star Wars',\n",
    "         'ano':1977,\n",
    "         'diretor':'George Lucas'\n",
    "        }"
   ]
  },
  {
   "cell_type": "code",
   "execution_count": 10,
   "id": "f3f97498",
   "metadata": {},
   "outputs": [
    {
     "name": "stdout",
     "output_type": "stream",
     "text": [
      "dict_values(['Star Wars', 1977, 'George Lucas'])\n"
     ]
    }
   ],
   "source": [
    "print(filme.values()) #Os valores dos dicionários "
   ]
  },
  {
   "cell_type": "code",
   "execution_count": 11,
   "id": "b4caaebb",
   "metadata": {},
   "outputs": [
    {
     "name": "stdout",
     "output_type": "stream",
     "text": [
      "dict_keys(['titulo', 'ano', 'diretor'])\n"
     ]
    }
   ],
   "source": [
    "print(filme.keys()) #As chaves nome das \"colunas\""
   ]
  },
  {
   "cell_type": "code",
   "execution_count": 12,
   "id": "3616be88",
   "metadata": {},
   "outputs": [
    {
     "name": "stdout",
     "output_type": "stream",
     "text": [
      "dict_items([('titulo', 'Star Wars'), ('ano', 1977), ('diretor', 'George Lucas')])\n"
     ]
    }
   ],
   "source": [
    "print(filme.items()) #Retorna as chaves + valores "
   ]
  },
  {
   "cell_type": "code",
   "execution_count": 15,
   "id": "03e17015",
   "metadata": {},
   "outputs": [
    {
     "name": "stdout",
     "output_type": "stream",
     "text": [
      "O titulo é Star Wars\n",
      "O ano é 1977\n",
      "O diretor é George Lucas\n"
     ]
    }
   ],
   "source": [
    "#k = O valor do índice \n",
    "#v = Valor dentro da chave(índice) \n",
    "for k, v in filme.items():\n",
    "    print(f'O {k} é {v}')\n"
   ]
  },
  {
   "cell_type": "markdown",
   "id": "c504ea52",
   "metadata": {},
   "source": [
    "## Prática "
   ]
  },
  {
   "cell_type": "code",
   "execution_count": 17,
   "id": "3514379f",
   "metadata": {},
   "outputs": [
    {
     "name": "stdout",
     "output_type": "stream",
     "text": [
      "{'nome': 'Gustavo', 'sexo': 'M', 'idade': 34}\n"
     ]
    }
   ],
   "source": [
    "pessoas = {'nome':'Gustavo','sexo':'M','idade':34}\n",
    "print(pessoas)"
   ]
  },
  {
   "cell_type": "code",
   "execution_count": 19,
   "id": "aa982454",
   "metadata": {},
   "outputs": [
    {
     "name": "stdout",
     "output_type": "stream",
     "text": [
      "Gustavo\n",
      "O Gustavo tem 34 anos.\n"
     ]
    }
   ],
   "source": [
    "print(pessoas['nome'])\n",
    "print(f'O {pessoas[\"nome\"]} tem {pessoas[\"idade\"]} anos.')"
   ]
  },
  {
   "cell_type": "code",
   "execution_count": 20,
   "id": "8335b234",
   "metadata": {},
   "outputs": [
    {
     "name": "stdout",
     "output_type": "stream",
     "text": [
      "dict_values(['Gustavo', 'M', 34])\n",
      "dict_keys(['nome', 'sexo', 'idade'])\n",
      "dict_items([('nome', 'Gustavo'), ('sexo', 'M'), ('idade', 34)])\n"
     ]
    }
   ],
   "source": [
    "print(pessoas.values())\n",
    "print(pessoas.keys())\n",
    "print(pessoas.items())"
   ]
  },
  {
   "cell_type": "code",
   "execution_count": 21,
   "id": "72a3d7f4",
   "metadata": {},
   "outputs": [
    {
     "name": "stdout",
     "output_type": "stream",
     "text": [
      "nome\n",
      "sexo\n",
      "idade\n"
     ]
    }
   ],
   "source": [
    "#Acessando via laços\n",
    "for k in pessoas.keys():\n",
    "    print(k)"
   ]
  },
  {
   "cell_type": "code",
   "execution_count": 22,
   "id": "6732b3e6",
   "metadata": {},
   "outputs": [
    {
     "name": "stdout",
     "output_type": "stream",
     "text": [
      "Gustavo\n",
      "M\n",
      "34\n"
     ]
    }
   ],
   "source": [
    "for v in pessoas.values():\n",
    "    print(v)"
   ]
  },
  {
   "cell_type": "code",
   "execution_count": 23,
   "id": "5c2dc73f",
   "metadata": {},
   "outputs": [
    {
     "name": "stdout",
     "output_type": "stream",
     "text": [
      "nome = Gustavo\n",
      "sexo = M\n",
      "idade = 34\n"
     ]
    }
   ],
   "source": [
    "#Para items precisa passar a chave + valor no for \n",
    "for k,v in pessoas.items():\n",
    "    print(f'{k} = {v}')"
   ]
  },
  {
   "cell_type": "code",
   "execution_count": 26,
   "id": "d338dcae",
   "metadata": {},
   "outputs": [],
   "source": [
    "#Dicionário dentro de uma lista \n",
    "brasil = []\n",
    "estado1 = {'uf':'Rio de Janeiro', 'Sigla':'RJ'}\n",
    "estado2 = {'uf':'São Paulo', 'Sigla':'SP'}\n",
    "brasil.append(estado1)\n",
    "brasil.append(estado2)"
   ]
  },
  {
   "cell_type": "code",
   "execution_count": 27,
   "id": "bfc48597",
   "metadata": {},
   "outputs": [
    {
     "name": "stdout",
     "output_type": "stream",
     "text": [
      "[{'uf': 'Rio de Janeiro', 'Sigla': 'RJ'}, {'uf': 'São Paulo', 'Sigla': 'SP'}]\n"
     ]
    }
   ],
   "source": [
    "print(brasil)"
   ]
  },
  {
   "cell_type": "code",
   "execution_count": 28,
   "id": "0d954ba7",
   "metadata": {},
   "outputs": [
    {
     "name": "stdout",
     "output_type": "stream",
     "text": [
      "{'uf': 'Rio de Janeiro', 'Sigla': 'RJ'}\n"
     ]
    }
   ],
   "source": [
    "print(brasil[0])"
   ]
  },
  {
   "cell_type": "code",
   "execution_count": 30,
   "id": "55f14215",
   "metadata": {},
   "outputs": [
    {
     "name": "stdout",
     "output_type": "stream",
     "text": [
      "São Paulo\n"
     ]
    }
   ],
   "source": [
    "print(brasil[1]['uf'])"
   ]
  },
  {
   "cell_type": "code",
   "execution_count": 32,
   "id": "1f7a1e23",
   "metadata": {},
   "outputs": [
    {
     "name": "stdout",
     "output_type": "stream",
     "text": [
      "Unidade feredativa: São Paulo \n",
      "Sigla do estado: SP\n",
      "Unidade feredativa: Rio de Janeiro \n",
      "Sigla do estado: RJ\n",
      "Unidade feredativa: Goias \n",
      "Sigla do estado: GO\n",
      "[{'uf': 'São Paulo ', 'sigla': 'SP'}, {'uf': 'Rio de Janeiro ', 'sigla': 'RJ'}, {'uf': 'Goias ', 'sigla': 'GO'}]\n",
      "O campo uf tem o valor São Paulo .\n",
      "O campo sigla tem o valor SP.\n",
      "O campo uf tem o valor Rio de Janeiro .\n",
      "O campo sigla tem o valor RJ.\n",
      "O campo uf tem o valor Goias .\n",
      "O campo sigla tem o valor GO.\n"
     ]
    }
   ],
   "source": [
    "estado = dict()\n",
    "brasil = list()\n",
    "for c in range(0,3):\n",
    "    estado['uf'] = str(input('Unidade feredativa: '))\n",
    "    estado['sigla'] = str(input('Sigla do estado: '))\n",
    "    brasil.append(estado.copy()) #É preciso usar o copy(), não aceita [:](fatiamento)\n",
    "print(brasil)\n",
    "for e in brasil:\n",
    "    for k,v in e.items():\n",
    "        print(f'O campo {k} tem o valor {v}.')"
   ]
  },
  {
   "cell_type": "markdown",
   "id": "c32ab6f3",
   "metadata": {},
   "source": [
    "## Desafios "
   ]
  },
  {
   "cell_type": "code",
   "execution_count": null,
   "id": "ddcd739e",
   "metadata": {},
   "outputs": [],
   "source": []
  }
 ],
 "metadata": {
  "kernelspec": {
   "display_name": "Python 3 (ipykernel)",
   "language": "python",
   "name": "python3"
  },
  "language_info": {
   "codemirror_mode": {
    "name": "ipython",
    "version": 3
   },
   "file_extension": ".py",
   "mimetype": "text/x-python",
   "name": "python",
   "nbconvert_exporter": "python",
   "pygments_lexer": "ipython3",
   "version": "3.9.7"
  }
 },
 "nbformat": 4,
 "nbformat_minor": 5
}
