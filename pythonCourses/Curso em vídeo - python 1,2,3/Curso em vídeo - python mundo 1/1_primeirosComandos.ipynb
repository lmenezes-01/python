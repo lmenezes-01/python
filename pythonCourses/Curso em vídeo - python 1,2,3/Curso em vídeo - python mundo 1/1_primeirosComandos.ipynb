{
 "cells": [
  {
   "cell_type": "markdown",
   "id": "c8b76578",
   "metadata": {},
   "source": [
    "# Primeiros comandos "
   ]
  },
  {
   "cell_type": "code",
   "execution_count": 1,
   "id": "17aa65bf",
   "metadata": {},
   "outputs": [
    {
     "name": "stdout",
     "output_type": "stream",
     "text": [
      "Olá mundo!\n"
     ]
    }
   ],
   "source": [
    "#String\n",
    "print('Olá mundo!')"
   ]
  },
  {
   "cell_type": "code",
   "execution_count": 2,
   "id": "e7c88c39",
   "metadata": {},
   "outputs": [
    {
     "name": "stdout",
     "output_type": "stream",
     "text": [
      "11\n"
     ]
    }
   ],
   "source": [
    "#Número\n",
    "print(7+4)"
   ]
  },
  {
   "cell_type": "code",
   "execution_count": 3,
   "id": "c705a157",
   "metadata": {},
   "outputs": [
    {
     "name": "stdout",
     "output_type": "stream",
     "text": [
      "74\n"
     ]
    }
   ],
   "source": [
    "#Concatenando String \n",
    "print('7'+'4')"
   ]
  },
  {
   "cell_type": "code",
   "execution_count": 4,
   "id": "5a339701",
   "metadata": {},
   "outputs": [],
   "source": [
    "#Toda variável é um objeto no Python \n",
    "# O \"+\" não funciona para concatenar uma váriavel com texto em seguida, precisa colocar \",\""
   ]
  },
  {
   "cell_type": "code",
   "execution_count": 5,
   "id": "cef8baf7",
   "metadata": {},
   "outputs": [
    {
     "name": "stdout",
     "output_type": "stream",
     "text": [
      "Meu nome é Teste tenho 20 anos e peso 80 Kg\n"
     ]
    }
   ],
   "source": [
    "#Criando variáveis\n",
    "nome = 'Teste'\n",
    "idade = '20'\n",
    "peso = '80'\n",
    "\n",
    "print('Meu nome é', nome,'tenho', idade, 'anos e peso', peso, 'Kg')"
   ]
  },
  {
   "cell_type": "code",
   "execution_count": 6,
   "id": "739adf61",
   "metadata": {},
   "outputs": [
    {
     "name": "stdout",
     "output_type": "stream",
     "text": [
      "Qual o seu nome?Lucas\n",
      "Qual a sua idade?20\n",
      "Quanto você pesa?70 Kg\n",
      "Lucas 20 70 Kg\n"
     ]
    }
   ],
   "source": [
    "#Input armazena o que o usuário digitou na variável\n",
    "nome = input('Qual o seu nome?')\n",
    "idade = input('Qual a sua idade?')\n",
    "peso = input('Quanto você pesa?')\n",
    "\n",
    "print(nome,idade,peso)"
   ]
  },
  {
   "cell_type": "markdown",
   "id": "43910a44",
   "metadata": {},
   "source": [
    "# Desafios"
   ]
  },
  {
   "cell_type": "raw",
   "id": "8b757c2e",
   "metadata": {},
   "source": [
    "1 - Crie um scrip Python que leia o nome de uma pessoa e mostre uma mensagem de boas-vindas de acordo com o valor digitado"
   ]
  },
  {
   "cell_type": "code",
   "execution_count": 7,
   "id": "cf8a0c8c",
   "metadata": {},
   "outputs": [
    {
     "name": "stdout",
     "output_type": "stream",
     "text": [
      "Qual o seu nome?Lucas\n",
      "Olá Lucas ! Prazer em te conhecer\n"
     ]
    }
   ],
   "source": [
    "nome = input('Qual o seu nome?')\n",
    "print('Olá', nome, '! Prazer em te conhecer' )"
   ]
  },
  {
   "cell_type": "raw",
   "id": "89a13bf7",
   "metadata": {},
   "source": [
    "2 - Crie um script Python que leia o dia, o mês e o ano de nascimento de uma pessoa e mostre uma mensagem com a data formatada"
   ]
  },
  {
   "cell_type": "code",
   "execution_count": 8,
   "id": "46f79cc3",
   "metadata": {},
   "outputs": [
    {
     "name": "stdout",
     "output_type": "stream",
     "text": [
      "Qual o dia do seu aniversário?xx\n",
      "Qual o mês do seu anivesário?xx\n",
      "Que ano você nasceu?xxxx\n",
      "Você nasceu em xx de xx de xxxx . Correto?\n"
     ]
    }
   ],
   "source": [
    "dia = input('Qual o dia do seu aniversário?')\n",
    "mes = input('Qual o mês do seu anivesário?')\n",
    "ano = input('Que ano você nasceu?')\n",
    "print('Você nasceu em',dia,'de',mes,'de',ano,'. Correto?')"
   ]
  },
  {
   "cell_type": "raw",
   "id": "5fd65300",
   "metadata": {},
   "source": [
    "3 - Crie um script Python que leia dois números e tente mostrar a soma entre eles "
   ]
  },
  {
   "cell_type": "code",
   "execution_count": 9,
   "id": "149a0e13",
   "metadata": {},
   "outputs": [
    {
     "name": "stdout",
     "output_type": "stream",
     "text": [
      "Primeiro valor:10\n",
      "Segundo valor:5\n",
      "A soma entre os dois valores são: 15\n"
     ]
    }
   ],
   "source": [
    "n1 = int(input('Primeiro valor:'))\n",
    "n2 = int(input('Segundo valor:'))\n",
    "s = n1+n2\n",
    "print('A soma entre os dois valores são:',s)"
   ]
  }
 ],
 "metadata": {
  "gist": {
   "data": {
    "description": "Documents/python/python1/1_primeirosComandos.ipynb",
    "public": false
   },
   "id": ""
  },
  "kernelspec": {
   "display_name": "Python 3",
   "language": "python",
   "name": "python3"
  },
  "language_info": {
   "codemirror_mode": {
    "name": "ipython",
    "version": 3
   },
   "file_extension": ".py",
   "mimetype": "text/x-python",
   "name": "python",
   "nbconvert_exporter": "python",
   "pygments_lexer": "ipython3",
   "version": "3.8.8"
  },
  "toc": {
   "base_numbering": 1,
   "nav_menu": {},
   "number_sections": true,
   "sideBar": true,
   "skip_h1_title": false,
   "title_cell": "Table of Contents",
   "title_sidebar": "Contents",
   "toc_cell": false,
   "toc_position": {},
   "toc_section_display": true,
   "toc_window_display": true
  },
  "varInspector": {
   "cols": {
    "lenName": 16,
    "lenType": 16,
    "lenVar": 40
   },
   "kernels_config": {
    "python": {
     "delete_cmd_postfix": "",
     "delete_cmd_prefix": "del ",
     "library": "var_list.py",
     "varRefreshCmd": "print(var_dic_list())"
    },
    "r": {
     "delete_cmd_postfix": ") ",
     "delete_cmd_prefix": "rm(",
     "library": "var_list.r",
     "varRefreshCmd": "cat(var_dic_list()) "
    }
   },
   "types_to_exclude": [
    "module",
    "function",
    "builtin_function_or_method",
    "instance",
    "_Feature"
   ],
   "window_display": false
  }
 },
 "nbformat": 4,
 "nbformat_minor": 5
}
