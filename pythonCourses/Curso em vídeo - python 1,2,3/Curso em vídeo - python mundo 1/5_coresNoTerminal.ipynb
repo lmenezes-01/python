{
 "cells": [
  {
   "cell_type": "markdown",
   "id": "64b0f10f",
   "metadata": {},
   "source": [
    "# Módulo extra - Cores no terminal "
   ]
  },
  {
   "cell_type": "raw",
   "id": "e17b6c93",
   "metadata": {},
   "source": [
    "Estrutura:\n",
    "        \n",
    " \\033[0:33:44m   (\\033[xx:xx:xxm) - Padrão(\\033[m - Fundo preto e texto cinza)\n",
    " 0 - style\n",
    " 33 - text \n",
    " 44 - back \n",
    "Style: \n",
    "0 - Nada \n",
    "1 - Negrito \n",
    "4 - Sublinhado \n",
    "7 - Inverte as configurações \n",
    "\n",
    "Text:\n",
    "30 - Branco      34 - Azul\n",
    "31 - Vermelho    35 - Roxo\n",
    "32 - Verde       36 - Turquesa \n",
    "33 - Amarelo     37 - Cinza \n",
    "\n",
    "Back: \n",
    "40 - Branco      44 - Azul\n",
    "41 - Vermelho    45 - Roxo\n",
    "42 - Verde       46 - Turquesa \n",
    "43 - Amarelo     47 - Cinza "
   ]
  },
  {
   "cell_type": "code",
   "execution_count": 14,
   "id": "c5ce45ac",
   "metadata": {},
   "outputs": [
    {
     "name": "stdout",
     "output_type": "stream",
     "text": [
      "Olá! Muito prazer em te conhecer, \u001b[4;34mLucas\u001b[m!!\n"
     ]
    }
   ],
   "source": [
    "nome = 'Lucas'\n",
    "print('Olá! Muito prazer em te conhecer, {}{}{}!!'.format('\\033[4;34m',nome,'\\033[m'))"
   ]
  }
 ],
 "metadata": {
  "kernelspec": {
   "display_name": "Python 3",
   "language": "python",
   "name": "python3"
  },
  "language_info": {
   "codemirror_mode": {
    "name": "ipython",
    "version": 3
   },
   "file_extension": ".py",
   "mimetype": "text/x-python",
   "name": "python",
   "nbconvert_exporter": "python",
   "pygments_lexer": "ipython3",
   "version": "3.8.8"
  },
  "toc": {
   "base_numbering": 1,
   "nav_menu": {},
   "number_sections": true,
   "sideBar": true,
   "skip_h1_title": false,
   "title_cell": "Table of Contents",
   "title_sidebar": "Contents",
   "toc_cell": false,
   "toc_position": {},
   "toc_section_display": true,
   "toc_window_display": false
  },
  "varInspector": {
   "cols": {
    "lenName": 16,
    "lenType": 16,
    "lenVar": 40
   },
   "kernels_config": {
    "python": {
     "delete_cmd_postfix": "",
     "delete_cmd_prefix": "del ",
     "library": "var_list.py",
     "varRefreshCmd": "print(var_dic_list())"
    },
    "r": {
     "delete_cmd_postfix": ") ",
     "delete_cmd_prefix": "rm(",
     "library": "var_list.r",
     "varRefreshCmd": "cat(var_dic_list()) "
    }
   },
   "types_to_exclude": [
    "module",
    "function",
    "builtin_function_or_method",
    "instance",
    "_Feature"
   ],
   "window_display": false
  }
 },
 "nbformat": 4,
 "nbformat_minor": 5
}
