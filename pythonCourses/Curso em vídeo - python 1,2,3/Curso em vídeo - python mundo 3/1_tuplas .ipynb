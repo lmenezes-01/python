{
 "cells": [
  {
   "cell_type": "markdown",
   "id": "9f7e0e99",
   "metadata": {},
   "source": [
    "# Tuplas"
   ]
  },
  {
   "cell_type": "markdown",
   "id": "148ecfdf",
   "metadata": {},
   "source": [
    "** AS TUPLAS SÃO IMUTÁVEIS **"
   ]
  },
  {
   "cell_type": "code",
   "execution_count": 17,
   "id": "3bfbc1e8",
   "metadata": {},
   "outputs": [],
   "source": [
    "#Exemplo\n",
    "#variável simples   \n",
    "lanche = 'hambuguer' \n",
    "\n",
    "#variavel composta (Tuplas(), listas[] e dicionários{})\n",
    "lanche_tupla = ('hamburguer', 'suco', 'pizza', 'pudim') \n",
    "lanche_lista = ['hamburguer', 'suco', 'pizza', 'pudim']\n",
    "lanche_dicionario = { 'lanche1':'hamburguer',\n",
    "                      'lanche2':'suco',\n",
    "                      'lanche3':'pizza',\n",
    "                      'lanche4':'pudim' }\n"
   ]
  },
  {
   "cell_type": "markdown",
   "id": "cc039744",
   "metadata": {},
   "source": [
    "Tuplas são acessadas pelos seus Índices, partem do 0 "
   ]
  },
  {
   "cell_type": "markdown",
   "id": "d81ed38d",
   "metadata": {},
   "source": [
    "## Fatiamento de Tuplas"
   ]
  },
  {
   "cell_type": "code",
   "execution_count": 7,
   "id": "3e592ac8",
   "metadata": {},
   "outputs": [
    {
     "data": {
      "text/plain": [
       "('hamburguer', 'suco', 'pizza', 'pudim')"
      ]
     },
     "execution_count": 7,
     "metadata": {},
     "output_type": "execute_result"
    }
   ],
   "source": [
    "lanche_tupla"
   ]
  },
  {
   "cell_type": "code",
   "execution_count": 8,
   "id": "2be7b242",
   "metadata": {},
   "outputs": [
    {
     "data": {
      "text/plain": [
       "'hamburguer'"
      ]
     },
     "execution_count": 8,
     "metadata": {},
     "output_type": "execute_result"
    }
   ],
   "source": [
    "lanche_tupla[0]"
   ]
  },
  {
   "cell_type": "code",
   "execution_count": 10,
   "id": "0e375603",
   "metadata": {},
   "outputs": [
    {
     "data": {
      "text/plain": [
       "('hamburguer', 'suco')"
      ]
     },
     "execution_count": 10,
     "metadata": {},
     "output_type": "execute_result"
    }
   ],
   "source": [
    "lanche_tupla[0:2]"
   ]
  },
  {
   "cell_type": "code",
   "execution_count": 12,
   "id": "88483f01",
   "metadata": {},
   "outputs": [
    {
     "data": {
      "text/plain": [
       "('suco', 'pizza', 'pudim')"
      ]
     },
     "execution_count": 12,
     "metadata": {},
     "output_type": "execute_result"
    }
   ],
   "source": [
    "lanche_tupla[1:]"
   ]
  },
  {
   "cell_type": "code",
   "execution_count": 13,
   "id": "0084bbb5",
   "metadata": {},
   "outputs": [
    {
     "data": {
      "text/plain": [
       "'pudim'"
      ]
     },
     "execution_count": 13,
     "metadata": {},
     "output_type": "execute_result"
    }
   ],
   "source": [
    "lanche_tupla[-1] #Último"
   ]
  },
  {
   "cell_type": "markdown",
   "id": "fc0323e6",
   "metadata": {},
   "source": [
    "## Varredura dentro da Tupla com For"
   ]
  },
  {
   "cell_type": "code",
   "execution_count": 14,
   "id": "5a8ec6ea",
   "metadata": {},
   "outputs": [
    {
     "data": {
      "text/plain": [
       "4"
      ]
     },
     "execution_count": 14,
     "metadata": {},
     "output_type": "execute_result"
    }
   ],
   "source": [
    "len(lanche_tupla)"
   ]
  },
  {
   "cell_type": "code",
   "execution_count": 16,
   "id": "bb1afc5b",
   "metadata": {},
   "outputs": [
    {
     "name": "stdout",
     "output_type": "stream",
     "text": [
      "hamburguer\n",
      "suco\n",
      "pizza\n",
      "pudim\n"
     ]
    }
   ],
   "source": [
    "for c in lanche_tupla: \n",
    "    print(c)"
   ]
  },
  {
   "cell_type": "code",
   "execution_count": 21,
   "id": "359a9657",
   "metadata": {},
   "outputs": [
    {
     "name": "stdout",
     "output_type": "stream",
     "text": [
      "0\n",
      "1\n",
      "2\n",
      "3\n"
     ]
    }
   ],
   "source": [
    "#Sem estar atribuido \n",
    "for cont in range(0,len(lanche_tupla)):\n",
    "    print(cont)"
   ]
  },
  {
   "cell_type": "code",
   "execution_count": 22,
   "id": "7b726cd1",
   "metadata": {},
   "outputs": [
    {
     "name": "stdout",
     "output_type": "stream",
     "text": [
      "hamburguer\n",
      "suco\n",
      "pizza\n",
      "pudim\n"
     ]
    }
   ],
   "source": [
    "#Atribuído ao lanche_tupla[]\n",
    "for cont in range(0,len(lanche_tupla)):\n",
    "    print(lanche_tupla[cont])"
   ]
  },
  {
   "cell_type": "code",
   "execution_count": 25,
   "id": "74b4830b",
   "metadata": {},
   "outputs": [
    {
     "name": "stdout",
     "output_type": "stream",
     "text": [
      "Eu vou comer hamburguer na posição 0\n",
      "Eu vou comer suco na posição 1\n",
      "Eu vou comer pizza na posição 2\n",
      "Eu vou comer pudim na posição 3\n"
     ]
    }
   ],
   "source": [
    "#Duas variáveis, uma conta e outra diz o que está escrito \n",
    "for pos, c in enumerate(lanche_tupla):\n",
    "    print(f'Eu vou comer {c} na posição {pos}')\n",
    "          "
   ]
  },
  {
   "cell_type": "code",
   "execution_count": 26,
   "id": "bb402de3",
   "metadata": {},
   "outputs": [
    {
     "name": "stdout",
     "output_type": "stream",
     "text": [
      "['hamburguer', 'pizza', 'pudim', 'suco']\n"
     ]
    }
   ],
   "source": [
    "print(sorted(lanche_tupla)) #Coloca em ordem "
   ]
  },
  {
   "cell_type": "markdown",
   "id": "b6f9745b",
   "metadata": {},
   "source": [
    "## Juntando Tuplas"
   ]
  },
  {
   "cell_type": "code",
   "execution_count": 27,
   "id": "0bf0a036",
   "metadata": {},
   "outputs": [
    {
     "name": "stdout",
     "output_type": "stream",
     "text": [
      "(2, 5, 4, 5, 8, 1, 2)\n"
     ]
    }
   ],
   "source": [
    "a = (2,5,4)\n",
    "b = (5,8,1,2)\n",
    "c = a+b\n",
    "print(c)"
   ]
  },
  {
   "cell_type": "code",
   "execution_count": 29,
   "id": "36f5d126",
   "metadata": {},
   "outputs": [
    {
     "name": "stdout",
     "output_type": "stream",
     "text": [
      "7\n"
     ]
    }
   ],
   "source": [
    "a = (2,5,4)\n",
    "b = (5,8,1,2)\n",
    "c = a+b\n",
    "print(len(c))"
   ]
  },
  {
   "cell_type": "code",
   "execution_count": 30,
   "id": "d2244e0a",
   "metadata": {},
   "outputs": [
    {
     "name": "stdout",
     "output_type": "stream",
     "text": [
      "2\n"
     ]
    }
   ],
   "source": [
    "a = (2,5,4)\n",
    "b = (5,8,1,2)\n",
    "c = a+b\n",
    "print(c.count(5))"
   ]
  },
  {
   "cell_type": "code",
   "execution_count": 32,
   "id": "8a8cb838",
   "metadata": {},
   "outputs": [
    {
     "name": "stdout",
     "output_type": "stream",
     "text": [
      "(2, 5, 4, 5, 8, 1, 2)\n",
      "4\n"
     ]
    }
   ],
   "source": [
    "a = (2,5,4)\n",
    "b = (5,8,1,2)\n",
    "c = a+b\n",
    "print(c)\n",
    "print(c.index(8))"
   ]
  },
  {
   "cell_type": "markdown",
   "id": "09ecffc6",
   "metadata": {},
   "source": [
    "## Estilos "
   ]
  },
  {
   "cell_type": "markdown",
   "id": "6aa3caea",
   "metadata": {},
   "source": [
    "Tuplas aceitam Str, Int, Bool e afins, dentro da mesma variável "
   ]
  },
  {
   "cell_type": "code",
   "execution_count": 33,
   "id": "f84f5762",
   "metadata": {},
   "outputs": [],
   "source": [
    "pessoa = ('Gustavo',20,'M',70)"
   ]
  },
  {
   "cell_type": "code",
   "execution_count": 34,
   "id": "84d69b1b",
   "metadata": {},
   "outputs": [
    {
     "name": "stdout",
     "output_type": "stream",
     "text": [
      "('Gustavo', 20, 'M', 70)\n"
     ]
    }
   ],
   "source": [
    "print(pessoa)"
   ]
  },
  {
   "cell_type": "markdown",
   "id": "bbf30b95",
   "metadata": {},
   "source": [
    "## Deletando Tuplas "
   ]
  },
  {
   "cell_type": "code",
   "execution_count": 35,
   "id": "2de6265b",
   "metadata": {},
   "outputs": [],
   "source": [
    "pessoa1 = ('Gustavo',20,'M',70)"
   ]
  },
  {
   "cell_type": "code",
   "execution_count": 36,
   "id": "b62005da",
   "metadata": {},
   "outputs": [],
   "source": [
    "del(pessoa1)"
   ]
  },
  {
   "cell_type": "markdown",
   "id": "19f01f9f",
   "metadata": {},
   "source": [
    "# Desafio "
   ]
  },
  {
   "cell_type": "markdown",
   "id": "e3c23269",
   "metadata": {},
   "source": [
    "1 - Crie um programa que tenha uma tupla totalmente preenchida com uma contagem por extensão, de zero até 20. \n",
    " - Seu programa deverá ler um número pelo teclado (entre 0 e 20) e mostrá-lo por extenso."
   ]
  },
  {
   "cell_type": "code",
   "execution_count": 49,
   "id": "0e5fd1b0",
   "metadata": {},
   "outputs": [
    {
     "name": "stdout",
     "output_type": "stream",
     "text": [
      "Escolha um valor entre 0 e 20: -1\n",
      "Número inválido! Escolha um valor entre 0 e 20: 21\n",
      "Número inválido! Escolha um valor entre 0 e 20: 6\n",
      "Você digitou 6, cujo nome por extenso é seis\n"
     ]
    }
   ],
   "source": [
    "num = ('um','dois','três','quatro','cinco','seis','sete','oito','nove','dez'\n",
    "       'onze','doze','treze','quatorze','quinze','dezesseis','dezessete','dezoito','dezenove','vinte')\n",
    "escolha = int(input('Escolha um valor entre 0 e 20: '))\n",
    "while escolha < 0 or escolha > 20:\n",
    "    escolha = int(input('Número inválido! Escolha um valor entre 0 e 20: '))\n",
    "print(f'Você digitou {escolha}, cujo nome por extenso é {num[escolha - 1]}')"
   ]
  },
  {
   "cell_type": "markdown",
   "id": "69b094cd",
   "metadata": {},
   "source": [
    "2 - Crie uma tupla com os 20 primeiros colocados da tabela do Campeonato Brasileiro de Futebol, na ordem de colocação. Depois mostre: \n",
    "  - A) Apenas os 5 primeiros colocados \n",
    "  - B) Os últimos 4 colocados da tabela \n",
    "  - C) Uma lista com os times em ordem alfabética \n",
    "  - D) Em que posição na tabela está o time da Chapeconense "
   ]
  },
  {
   "cell_type": "code",
   "execution_count": 108,
   "id": "56ae6e32",
   "metadata": {},
   "outputs": [
    {
     "name": "stdout",
     "output_type": "stream",
     "text": [
      "Os cincos primeiros colados são: ('Atlético-MG', 'Flamengo', 'Palmeiras', 'Fortaleza', 'Corinthians')\n",
      "Os últimos colocados são: ('Grêmio', 'Bahia', 'Sport', 'Chapecoense')\n",
      "Ordem Alfábetica: ['América-MG', 'Athletico-PR', 'Atlético-MG', 'Atlético-MG', 'Bahia', 'Bragantino', 'Ceará', 'Chapecoense', 'Corinthians', 'Cuiabá', 'Flamengo', 'Fluminense', 'Fortaleza', 'Grêmio', 'Internacional', 'Juventude', 'Palmeiras', 'Santos', 'Sport', 'São Paulo']\n",
      "Chapecoense está na 20ª posição\n"
     ]
    }
   ],
   "source": [
    "times = ('Atlético-MG','Flamengo','Palmeiras','Fortaleza','Corinthians','Bragantino','Fluminense','América-MG','Atlético-MG',\n",
    "         'Santos','Ceará','Internacional','São Paulo','Athletico-PR','Cuiabá','Juventude','Grêmio','Bahia','Sport',\n",
    "         'Chapecoense')\n",
    "\n",
    "print(f'Os cincos primeiros colados são: {times[:5]}')\n",
    "print(f'Os últimos colocados são: {times[-4:]}')\n",
    "print(f'Ordem Alfábetica: {sorted(times)}')\n",
    "print(f'Chapecoense está na {times.index(\"Chapecoense\")+1}ª posição')"
   ]
  },
  {
   "cell_type": "markdown",
   "id": "dba29928",
   "metadata": {},
   "source": [
    "3 - Crie um programa que vai gerar 5 números aletórios e colocar em uma tupla.\n",
    "Depois disso, mostre a listagem de números gerados e também indique o menor valor que estão na tupla. "
   ]
  },
  {
   "cell_type": "code",
   "execution_count": 124,
   "id": "909d11b5",
   "metadata": {},
   "outputs": [
    {
     "name": "stdout",
     "output_type": "stream",
     "text": [
      "Os valores sorteados foram: 8 1 4 9 7 \n",
      "O maior valor sorteado foi 9\n",
      "O menor valor sorteado foi 1\n"
     ]
    }
   ],
   "source": [
    "from random import randint\n",
    "numeros = (randint(1, 10),randint(1, 10),randint(1, 10),randint(1, 10),randint(1, 10))\n",
    "print('Os valores sorteados foram: ', end='')\n",
    "for n in numeros:\n",
    "    print(f'{n}', end=' ')\n",
    "print(f'\\nO maior valor sorteado foi {max(numeros)}')\n",
    "print(f'O menor valor sorteado foi {min(numeros)}')\n",
    "    "
   ]
  },
  {
   "cell_type": "markdown",
   "id": "967fff50",
   "metadata": {},
   "source": [
    "4 - Desenvolva um programa que leia quatro valores pelo teclado e guarde-os em uma tupla. No final, mostre: \n",
    "- A) Quantas vezes apareceu o valor 9.\n",
    "- B) Em que posição foi digitado o primeiro valor 3.\n",
    "- C) Quais foram os números pares. "
   ]
  },
  {
   "cell_type": "code",
   "execution_count": 144,
   "id": "6f97fd1f",
   "metadata": {},
   "outputs": [
    {
     "name": "stdout",
     "output_type": "stream",
     "text": [
      "Valor 1: 2\n",
      "Valor 2: 9\n",
      "Valor 3: 4\n",
      "Valor 4: 3\n",
      "Os quatros valores digitados foram: \n",
      "2 9 4 3 \n",
      "O valor 9 apareceu 1 vezes\n",
      "O valor três está na 4ª posição\n",
      "Os valores pares digitados foram 2 4 "
     ]
    }
   ],
   "source": [
    "tupla = (int(input('Valor 1: ')),\n",
    "         int(input('Valor 2: ')),\n",
    "         int(input('Valor 3: ')),\n",
    "         int(input('Valor 4: '))\n",
    "         )\n",
    "\n",
    "print(f'Os quatros valores digitados foram: ')\n",
    "for n in tupla:\n",
    "    print(f'{n}',end=' ')\n",
    "print(f'\\nO valor 9 apareceu {tupla.count(9)} vezes')\n",
    "if 3 in tupla:\n",
    "    print(f'O valor três está na {tupla.index(3)+1}ª posição')\n",
    "else:\n",
    "    print(f'O valor 3 não foi informado')\n",
    "print('Os valores pares digitados foram ',end='')\n",
    "for x in tupla:\n",
    "    if x % 2 == 0: \n",
    "        print(x,end=' ') "
   ]
  },
  {
   "cell_type": "markdown",
   "id": "ed8de6a5",
   "metadata": {},
   "source": [
    "5 - Crie um programa que tenha uma tupla única com nomes de produtos e seus respectivos preços, na sequência.\n",
    "No final, mostre uma listagem de preços, organizando os dados em forma tabular. "
   ]
  },
  {
   "cell_type": "code",
   "execution_count": 154,
   "id": "7e944de2",
   "metadata": {},
   "outputs": [
    {
     "name": "stdout",
     "output_type": "stream",
     "text": [
      "Lápis.........................R$  1.75\n",
      "Borracha......................R$     2\n",
      "Caderno.......................R$ 15.79\n",
      "Estojo........................R$    25\n",
      "Transferidor..................R$   4.2\n",
      "Compasso......................R$  9.99\n",
      "Mochila.......................R$120.32\n",
      "Canetas.......................R$  22.3\n",
      "Livro.........................R$  34.9\n"
     ]
    }
   ],
   "source": [
    "listagem = ('Lápis', 1.75,\n",
    "            'Borracha', 2,\n",
    "            'Caderno', 15.79,\n",
    "            'Estojo', 25,\n",
    "            'Transferidor', 4.20,\n",
    "            'Compasso', 9.99,\n",
    "            'Mochila', 120.32,\n",
    "            'Canetas', 22.30,\n",
    "            'Livro', 34.90)\n",
    "for pos in range(0, len(listagem)):\n",
    "    if pos % 2 == 0:\n",
    "        print(f'{listagem[pos]:.<30}',end='')\n",
    "    else: \n",
    "        print(f'R${listagem[pos]:>6}')"
   ]
  },
  {
   "cell_type": "markdown",
   "id": "bcddf146",
   "metadata": {},
   "source": [
    "6 - Crie um progama que tenha uma tupla com várias palavras(não usar acentos). Depois disso, você deve mostrar, para cada palavra, quais são vogais. "
   ]
  },
  {
   "cell_type": "code",
   "execution_count": 8,
   "id": "4ceb8ea7",
   "metadata": {},
   "outputs": [
    {
     "name": "stdout",
     "output_type": "stream",
     "text": [
      "\n",
      "Na palavra COMPRAR temos o a \n",
      "Na palavra VENDER temos e e \n",
      "Na palavra PROGRAMAR temos o a a \n",
      "Na palavra ESTUDAR temos e u a \n",
      "Na palavra PANELA temos a e a \n",
      "Na palavra FRIGIDEIRA temos i i e i a "
     ]
    }
   ],
   "source": [
    "palavras = ('comprar','vender','programar','estudar','panela','frigideira')\n",
    "for p in palavras:\n",
    "    print(f'\\nNa palavra {p.upper()} temos ',end='')\n",
    "    for letra in p:\n",
    "        if letra.lower() in 'aeiou':\n",
    "            print(letra, end=' ')"
   ]
  }
 ],
 "metadata": {
  "kernelspec": {
   "display_name": "Python 3 (ipykernel)",
   "language": "python",
   "name": "python3"
  },
  "language_info": {
   "codemirror_mode": {
    "name": "ipython",
    "version": 3
   },
   "file_extension": ".py",
   "mimetype": "text/x-python",
   "name": "python",
   "nbconvert_exporter": "python",
   "pygments_lexer": "ipython3",
   "version": "3.9.7"
  },
  "toc": {
   "base_numbering": 1,
   "nav_menu": {},
   "number_sections": true,
   "sideBar": true,
   "skip_h1_title": false,
   "title_cell": "Table of Contents",
   "title_sidebar": "Contents",
   "toc_cell": false,
   "toc_position": {},
   "toc_section_display": true,
   "toc_window_display": true
  },
  "varInspector": {
   "cols": {
    "lenName": 16,
    "lenType": 16,
    "lenVar": 40
   },
   "kernels_config": {
    "python": {
     "delete_cmd_postfix": "",
     "delete_cmd_prefix": "del ",
     "library": "var_list.py",
     "varRefreshCmd": "print(var_dic_list())"
    },
    "r": {
     "delete_cmd_postfix": ") ",
     "delete_cmd_prefix": "rm(",
     "library": "var_list.r",
     "varRefreshCmd": "cat(var_dic_list()) "
    }
   },
   "types_to_exclude": [
    "module",
    "function",
    "builtin_function_or_method",
    "instance",
    "_Feature"
   ],
   "window_display": false
  }
 },
 "nbformat": 4,
 "nbformat_minor": 5
}
