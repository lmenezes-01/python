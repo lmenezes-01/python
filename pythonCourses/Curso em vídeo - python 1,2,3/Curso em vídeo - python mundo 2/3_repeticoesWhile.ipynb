{
 "cells": [
  {
   "cell_type": "markdown",
   "id": "934e2720",
   "metadata": {},
   "source": [
    "# Estrutura de repetição While "
   ]
  },
  {
   "cell_type": "markdown",
   "id": "590623bc",
   "metadata": {},
   "source": [
    "Estrutura que usa o ENQUANTO, sendo assim, não é preciso setar um número limite igual o a estrutura de repetição for. \n",
    "\n",
    "Exemplo: \n",
    "\n",
    "Estruturae m portugol: \n",
    "enquanto não maça \n",
    "    passo \n",
    "pega \n",
    "\n",
    "Python: \n",
    "while not maça:\n",
    "    passo \n",
    "pega "
   ]
  },
  {
   "cell_type": "markdown",
   "id": "0653657b",
   "metadata": {},
   "source": [
    "---- Portugol \n",
    "enquanto não maça \n",
    "    se chão \n",
    "        passo \n",
    "    se vazio \n",
    "        pula \n",
    "    se moeda \n",
    "        pega \n",
    "pega - Quando for True \n",
    "\n",
    "---- Python \n",
    "\n",
    "while not maça:\n",
    "    se chão:\n",
    "        passo \n",
    "    se vazio: \n",
    "        pula \n",
    "    se moeda: \n",
    "        pega \n",
    "pega "
   ]
  },
  {
   "cell_type": "markdown",
   "id": "9a5737ba",
   "metadata": {},
   "source": [
    "## Prática "
   ]
  },
  {
   "cell_type": "code",
   "execution_count": 1,
   "id": "469cbcf5",
   "metadata": {},
   "outputs": [
    {
     "name": "stdout",
     "output_type": "stream",
     "text": [
      "1\n",
      "2\n",
      "3\n",
      "4\n",
      "5\n",
      "6\n",
      "7\n",
      "8\n",
      "9\n",
      "FIM!\n"
     ]
    }
   ],
   "source": [
    "#For \n",
    "for c in range(1,10):\n",
    "    print(c)\n",
    "print('FIM!')"
   ]
  },
  {
   "cell_type": "code",
   "execution_count": 5,
   "id": "b519d8b1",
   "metadata": {},
   "outputs": [
    {
     "name": "stdout",
     "output_type": "stream",
     "text": [
      "1\n",
      "2\n",
      "3\n",
      "4\n",
      "5\n",
      "6\n",
      "7\n",
      "8\n",
      "9\n",
      "FIM!\n"
     ]
    }
   ],
   "source": [
    "#While \n",
    "c = 1 \n",
    "while c < 10:\n",
    "    print(c)\n",
    "    c+=1\n",
    "print('FIM!')"
   ]
  },
  {
   "cell_type": "code",
   "execution_count": 6,
   "id": "d8792bf0",
   "metadata": {},
   "outputs": [
    {
     "name": "stdout",
     "output_type": "stream",
     "text": [
      "Digite um valor: 2\n",
      "Digite um valor: 3\n",
      "Fim\n"
     ]
    }
   ],
   "source": [
    "for c in range(1,3):\n",
    "    n = int(input('Digite um valor: '))\n",
    "print('Fim')"
   ]
  },
  {
   "cell_type": "code",
   "execution_count": 7,
   "id": "77110455",
   "metadata": {},
   "outputs": [
    {
     "name": "stdout",
     "output_type": "stream",
     "text": [
      "Digite um valor: 10\n",
      "Digite um valor: 23\n",
      "Digite um valor: 65\n",
      "Digite um valor: 89\n",
      "Digite um valor: 656\n",
      "Digite um valor: 0\n",
      "Fim\n"
     ]
    }
   ],
   "source": [
    "n = 1 \n",
    "while n != 0: #Flag - Condição de parada \n",
    "    n = int(input('Digite um valor: '))\n",
    "print('Fim')"
   ]
  },
  {
   "cell_type": "code",
   "execution_count": 10,
   "id": "79109ca1",
   "metadata": {},
   "outputs": [
    {
     "name": "stdout",
     "output_type": "stream",
     "text": [
      "Digite um valor: 10\n",
      "Quer continuar? [S/N]s\n",
      "Digite um valor: 56\n",
      "Quer continuar? [S/N]s\n",
      "Digite um valor: 59\n",
      "Quer continuar? [S/N]n\n",
      "Fim\n"
     ]
    }
   ],
   "source": [
    "r = 'S' \n",
    "while r == 'S': #Flag - Condição de parada \n",
    "    n = int(input('Digite um valor: '))\n",
    "    r = str(input('Quer continuar? [S/N] ')).upper()\n",
    "print('Fim')"
   ]
  },
  {
   "cell_type": "code",
   "execution_count": 18,
   "id": "e824939a",
   "metadata": {},
   "outputs": [
    {
     "name": "stdout",
     "output_type": "stream",
     "text": [
      "Digite um valor: 1\n",
      "Digite um valor: 2\n",
      "Digite um valor: 3\n",
      "Digite um valor: 4\n",
      "Digite um valor: 5\n",
      "Digite um valor: 0\n",
      "Acabou, tivemos 2 pares e 3 impares\n"
     ]
    }
   ],
   "source": [
    "n = 1\n",
    "par = 0\n",
    "impar = 0 \n",
    "while n != 0:\n",
    "    n = int(input('Digite um valor: '))\n",
    "    if n != 0:\n",
    "        if n % 2 == 0:\n",
    "            par += 1\n",
    "        else:\n",
    "            impar += 1 \n",
    "print('Acabou, tivemos {} pares e {} impares'.format(par,impar))"
   ]
  },
  {
   "cell_type": "markdown",
   "id": "daa8a247",
   "metadata": {},
   "source": [
    "## Exercícios "
   ]
  },
  {
   "cell_type": "markdown",
   "id": "a64c3ec5",
   "metadata": {},
   "source": [
    "1 - Faça um programa que leia o sexo de uma pessoa, mas só aceite os valores 'M' ou 'F'. Caso esteja errado, peça a digitação \n",
    "novamente até ter um valor correto."
   ]
  },
  {
   "cell_type": "code",
   "execution_count": 52,
   "id": "9234e2b9",
   "metadata": {},
   "outputs": [
    {
     "name": "stdout",
     "output_type": "stream",
     "text": [
      "Digite o seu sexo: [M/F] h\n",
      "Digite novamente o sexo: [M/F]e\n",
      "Digite novamente o sexo: [M/F]a\n",
      "Digite novamente o sexo: [M/F]f\n",
      "O sexo F foi registrado com sucesso\n"
     ]
    }
   ],
   "source": [
    "s = str(input('Digite o seu sexo: [M/F] ')).strip().upper()[0]\n",
    "while s not in 'MmFf':\n",
    "    s = str(input('Digite novamente o sexo: [M/F]')).strip().upper()[0]\n",
    "print('O sexo {} foi registrado com sucesso'.format(s))\n",
    "    "
   ]
  },
  {
   "cell_type": "markdown",
   "id": "1c9d3591",
   "metadata": {},
   "source": [
    "2 - Melhore o jogo DESAFIO 028 onde o computador vai \"pensar\" em um número entre 0 e 10. Só que agora o jogador vai tentar\n",
    "advininhar até acertar, mostrando no final quantos palpites foram necessários para vencer."
   ]
  },
  {
   "cell_type": "code",
   "execution_count": 40,
   "id": "34057c24",
   "metadata": {},
   "outputs": [
    {
     "name": "stdout",
     "output_type": "stream",
     "text": [
      "Qual valor você acha que o computador escolheu? 6\n",
      "Menos...tente novamente: 5\n",
      "Menos...tente novamente: 4\n",
      "Acertou!!! O computador escolheu 4 e você escolheu 4\n"
     ]
    }
   ],
   "source": [
    "from random import randint \n",
    "x = randint(1,11)\n",
    "num = int(input('Qual valor você acha que o computador escolheu? '))\n",
    "while num != x:\n",
    "    if x > num:\n",
    "        num = int(input('Mais...tente novamente: '))\n",
    "    else:\n",
    "        num = int(input('Menos...tente novamente: '))\n",
    "print('Acertou!!! O computador escolheu {} e você escolheu {}'.format(x,num))"
   ]
  },
  {
   "cell_type": "markdown",
   "id": "edb3dd56",
   "metadata": {},
   "source": [
    "3 - Crie um programa que leia dois valores e mostre um menu na tela:\n",
    "    [1] Somar \n",
    "    [2] Multiplicar \n",
    "    [3] Maior \n",
    "    [4] Novos números \n",
    "    [5] Sair do programa \n",
    "Seu programa deverá realizar a operação solicitada em cada caso. "
   ]
  },
  {
   "cell_type": "code",
   "execution_count": 17,
   "id": "0761a745",
   "metadata": {},
   "outputs": [
    {
     "name": "stdout",
     "output_type": "stream",
     "text": [
      "Digite dois números e escolha as opções do menu!\n",
      "Digite o primeiro valor: 10\n",
      "Digite o segundo valor: 20\n",
      "========================\n",
      "Menu de opções:\n",
      " 1 - Somar\n",
      " 2 - Multiplicar\n",
      " 3 - Maior\n",
      " 4 - Novos usuários\n",
      " 5 - Sair do programa\n",
      "========================\n",
      "Digite a sua opção: 1\n",
      "30\n",
      "Digite a sua nova opção de menu: 2\n",
      "200\n",
      "Digite a sua nova opção de menu: 3\n",
      "False\n",
      "Digite a sua nova opção de menu: 4\n",
      "Digite um novo primeiro valor: 10\n",
      "Digite um novo segundo valor: 40\n",
      "Digite a sua nova opção de menu: 1\n",
      "50\n",
      "Digite a sua nova opção de menu: 2\n",
      "400\n",
      "Digite a sua nova opção de menu: 3\n",
      "False\n",
      "Digite a sua nova opção de menu: 5\n",
      "Programa fechado!\n"
     ]
    }
   ],
   "source": [
    "print('Digite dois números e escolha as opções do menu!')\n",
    "num1 = int(input('Digite o primeiro valor: '))\n",
    "num2 = int(input('Digite o segundo valor: '))\n",
    "print('=='*12)\n",
    "print('Menu de opções:\\n 1 - Somar\\n 2 - Multiplicar\\n 3 - Maior\\n 4 - Novos usuários\\n 5 - Sair do programa')\n",
    "print('=='*12)\n",
    "n = int(input('Digite a sua opção: '))\n",
    "while n != 5:\n",
    "    if n == 1:\n",
    "        print(num1 + num2)\n",
    "    elif n == 2: \n",
    "        print(num1 * num2)\n",
    "    elif n == 3: \n",
    "        print(num1 > num2)\n",
    "    elif n == 4:\n",
    "        num1 = int(input('Digite um novo primeiro valor: '))\n",
    "        num2 = int(input('Digite um novo segundo valor: '))\n",
    "    n = int(input('Digite a sua nova opção de menu: '))\n",
    "print('Programa fechado!')\n",
    "        \n",
    "    \n",
    "    "
   ]
  },
  {
   "cell_type": "markdown",
   "id": "8339bcb4",
   "metadata": {},
   "source": [
    "4 - Faça um programa que leia um número qualquer e mostre o seu fatorial.\n",
    "Ex:\n",
    "    5! = 5*4*3*2*1 = 120 "
   ]
  },
  {
   "cell_type": "code",
   "execution_count": 43,
   "id": "fda0cab8",
   "metadata": {},
   "outputs": [
    {
     "name": "stdout",
     "output_type": "stream",
     "text": [
      "Digite um número para calcular seu fatorial: 10\n",
      "O fatorial de 10 é 3628800\n"
     ]
    }
   ],
   "source": [
    "#Usando biblioteca \n",
    "from math import factorial \n",
    "n = int(input('Digite um número para calcular seu fatorial: '))\n",
    "f = factorial(n)\n",
    "print('O fatorial de {} é {}'.format(n,f))"
   ]
  },
  {
   "cell_type": "code",
   "execution_count": 57,
   "id": "5a39f890",
   "metadata": {},
   "outputs": [
    {
     "name": "stdout",
     "output_type": "stream",
     "text": [
      "Digite um número para calcular seu fatorial: 5\n",
      "Calculando 5! = 5  x  4  x  3  x  2  x  1 = 120\n"
     ]
    }
   ],
   "source": [
    "#Usando lógica \n",
    "n = int(input('Digite um número para calcular seu fatorial: '))\n",
    "c = n \n",
    "f = 1\n",
    "print('Calculando {}! = '.format(n), end='')\n",
    "while c > 0:\n",
    "    print('{}'.format(c), end=' ')\n",
    "    print(' x ' if c > 1 else '=', end=' ')\n",
    "    f = f * c\n",
    "    c -= 1 \n",
    "print('{}'.format(f))"
   ]
  },
  {
   "cell_type": "markdown",
   "id": "10a3c40e",
   "metadata": {},
   "source": [
    "5 - Refaça o Desafio 061, lendo o primeiro termo e a razão de uma PA, mostrando os 10 primeiros termos da progressão usando \n",
    "a estrutura while."
   ]
  },
  {
   "cell_type": "code",
   "execution_count": 58,
   "id": "21eabdf8",
   "metadata": {},
   "outputs": [
    {
     "name": "stdout",
     "output_type": "stream",
     "text": [
      "Gerador de PA\n",
      "-=-=-=-=-=-=-=-=-=-=\n",
      "Primeiro termo: 10\n",
      "Razão da PA: 2\n",
      "10 - 12 - 14 - 16 - 18 - 20 - 22 - 24 - 26 - 28 - Fim\n"
     ]
    }
   ],
   "source": [
    "print('Gerador de PA')\n",
    "print('-='*10)\n",
    "primeiro = int(input('Primeiro termo: '))\n",
    "razao = int(input('Razão da PA: '))\n",
    "termo = primeiro \n",
    "cont = 1 \n",
    "while cont <= 10:\n",
    "    print('{} - '.format(termo),end='')\n",
    "    termo += razao\n",
    "    cont += 1 \n",
    "print('Fim')"
   ]
  },
  {
   "cell_type": "markdown",
   "id": "93acba05",
   "metadata": {},
   "source": [
    "6 - Melhore o Desafio 061, perguntando para o usuário se ele quer mostrar mais alguns termos. O programa encerra quando ele\n",
    "disse que quer mostrar 0 termos."
   ]
  },
  {
   "cell_type": "code",
   "execution_count": 61,
   "id": "22f6ee2e",
   "metadata": {},
   "outputs": [
    {
     "name": "stdout",
     "output_type": "stream",
     "text": [
      "Gerador de PA\n",
      "-=-=-=-=-=-=-=-=-=-=\n",
      "Primeiro termo: 0\n",
      "Razão da PA: 5\n",
      "0 - 5 - 10 - 15 - 20 - 25 - 30 - 35 - 40 - 45 - Pausa\n",
      "Quantos termos você quer mostrar a mais? 7\n",
      "50 - 55 - 60 - 65 - 70 - 75 - 80 - Pausa\n",
      "Quantos termos você quer mostrar a mais? 2\n",
      "85 - 90 - Pausa\n",
      "Quantos termos você quer mostrar a mais? 0\n",
      "Progressão finalizada com 19 termos mostrados\n"
     ]
    }
   ],
   "source": [
    "print('Gerador de PA')\n",
    "print('-='*10)\n",
    "primeiro = int(input('Primeiro termo: '))\n",
    "razao = int(input('Razão da PA: '))\n",
    "termo = primeiro \n",
    "cont = 1 \n",
    "total = 0\n",
    "mais = 10\n",
    "while mais != 0:\n",
    "    total = total + mais \n",
    "    while cont <= total:\n",
    "        print('{} - '.format(termo),end='')\n",
    "        termo += razao\n",
    "        cont += 1 \n",
    "    print('Pausa')\n",
    "    mais = int(input('Quantos termos você quer mostrar a mais? '))\n",
    "print('Progressão finalizada com {} termos mostrados'.format(total))"
   ]
  },
  {
   "cell_type": "markdown",
   "id": "a4336470",
   "metadata": {},
   "source": [
    "7 - Escreva um programa que leia um número n inteiro qualquer e mostre na tela os n primeiros elementos de uma sequência de\n",
    "Fibonacci. \n",
    "Ex: \n",
    "    0 - 1 - 1 - 2 - 3 - 5 - 8  "
   ]
  },
  {
   "cell_type": "code",
   "execution_count": 64,
   "id": "b3ce5298",
   "metadata": {},
   "outputs": [
    {
     "name": "stdout",
     "output_type": "stream",
     "text": [
      "------------------------------\n",
      "Sequência de Fibonacci\n",
      "------------------------------\n",
      "Quantos termos você quer mostrar? 10\n",
      "~~~~~~~~~~~~~~~~~~~~~~~~~~~~~~\n",
      "0 - 1 - 1 - 2 - 3 - 5 - 8 - 13 - 21 - 34 - Fim\n"
     ]
    }
   ],
   "source": [
    "print('-'*30)\n",
    "print('Sequência de Fibonacci')\n",
    "print('-'*30)\n",
    "n = int(input('Quantos termos você quer mostrar? '))\n",
    "t1 = 0 \n",
    "t2 = 1 \n",
    "print('~'*30)\n",
    "print('{} - {}'.format(t1,t2), end='')\n",
    "cont = 3 \n",
    "while cont <= n:\n",
    "    t3 = t1 + t2 \n",
    "    print(' - {}'.format(t3),end='')\n",
    "    t1 = t2\n",
    "    t2 = t3\n",
    "    cont += 1\n",
    "print(' - Fim')"
   ]
  },
  {
   "cell_type": "markdown",
   "id": "93c1bf82",
   "metadata": {},
   "source": [
    "8 - Crie um programa que leia vários números inteiros pelo teclado. O programa só vai parar quando o usuário digitar o valor\n",
    "999, que é a condição de parada. No final, mostre quantos números foram digitados e qual foi a soma entre eles(Desconsiderando\n",
    "o flag)."
   ]
  },
  {
   "cell_type": "code",
   "execution_count": 68,
   "id": "1db24c2d",
   "metadata": {},
   "outputs": [
    {
     "name": "stdout",
     "output_type": "stream",
     "text": [
      "Digite um número [999 para parar]: 10\n",
      "Digite um número [999 para parar]: 6\n",
      "Digite um número [999 para parar]: 54\n",
      "Digite um número [999 para parar]: 999\n",
      "A quantidade de números digitados foi de 3 e a soma deles resultam em 70\n"
     ]
    }
   ],
   "source": [
    "num = cont = soma = 0\n",
    "num = int(input('Digite um número [999 para parar]: '))\n",
    "while num != 999:\n",
    "    soma += num  \n",
    "    cont += 1\n",
    "    num = int(input('Digite um número [999 para parar]: '))\n",
    "print('A quantidade de números digitados foi de {} e a soma deles resultam em {}'.format(cont,soma))"
   ]
  },
  {
   "cell_type": "markdown",
   "id": "33a988dd",
   "metadata": {},
   "source": [
    "9 - Crie um programa que leia vários númeos inteiros pelo teclado. No final da execução, mostre a média entre todos os valores\n",
    "e qual foi o maior e o menor valores lidos. O programa deve perguntar ao usuário se ele quer ou não continuar a digitar valores."
   ]
  },
  {
   "cell_type": "code",
   "execution_count": 87,
   "id": "ccf993d8",
   "metadata": {},
   "outputs": [
    {
     "name": "stdout",
     "output_type": "stream",
     "text": [
      "Digite um valor: 20\n",
      "Deseja continuar? [S/N]s\n",
      "Digite um valor: 63\n",
      "Deseja continuar? [S/N]s\n",
      "Digite um valor: 10\n",
      "Deseja continuar? [S/N]s\n",
      "Digite um valor: 2\n",
      "Deseja continuar? [S/N]n\n",
      "Programa encerrado!\n",
      "Valor total - 95\n",
      "Quantidade total - 4\n",
      "Média - 23.75\n",
      "Maior valor - 63\n",
      "Menor Valor - 2\n"
     ]
    }
   ],
   "source": [
    "s = q = media = maiorvalor = menorvalor = 0\n",
    "cont=''\n",
    "while cont != 'N':\n",
    "    num = int(input('Digite um valor: '))\n",
    "    q += 1 \n",
    "    s += num \n",
    "    if q == 1: \n",
    "        maiorvalor = menorvalor = num\n",
    "    else: \n",
    "        if num > maiorvalor: \n",
    "            maiorvalor = num \n",
    "        if num < menorvalor: \n",
    "            menorvalor = num \n",
    "    cont = str(input('Deseja continuar? [S/N]')).strip().upper()\n",
    "media = s/q \n",
    "print('Programa encerrado!\\nValor total - {}\\nQuantidade total - {}\\nMédia - {}\\nMaior valor - {}\\nMenor Valor - {}'.format(\n",
    "      s,q,media,maiorvalor,menorvalor))"
   ]
  },
  {
   "cell_type": "markdown",
   "id": "638901ee",
   "metadata": {},
   "source": [
    "# Interompendo repetições while "
   ]
  },
  {
   "cell_type": "markdown",
   "id": "4701606a",
   "metadata": {},
   "source": [
    "Exemplo da estrutura:\n",
    "    \n",
    "Portugol - \n",
    "enquanto verdadeiro\n",
    "    se chão \n",
    "        passo \n",
    "    se vazio \n",
    "        pula \n",
    "    se moeda \n",
    "        pega \n",
    "    se trofeu \n",
    "        pula\n",
    "        interrompa \n",
    "pega \n",
    "\n",
    "Python - \n",
    "while True:\n",
    "    if chão:\n",
    "        passo \n",
    "    if vazio:\n",
    "        pula \n",
    "    if moeda:\n",
    "        pega \n",
    "    if trofeu: \n",
    "        break #Para o programa  \n",
    "pega "
   ]
  },
  {
   "cell_type": "code",
   "execution_count": 133,
   "id": "9a4fc966",
   "metadata": {},
   "outputs": [
    {
     "name": "stdout",
     "output_type": "stream",
     "text": [
      "1 ...2 ...3 ...4 ...5 ...6 ...7 ...8 ...9 ...10 ...Acabou\n"
     ]
    }
   ],
   "source": [
    "cont = 1 \n",
    "while cont <= 10:\n",
    "    print(cont, '...', end='')\n",
    "    cont += 1\n",
    "print('Acabou')"
   ]
  },
  {
   "cell_type": "code",
   "execution_count": 132,
   "id": "5c07d8a1",
   "metadata": {},
   "outputs": [],
   "source": [
    "#Looping infinito, usando o True \n",
    "#cont = 1 \n",
    "#while True:\n",
    "#    print(cont, '...', end='')\n",
    "#    cont += 1\n",
    "#print('Acabou')"
   ]
  },
  {
   "cell_type": "code",
   "execution_count": 100,
   "id": "4037d03b",
   "metadata": {},
   "outputs": [
    {
     "name": "stdout",
     "output_type": "stream",
     "text": [
      "Digite um número: 1\n",
      "Digite um número: 6\n",
      "Digite um número: 9\n",
      "Digite um número: 8\n",
      "Digite um número: 999\n"
     ]
    }
   ],
   "source": [
    "n=0\n",
    "while n != 999:\n",
    "    n = int(input('Digite um número: '))"
   ]
  },
  {
   "cell_type": "code",
   "execution_count": 99,
   "id": "a99aff1d",
   "metadata": {},
   "outputs": [
    {
     "name": "stdout",
     "output_type": "stream",
     "text": [
      "Digite um número: 1\n",
      "Digite um número: 6\n",
      "Digite um número: 9\n",
      "Digite um número: 8\n",
      "Digite um número: 999\n",
      "A soma vale 24\n"
     ]
    }
   ],
   "source": [
    "n = s = 0 \n",
    "while True:\n",
    "    n = int(input('Digite um número: '))\n",
    "    if n == 999:\n",
    "        break\n",
    "    s += n \n",
    "print('A soma vale {}'.format(s))"
   ]
  },
  {
   "cell_type": "markdown",
   "id": "cce2c522",
   "metadata": {},
   "source": [
    "## Novos comandos em Python "
   ]
  },
  {
   "cell_type": "markdown",
   "id": "0ee7b413",
   "metadata": {},
   "source": [
    "Fstring "
   ]
  },
  {
   "cell_type": "code",
   "execution_count": 101,
   "id": "25fada7f",
   "metadata": {},
   "outputs": [
    {
     "name": "stdout",
     "output_type": "stream",
     "text": [
      "Digite um número: 10\n",
      "Digite um número: 999\n",
      "A soma vale 10\n"
     ]
    }
   ],
   "source": [
    "n = s = 0 \n",
    "while True:\n",
    "    n = int(input('Digite um número: '))\n",
    "    if n == 999:\n",
    "        break\n",
    "    s += n \n",
    "#print('A soma vale {}'.format(s))\n",
    "print(f'A soma vale {s}')"
   ]
  },
  {
   "cell_type": "code",
   "execution_count": 102,
   "id": "a05b90c4",
   "metadata": {},
   "outputs": [
    {
     "name": "stdout",
     "output_type": "stream",
     "text": [
      "O José tem 33 anos\n"
     ]
    }
   ],
   "source": [
    "nome = 'José'\n",
    "anos = 33\n",
    "print(f'O {nome} tem {anos} anos')"
   ]
  },
  {
   "cell_type": "markdown",
   "id": "fd88a69a",
   "metadata": {},
   "source": [
    "## Desafios"
   ]
  },
  {
   "cell_type": "markdown",
   "id": "4a65036d",
   "metadata": {},
   "source": [
    "66 - 1 - Crie um programa que leia vários números inteiros pelo teclado. O programa só vai parar quando o usuário digitar o valor 999, que é a condição de parada. No final, mostre quantos números foram digitados e qual foi a soma entre eles (desconsiderando o flag).\n"
   ]
  },
  {
   "cell_type": "code",
   "execution_count": 103,
   "id": "b7c5997b",
   "metadata": {},
   "outputs": [
    {
     "name": "stdout",
     "output_type": "stream",
     "text": [
      "Digite um valor (999 para parar): 10\n",
      "Digite um valor (999 para parar): 20\n",
      "Digite um valor (999 para parar): 30\n",
      "Digite um valor (999 para parar): 999\n",
      "Total de números digitados: 3\n",
      "Soma total dos números digitados: 60 \n"
     ]
    }
   ],
   "source": [
    "num = soma = cont = 0 \n",
    "while True:\n",
    "    num = int(input('Digite um valor (999 para parar): '))\n",
    "    if num == 999:\n",
    "        break\n",
    "    soma += num\n",
    "    cont += 1\n",
    "print(f'Total de números digitados: {cont}\\nSoma total dos números digitados: {soma} ')"
   ]
  },
  {
   "cell_type": "markdown",
   "id": "f50f95e8",
   "metadata": {},
   "source": [
    "2 - Faça um programa que mostre a tabuada de vários números, um de cada vez, para cada valor digitado pelo usuário. O programa será interrompido quando o número solicitado for negativo. "
   ]
  },
  {
   "cell_type": "code",
   "execution_count": 122,
   "id": "b6d30033",
   "metadata": {},
   "outputs": [
    {
     "name": "stdout",
     "output_type": "stream",
     "text": [
      "Quer ver a tabuáda de qual valor? 2\n",
      "2 x 1 = 2\n",
      "2 x 2 = 4\n",
      "2 x 3 = 6\n",
      "2 x 4 = 8\n",
      "2 x 5 = 10\n",
      "2 x 6 = 12\n",
      "2 x 7 = 14\n",
      "2 x 8 = 16\n",
      "2 x 9 = 18\n",
      "2 x 10 = 20\n",
      "Quer ver a tabuáda de qual valor? 3\n",
      "3 x 1 = 3\n",
      "3 x 2 = 6\n",
      "3 x 3 = 9\n",
      "3 x 4 = 12\n",
      "3 x 5 = 15\n",
      "3 x 6 = 18\n",
      "3 x 7 = 21\n",
      "3 x 8 = 24\n",
      "3 x 9 = 27\n",
      "3 x 10 = 30\n",
      "Quer ver a tabuáda de qual valor? -2\n",
      "PROGRAMA TABUADA ENCERRADO. Volte sempre!\n"
     ]
    }
   ],
   "source": [
    "while True:\n",
    "    num = int(input('Quer ver a tabuáda de qual valor? '))\n",
    "    if num < 0:\n",
    "        break\n",
    "    for x in range(1,11):\n",
    "        tabuada = num * x\n",
    "        print(f'{num} x {x} = {tabuada}')\n",
    "print('PROGRAMA TABUADA ENCERRADO. Volte sempre!')"
   ]
  },
  {
   "cell_type": "markdown",
   "id": "2d71b08b",
   "metadata": {},
   "source": [
    "3 - Faça um programa que jogue par ou impar com o computador. O jogo só será interrompido quando o jogador PERDER, mostrando o total de vitórias consecutivas que ele conquistou no final do jogo "
   ]
  },
  {
   "cell_type": "code",
   "execution_count": 128,
   "id": "a609a598",
   "metadata": {},
   "outputs": [
    {
     "name": "stdout",
     "output_type": "stream",
     "text": [
      "Diga um valor: 8\n",
      "Par ou Ímpar? Par\n",
      "Você jogou 8 e o computador 4.Total de 12\n",
      "DEU PAR\n",
      "VOCÊ VENCEU!\n",
      "Vamos jogar novamente...\n",
      "Diga um valor: 5\n",
      "Par ou Ímpar? Par\n",
      "Você jogou 5 e o computador 7.Total de 12\n",
      "DEU PAR\n",
      "VOCÊ VENCEU!\n",
      "Vamos jogar novamente...\n",
      "Diga um valor: 2\n",
      "Par ou Ímpar? Impar\n",
      "Você jogou 2 e o computador 4.Total de 6\n",
      "DEU PAR\n",
      "Você PERDEU!\n",
      "GAME OVER! Você venceu 2 vezes.\n"
     ]
    }
   ],
   "source": [
    "from random import randint \n",
    "v = 0\n",
    "while True:\n",
    "    jogador = int(input('Diga um valor: '))\n",
    "    computador = randint(0,10)\n",
    "    total = jogador + computador \n",
    "    tipo = ' '\n",
    "    while tipo not in 'PI':\n",
    "        tipo = str(input('Par ou Ímpar? ')).strip().upper()[0]\n",
    "    print(f'Você jogou {jogador} e o computador {computador}.Total de {total}')\n",
    "    print('DEU PAR'  if total % 2 == 0 else 'DEU ÍMPAR')\n",
    "    if tipo == 'P':\n",
    "        if total % 2 == 0:\n",
    "            print('VOCÊ VENCEU!')\n",
    "            v += 1\n",
    "        else:\n",
    "            print('Você PERDEU!')\n",
    "            break\n",
    "    elif tipo == 'I':\n",
    "        if total % 2 == 1:\n",
    "            print('Você VENCEU!')\n",
    "            v += 1 \n",
    "        else:\n",
    "            print('Você PERDEU!')\n",
    "            break\n",
    "    print('Vamos jogar novamente...')\n",
    "print(f'GAME OVER! Você venceu {v} vezes.')\n",
    "    "
   ]
  },
  {
   "cell_type": "markdown",
   "id": "224fe817",
   "metadata": {},
   "source": [
    "4 - Crie um programa que leia a idade e o sexo de várias pessoas. A cada pessoa cadastrada, o programa deverá perguntar se o usuário quer ou não continuar. No final, mostre: \n",
    "A) Quantas pessoas tem mais de 18 anos.\n",
    "B) Quantos homens foram cadastrados.\n",
    "C) Quantas mulheres tem menos de 20 anos "
   ]
  },
  {
   "cell_type": "code",
   "execution_count": 131,
   "id": "c132b563",
   "metadata": {},
   "outputs": [
    {
     "name": "stdout",
     "output_type": "stream",
     "text": [
      "Idade: 10\n",
      "Sexo: [M/F] M\n",
      "Quer continuar? [S/N] S\n",
      "Idade: 13\n",
      "Sexo: [M/F] F\n",
      "Quer continuar? [S/N] S\n",
      "Idade: 12\n",
      "Sexo: [M/F] F\n",
      "Quer continuar? [S/N] S\n",
      "Idade: 25\n",
      "Sexo: [M/F] M\n",
      "Quer continuar? [S/N] N\n",
      "Total de pessoas com mais de 18 anos: 1\n",
      "Ao todo temos 2 homens cadastrados\n",
      "E temos 2 mulheres com menos de 20 anos\n"
     ]
    }
   ],
   "source": [
    "tot18 = totH = totM20 = 0 \n",
    "while True: \n",
    "    idade = int(input('Idade: ')) \n",
    "    sexo = ' '\n",
    "    while sexo not in 'MF':\n",
    "        sexo = str(input('Sexo: [M/F] ')).strip().upper()[0]\n",
    "    if idade >= 18:\n",
    "        tot18 += 1\n",
    "    if sexo == 'M':\n",
    "        totH += 1 \n",
    "    if sexo == 'F' and idade < 18:\n",
    "        totM20 += 1\n",
    "    resp = ' '\n",
    "    while resp not in 'SN':\n",
    "        resp = str(input('Quer continuar? [S/N] ')).strip().upper()[0]\n",
    "    if resp == 'N':\n",
    "        break\n",
    "print(f'Total de pessoas com mais de 18 anos: {tot18}')\n",
    "print(f'Ao todo temos {totH} homens cadastrados')\n",
    "print(f'E temos {totM20} mulheres com menos de 20 anos')\n",
    "\n"
   ]
  },
  {
   "cell_type": "markdown",
   "id": "b5386826",
   "metadata": {},
   "source": [
    "5 - Crie um programa que leia o nome e o preço de vários produtos. O programa deverá perguntar se o usuário vai continuar. No final, mostre:\n",
    "A)Qual é o preço total gasto na compra.\n",
    "B)Quantos produtos custam mais de R$1000.\n",
    "C)Qual é o nome do produto mais barato. "
   ]
  },
  {
   "cell_type": "code",
   "execution_count": 18,
   "id": "ac4b8e4b",
   "metadata": {},
   "outputs": [
    {
     "name": "stdout",
     "output_type": "stream",
     "text": [
      "Nome do produto: lapis\n",
      "Valor do produto: R$3\n",
      "Quer continuar? [S/N]s\n",
      "Nome do produto: caneta\n",
      "Valor do produto: R$10\n",
      "Quer continuar? [S/N]s\n",
      "Nome do produto: impressora\n",
      "Valor do produto: R$1200\n",
      "Quer continuar? [S/N]s\n",
      "Nome do produto: lousa\n",
      "Valor do produto: R$2000\n",
      "Quer continuar? [S/N]n\n",
      "O total da compra foi R$3213.00\n",
      "2 produto(s) que custam mais de R$1000\n",
      "Produto mais barato é o lapis com o valor de R$3.0\n"
     ]
    }
   ],
   "source": [
    "total = totmil = menor = cont = 0 \n",
    "barato = ''\n",
    "while True:\n",
    "    produto = str(input('Nome do produto: '))\n",
    "    preco = float(input('Valor do produto: R$'))\n",
    "    cont += 1 \n",
    "    total += preco \n",
    "    if preco > 1000:\n",
    "        totmil += 1 \n",
    "    if cont == 1 or preco < menor:\n",
    "        menor = preco\n",
    "        barato = produto \n",
    "    resp = ' '\n",
    "    while resp not in 'SN':\n",
    "        resp= str(input('Quer continuar? [S/N]')).strip().upper()[0]\n",
    "    if resp == 'N':\n",
    "        break\n",
    "print(f'O total da compra foi R${total:.2f}')\n",
    "print(f'{totmil} produto(s) que custam mais de R$1000')\n",
    "print(f'Produto mais barato é o {barato} com o valor de R${menor}')\n"
   ]
  },
  {
   "cell_type": "markdown",
   "id": "5f9e41d0",
   "metadata": {},
   "source": [
    "6 - Crie um programa que simule o funcionamento de um caixa eletrônico. No início, pergunte ao usuário qual será o valor a ser sacado (número inteiro) e o programa vai informar quantas cédulas de cada valor serão entregues.\n",
    "Obs: Considere que o caixa possui cédulas de 50, 20, 10 e 1 Reais"
   ]
  },
  {
   "cell_type": "code",
   "execution_count": 24,
   "id": "dee4aae2",
   "metadata": {},
   "outputs": [
    {
     "name": "stdout",
     "output_type": "stream",
     "text": [
      "Qual valor você quer sacar? R$163\n",
      "Total de 3 cédulass de R$50\n",
      "Total de 1 cédulass de R$10\n",
      "Total de 3 cédulass de R$1\n"
     ]
    }
   ],
   "source": [
    "valor = int(input('Qual valor você quer sacar? R$'))\n",
    "total = valor \n",
    "ced = 50\n",
    "totced = 0 \n",
    "while True: \n",
    "    if total >= ced: \n",
    "        total -= ced \n",
    "        totced +=1 \n",
    "    else: \n",
    "        if totced > 0:\n",
    "            print(f'Total de {totced} cédulass de R${ced}')\n",
    "        if ced == 50:\n",
    "            ced = 20\n",
    "        elif ced == 20:\n",
    "            ced = 10\n",
    "        elif ced == 10:\n",
    "            ced = 1 \n",
    "        totced = 0\n",
    "        if total == 0:\n",
    "            break \n",
    "    "
   ]
  }
 ],
 "metadata": {
  "kernelspec": {
   "display_name": "Python 3",
   "language": "python",
   "name": "python3"
  },
  "language_info": {
   "codemirror_mode": {
    "name": "ipython",
    "version": 3
   },
   "file_extension": ".py",
   "mimetype": "text/x-python",
   "name": "python",
   "nbconvert_exporter": "python",
   "pygments_lexer": "ipython3",
   "version": "3.8.8"
  },
  "toc": {
   "base_numbering": 1,
   "nav_menu": {},
   "number_sections": true,
   "sideBar": true,
   "skip_h1_title": false,
   "title_cell": "Table of Contents",
   "title_sidebar": "Contents",
   "toc_cell": false,
   "toc_position": {},
   "toc_section_display": true,
   "toc_window_display": false
  },
  "varInspector": {
   "cols": {
    "lenName": 16,
    "lenType": 16,
    "lenVar": 40
   },
   "kernels_config": {
    "python": {
     "delete_cmd_postfix": "",
     "delete_cmd_prefix": "del ",
     "library": "var_list.py",
     "varRefreshCmd": "print(var_dic_list())"
    },
    "r": {
     "delete_cmd_postfix": ") ",
     "delete_cmd_prefix": "rm(",
     "library": "var_list.r",
     "varRefreshCmd": "cat(var_dic_list()) "
    }
   },
   "types_to_exclude": [
    "module",
    "function",
    "builtin_function_or_method",
    "instance",
    "_Feature"
   ],
   "window_display": false
  }
 },
 "nbformat": 4,
 "nbformat_minor": 5
}
