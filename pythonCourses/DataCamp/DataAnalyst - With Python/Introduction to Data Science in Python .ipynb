{
 "cells": [
  {
   "cell_type": "markdown",
   "id": "dd18ed5d",
   "metadata": {},
   "source": [
    "# Pontos importantes"
   ]
  },
  {
   "cell_type": "markdown",
   "id": "cccb0016",
   "metadata": {},
   "source": [
    "Legenda nos gráficos "
   ]
  },
  {
   "cell_type": "code",
   "execution_count": null,
   "id": "7607f0c2",
   "metadata": {},
   "outputs": [],
   "source": [
    "plt.xlabel(“Letter”)\n",
    "plt.ylabel(“Frequency”)\n",
    "plt.title(“Ransom Note Letters”)\n",
    "plt.show() #Colocar as funções antes do show() \n",
    "#Para colocar legenda precisa colocar labels dentros das funções label=”Primeiro” \n",
    "#E depois usar a função plt.legend()\n",
    "\n",
    "\n",
    "P#odemos colocar uma nota no gráfico e que apareça em determinadas coordenadas é colocar \n",
    "plt.text(xcoord,ycoord,”Text Message”) \n",
    "plt.text(5,9,”Unusually”)\n",
    "#É possível mudar o formato do texto de duas formas:\n",
    "# fontsize=20\n",
    "# color=”green”\n"
   ]
  },
  {
   "cell_type": "markdown",
   "id": "e6f810af",
   "metadata": {},
   "source": [
    "Gráfico de dispersão "
   ]
  },
  {
   "cell_type": "code",
   "execution_count": null,
   "id": "4adc08ff",
   "metadata": {},
   "outputs": [],
   "source": [
    "Scatter plot \n",
    "plt.scatter(df.age,df.height) \n",
    "plt.xlabel(‘Age’)\n",
    "plt.ylabel(‘Height’) \n",
    "plt.show()\n",
    "\n",
    "plt.scatter(df.age,df.height, color=’green’,marker=’s’)  #marker é o formato do símbolo \n",
    "plt.scatter(df.x_data,df.y_data,alpha=0.1) #alpha o símbolo mais claro, quanto menor for. \n"
   ]
  },
  {
   "cell_type": "markdown",
   "id": "daf1bff0",
   "metadata": {},
   "source": [
    "Gráfico de Bar chart "
   ]
  },
  {
   "cell_type": "code",
   "execution_count": null,
   "id": "40d30766",
   "metadata": {},
   "outputs": [],
   "source": [
    "plt.bar(df.precint,df.pets_abducted)\n",
    "plt.ylabel(‘Pet Abductions’)\n",
    "plt.show()\n",
    "\n",
    "plt.bar(df.precint, df.pets_abducted, yerr=df.error) #Coluna de erro \n",
    "plt.ylabel(‘Pet Abductions’)\n",
    "plt.show()\n"
   ]
  },
  {
   "cell_type": "markdown",
   "id": "d770ee10",
   "metadata": {},
   "source": [
    "Gráfico de Bar chart na horizontal "
   ]
  },
  {
   "cell_type": "code",
   "execution_count": null,
   "id": "fbe61537",
   "metadata": {},
   "outputs": [],
   "source": [
    "plt.barh(df.precint,df.pets_abducted)\n",
    "plt.ylabel(‘Pet Abductions’)\n",
    "plt.show()\n"
   ]
  },
  {
   "cell_type": "markdown",
   "id": "793962da",
   "metadata": {},
   "source": [
    "Stacked bar charts "
   ]
  },
  {
   "cell_type": "code",
   "execution_count": null,
   "id": "c3422951",
   "metadata": {},
   "outputs": [],
   "source": [
    "plt.bar(df.precinct, df.dog)\n",
    "plt.bar(df.precinct, df.cat, bottom=df.dog)\n",
    "#ex:\n",
    "plt.bar(df.precinct, df.dog, label=’Dog’)\n",
    "plt.bar(df.precinct, df.cat, bottom=df.dog, label=’Cat’)\n",
    "plt.legend()\n",
    "plt.show() \n",
    "\n",
    "yerr=hours.std_hours_worked #Mostra o erro \n"
   ]
  },
  {
   "cell_type": "markdown",
   "id": "623a0221",
   "metadata": {},
   "source": [
    "Histogram "
   ]
  },
  {
   "cell_type": "code",
   "execution_count": null,
   "id": "a633aeb5",
   "metadata": {},
   "outputs": [],
   "source": [
    "plt.hist(gravel.mass)\n",
    "plt.show() \n",
    "\n",
    "plt.hist(data, bins=nbins) #bins faz a divisão do histograma \n",
    "plt.hist(data, range=(xmin, xmax)) – Coloca o valor mínimo e máximo do histograma \n",
    "plt.hist(gravel.mass, range=(50, 100))\n",
    "\n",
    "plt.hist(male_weight, density=True) – Representa a mesma proporção \n",
    "plt.hist(female_weight, density=True) \n"
   ]
  }
 ],
 "metadata": {
  "kernelspec": {
   "display_name": "Python 3",
   "language": "python",
   "name": "python3"
  },
  "language_info": {
   "codemirror_mode": {
    "name": "ipython",
    "version": 3
   },
   "file_extension": ".py",
   "mimetype": "text/x-python",
   "name": "python",
   "nbconvert_exporter": "python",
   "pygments_lexer": "ipython3",
   "version": "3.8.8"
  },
  "toc": {
   "base_numbering": 1,
   "nav_menu": {},
   "number_sections": true,
   "sideBar": true,
   "skip_h1_title": false,
   "title_cell": "Table of Contents",
   "title_sidebar": "Contents",
   "toc_cell": false,
   "toc_position": {},
   "toc_section_display": true,
   "toc_window_display": false
  },
  "varInspector": {
   "cols": {
    "lenName": 16,
    "lenType": 16,
    "lenVar": 40
   },
   "kernels_config": {
    "python": {
     "delete_cmd_postfix": "",
     "delete_cmd_prefix": "del ",
     "library": "var_list.py",
     "varRefreshCmd": "print(var_dic_list())"
    },
    "r": {
     "delete_cmd_postfix": ") ",
     "delete_cmd_prefix": "rm(",
     "library": "var_list.r",
     "varRefreshCmd": "cat(var_dic_list()) "
    }
   },
   "types_to_exclude": [
    "module",
    "function",
    "builtin_function_or_method",
    "instance",
    "_Feature"
   ],
   "window_display": false
  }
 },
 "nbformat": 4,
 "nbformat_minor": 5
}
