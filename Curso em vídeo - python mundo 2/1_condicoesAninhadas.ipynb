{
 "cells": [
  {
   "cell_type": "markdown",
   "id": "c34a182f",
   "metadata": {},
   "source": [
    "# Condições Aninhadas "
   ]
  },
  {
   "cell_type": "raw",
   "id": "c7aff483",
   "metadata": {},
   "source": [
    "Estrutura condicional, dentro de outra estrutura condicional. \n",
    "Caso tenha mais um bloco antes de Else, só usar mais elif. \n",
    "Else é opcional \n",
    "\n",
    "if x(): - Se \n",
    "    bloco 1\n",
    "elif y(): - Senão se \n",
    "    bloco 2\n",
    "else: - Senão\n",
    "    bloco 3 "
   ]
  },
  {
   "cell_type": "code",
   "execution_count": 2,
   "id": "71851020",
   "metadata": {},
   "outputs": [],
   "source": [
    "# Prática "
   ]
  },
  {
   "cell_type": "code",
   "execution_count": 4,
   "id": "2045e1e5",
   "metadata": {},
   "outputs": [
    {
     "name": "stdout",
     "output_type": "stream",
     "text": [
      "Qual é o seu nome?Lucas\n",
      "Que nome bonito!\n",
      "Tenha um bom  dia Lucas\n"
     ]
    }
   ],
   "source": [
    "#Condição simples \n",
    "nome = str(input('Qual é o seu nome?'))\n",
    "if nome == 'Lucas':\n",
    "    print('Que nome bonito!')\n",
    "print('Tenha um bom  dia {}'.format(nome))"
   ]
  },
  {
   "cell_type": "code",
   "execution_count": 7,
   "id": "19e48898",
   "metadata": {},
   "outputs": [
    {
     "name": "stdout",
     "output_type": "stream",
     "text": [
      "Qual é o seu nome?José\n",
      "Seu nome é bem normal\n",
      "Tenha um bom  dia José\n"
     ]
    }
   ],
   "source": [
    "#Condição composta (else)\n",
    "nome = str(input('Qual é o seu nome?'))\n",
    "if nome == 'Lucas':\n",
    "    print('Que nome bonito!')\n",
    "else:\n",
    "    print('Seu nome é bem normal')\n",
    "print('Tenha um bom  dia {}'.format(nome))"
   ]
  },
  {
   "cell_type": "code",
   "execution_count": 16,
   "id": "7db1da4a",
   "metadata": {},
   "outputs": [
    {
     "name": "stdout",
     "output_type": "stream",
     "text": [
      "Qual é o seu nome?Juan\n",
      "Seu nome é bem normal\n",
      "Tenha um bom dia Juan\n"
     ]
    }
   ],
   "source": [
    "#Condição aninhada (elif + else)\n",
    "nome = str(input('Qual é o seu nome?'))\n",
    "if nome == 'Lucas':\n",
    "    print('Que nome bonito!')\n",
    "elif nome == 'Pedro' or nome == 'Maria' or nome == 'Paulo':\n",
    "    print('Seu nome é bem popular no Brasil')\n",
    "elif nome in ('Ana Cláudia Jéssica Juliana'):\n",
    "    print('Belo nome feminino')\n",
    "else:\n",
    "    print('Seu nome é bem normal')\n",
    "print('Tenha um bom dia {}'.format(nome))"
   ]
  },
  {
   "cell_type": "markdown",
   "id": "761a488e",
   "metadata": {},
   "source": [
    "# Desafios "
   ]
  },
  {
   "cell_type": "raw",
   "id": "4da0f218",
   "metadata": {},
   "source": [
    "1 - Escreva um programa para aprovar o empréstimo bancário para a compra de uma casa. O programa vai perguntar o valor da casa,\n",
    "o salário do comprador e em quantos anos ele vai pagar. Calcule o valor da prestação mensal, sabendo que ela não pode exceder \n",
    "30% do salário ou então o empréstimo será negado."
   ]
  },
  {
   "cell_type": "code",
   "execution_count": 31,
   "id": "a0f56e80",
   "metadata": {},
   "outputs": [
    {
     "name": "stdout",
     "output_type": "stream",
     "text": [
      "Quanto vale o imóvel?120000\n",
      "Quanto é sua receita mensal?5000\n",
      "Em quantos anos pretende liquidar o empréstimo?10\n",
      "Para pagar uma casa de R$120000.00 em 10 anos a prestação será de R$1000.00\n",
      "Empréstimo pode ser Concedito\n"
     ]
    }
   ],
   "source": [
    "valor = float(input('Quanto vale o imóvel?'))\n",
    "salario = float(input('Quanto é sua receita mensal?'))\n",
    "anos = int(input('Em quantos anos pretende liquidar o empréstimo?'))\n",
    "prestacao = valor/(anos*12)\n",
    "minimo = salario*30/100\n",
    "print('Para pagar uma casa de R${:.2f} em {} anos'.format(valor, anos), end='')\n",
    "print(' a prestação será de R${:.2f}'.format(prestacao))\n",
    "if prestacao <= minimo:\n",
    "    print('Empréstimo pode ser Concedito')\n",
    "else:\n",
    "    print('Empréstimo Negado')"
   ]
  },
  {
   "cell_type": "raw",
   "id": "5f5074c5",
   "metadata": {},
   "source": [
    "2 - Escreva um programa que leia um número inteiro qualquer e peça para o usuário escolher qual será a base de conversão:\n",
    "    1 - para binário \n",
    "    2 - para octal \n",
    "    3 - para hexadecimal "
   ]
  },
  {
   "cell_type": "code",
   "execution_count": 39,
   "id": "37270828",
   "metadata": {},
   "outputs": [
    {
     "name": "stdout",
     "output_type": "stream",
     "text": [
      "Digite um valor:93\n",
      "Digite o número da base de conversão pretendida:\n",
      "1 - Binário\n",
      "2 - Octal\n",
      "3 - Hexadecimal\n",
      "Qual é número?1\n",
      "O valor em Binário será de 1011101\n"
     ]
    }
   ],
   "source": [
    "num = int(input('Digite um valor:'))\n",
    "print('Digite o número da base de conversão pretendida:\\n1 - Binário\\n2 - Octal\\n3 - Hexadecimal')\n",
    "base = int(input('Qual é número?'))\n",
    "\n",
    "if base == 1:\n",
    "    print('O valor em Binário será de {}'.format(bin(num)[2:]))\n",
    "elif base == 2:\n",
    "    print('O valor em Octal será de {}'.format(oct(num)[2:]))\n",
    "elif base == 3:\n",
    "    print('O valor em Hexadecial será de {}'.format(hex(num)[2:]))\n",
    "else:\n",
    "    print('Não temos essa conversão de base!')"
   ]
  },
  {
   "cell_type": "raw",
   "id": "c33237ea",
   "metadata": {},
   "source": [
    "3 - Escreva um programa que leia dois números inteiros e compare-os, mostrando na tela uma mensagem:\n",
    "    - O primeiro valor é o maior \n",
    "    - O segundo valor é o maior \n",
    "    - Não existe valor maior,os dois são iguais "
   ]
  },
  {
   "cell_type": "code",
   "execution_count": 23,
   "id": "1ac50e99",
   "metadata": {},
   "outputs": [
    {
     "name": "stdout",
     "output_type": "stream",
     "text": [
      "Primeiro valor:1\n",
      "Segundo valor:1\n",
      "Números iguais!\n"
     ]
    }
   ],
   "source": [
    "num1 = int(input('Primeiro valor:'))\n",
    "num2 = int(input('Segundo valor:'))\n",
    "\n",
    "if num1 > num2:\n",
    "    print('O primeiro valor é maior que o segundo!')\n",
    "elif num1 < num2:\n",
    "    print('O segundo valor é maior que o primeiro!')\n",
    "elif num1 == num2:\n",
    "    print('Números iguais!')"
   ]
  },
  {
   "cell_type": "raw",
   "id": "e2072a15",
   "metadata": {},
   "source": [
    "4 - Faça um programa que leia o ano de nascimento de um jovem e informe, de acordo com sua idade: \n",
    "    - Se ele ainda vai alistar ao serviço militar.\n",
    "    - Se é a hora de se alistar.\n",
    "    - Se já passou do tempo do alistamento.\n",
    "    Seu programa também deverá mostrar o tempo que falta ou que já passou do prazo.\n",
    "\n",
    "Usar a biblioteca DateTime  "
   ]
  },
  {
   "cell_type": "code",
   "execution_count": 14,
   "id": "6540f19b",
   "metadata": {},
   "outputs": [
    {
     "name": "stdout",
     "output_type": "stream",
     "text": [
      "Qual é o ano do seu aniverário? 2004\n",
      "Você tem ou irá fazer 17 anos, assim: \n",
      "Ainda não precisa se alistar\n"
     ]
    }
   ],
   "source": [
    "from datetime import date \n",
    "ano_atual = date.today().year \n",
    "ano_ani = int(input('Qual é o ano do seu aniverário? '))\n",
    "calc = ano_atual - ano_ani\n",
    "\n",
    "print('Você tem ou irá fazer {} anos, assim: '.format(calc))\n",
    "if calc < 18:\n",
    "    print('Ainda não precisa se alistar')\n",
    "elif calc == 18:\n",
    "    print('Precisa se alistar no exército')\n",
    "else:\n",
    "    print('Passou o tempo para o alistamento')"
   ]
  },
  {
   "cell_type": "raw",
   "id": "a47f2e1d",
   "metadata": {},
   "source": [
    "5 - Crie um programa que leia duas notas de um aluno e calcule sua média, mostrando uma mensagem no final, de acordo com\n",
    "a média atingida: \n",
    "    - Média abaixo de 5.0:\n",
    "        Reprovado \n",
    "    - Média entre 5.0 e 6.9:\n",
    "        Recuperação \n",
    "    - Média 7.0 ou superior:\n",
    "        Aprovado "
   ]
  },
  {
   "cell_type": "code",
   "execution_count": 6,
   "id": "ca950c32",
   "metadata": {},
   "outputs": [
    {
     "name": "stdout",
     "output_type": "stream",
     "text": [
      "Digite sua primeira nota:5\n",
      "Digite sua segunda nota:4\n",
      "Aluno reprovado\n"
     ]
    }
   ],
   "source": [
    "nota1 = float(input('Digite sua primeira nota:'))\n",
    "nota2 = float(input('Digite sua segunda nota:'))\n",
    "media = (nota1+nota2)/2\n",
    "\n",
    "if media < 5:\n",
    "    print('Aluno reprovado')\n",
    "elif media >= 5 and media <= 6.9:\n",
    "    print('Aluno está de recuperação')\n",
    "else:\n",
    "    print('Parabéns, aprovado!')"
   ]
  },
  {
   "cell_type": "raw",
   "id": "6ef225cb",
   "metadata": {},
   "source": [
    "6 - A confederação Nacional de Natação precisa de um programa que leia o ano de nascimento de um atleta e mostre sua categoria,\n",
    "de acordo com a idade:\n",
    "    - Até 9 anos: MIRIM \n",
    "    - Até 14 anos: INFANTIL \n",
    "    - Até 19 anos: JUNIOR \n",
    "    - Até 24 anos: SÊNIOR \n",
    "    - Acima: MASTER "
   ]
  },
  {
   "cell_type": "code",
   "execution_count": 5,
   "id": "1aa3f964",
   "metadata": {},
   "outputs": [
    {
     "name": "stdout",
     "output_type": "stream",
     "text": [
      "Digite o ano do seu aniversário:2001\n",
      "Você tem 20 anos, então se enquadra na categoria:\n",
      "Sênior\n"
     ]
    }
   ],
   "source": [
    "from datetime import date \n",
    "date = date.today().year\n",
    "idade = int(input('Digite o ano do seu aniversário:'))\n",
    "calc = (date - idade) \n",
    "\n",
    "print('Você tem {} anos, então se enquadra na categoria:'.format(calc))\n",
    "if calc <= 9:\n",
    "    print('Mirim')\n",
    "elif calc > 9 and calc <= 14:\n",
    "    print('Infantil')\n",
    "elif calc > 14 and calc <= 19:\n",
    "    print('Junior')\n",
    "elif calc > 19 and calc <= 24:\n",
    "    print('Sênior')\n",
    "else:\n",
    "    print('Master')"
   ]
  },
  {
   "cell_type": "raw",
   "id": "852d081e",
   "metadata": {},
   "source": [
    "7 - Refaça o desafio 35 de triângulos, acrescentando o recurso de mostrar que tipo de triângulo será formado:\n",
    "- Equilátero: Todos os lados iguais \n",
    "- Isósceles: Dois lados iguais \n",
    "- Escaleno: Todos os lados diferentes "
   ]
  },
  {
   "cell_type": "code",
   "execution_count": 42,
   "id": "f101f080",
   "metadata": {},
   "outputs": [
    {
     "name": "stdout",
     "output_type": "stream",
     "text": [
      "Primeiro segmento: 1\n",
      "Segundo segmento: 7\n",
      "Terceiro segmento: 6\n",
      "Os segmentos acima NÃO PODEM FORMAR triângulo\n"
     ]
    }
   ],
   "source": [
    "r1 = float(input('Primeiro segmento: '))\n",
    "r2 = float(input('Segundo segmento: '))\n",
    "r3 = float(input('Terceiro segmento: '))\n",
    "if r1 < r2 + r3 and r2 < r1 + r3 and r3 < r1 + r2:\n",
    "    print('Os segmentos acima PODEM FORMAR um triângulo ', end='')\n",
    "    if r1 == r2 == r3:\n",
    "        print('EQUILÁTERO!')\n",
    "    elif r1!= r2 != r3 != r1:\n",
    "        print('ESCALENO!')\n",
    "    else:\n",
    "        print('ISÓCELES!')\n",
    "else:\n",
    "    print('Os segmentos acima NÃO PODEM FORMAR triângulo')"
   ]
  },
  {
   "cell_type": "raw",
   "id": "604de92f",
   "metadata": {},
   "source": [
    "8 - Desenvolva uma lógica que leia o peso e a altura de uma pessoa, calcule seu IMC e mostre seu status, de acordo com a tabela abaixo:\n",
    "- Abaixo de 18.5: Abaixo do Peso \n",
    "- Entre 18.5 e 25: Peso ideal \n",
    "- 25 até 30: Sobrepeso \n",
    "- 30 até 40: Obesidade \n",
    "- Acima de 40: Obesidde mórbida "
   ]
  },
  {
   "cell_type": "code",
   "execution_count": 47,
   "id": "34a51c95",
   "metadata": {},
   "outputs": [
    {
     "name": "stdout",
     "output_type": "stream",
     "text": [
      "Qual é o seu peso?64\n",
      "Qual é a sua altura?1.69\n",
      "Peso ideal\n"
     ]
    }
   ],
   "source": [
    "peso = float(input('Qual é o seu peso?'))\n",
    "altura = float(input('Qual é a sua altura?'))\n",
    "imc = peso/(altura**2)\n",
    "\n",
    "if imc < 18.5:\n",
    "    print('Abaixo do peso')\n",
    "elif imc >= 18.5 and imc < 25:\n",
    "    print('Peso ideal')\n",
    "elif imc >= 25 and imc < 30:\n",
    "    print('Sobrepeso')\n",
    "elif imc >= 30 and imc < 40:\n",
    "    print('Obesidade')\n",
    "else:\n",
    "    print('Obesidade mórbida')"
   ]
  },
  {
   "cell_type": "raw",
   "id": "1cb9574a",
   "metadata": {},
   "source": [
    "9 - Elabore um programa que calcule o valor a ser pago por um produto, considerando o seu preço normal e condição de pagamento:\n",
    "- À vista dinheiro/cheque: 10% de desconto \n",
    "- À vista no cartão: 5% de desconto \n",
    "- Em até 2x no cartão: Preço normal \n",
    "- 3x ou mais no cartão: 20% de juros "
   ]
  },
  {
   "cell_type": "code",
   "execution_count": 26,
   "id": "67484e97",
   "metadata": {},
   "outputs": [
    {
     "name": "stdout",
     "output_type": "stream",
     "text": [
      "Qual é o valor do produto?1500\n",
      "Qual será a forma de pagamento, temos as seguintes opções:\n",
      "1 - À vista dinheiro/cheque: 10$ de desconto\n",
      "2 - À vista no cartão: 5% de desconto\n",
      "3 - Em até 2x no cartão: Preço normal\n",
      "4- 3x ou mais no cartão: 20% de juros\n",
      "Digite o número da forma de pagamento:2\n",
      "Você optou pelo pagamento à vista no cartão. Então o valor a ser pago será de R$1425.00\n"
     ]
    }
   ],
   "source": [
    "valor = float(input('Qual é o valor do produto?'))\n",
    "print('Qual será a forma de pagamento, temos as seguintes opções:\\n1 - À vista dinheiro/cheque: 10$ de desconto\\n2 - À vista no cartão: 5% de desconto\\n3 - Em até 2x no cartão: Preço normal\\n4- 3x ou mais no cartão: 20% de juros')\n",
    "metodo = int(input('Digite o número da forma de pagamento:'))\n",
    "if metodo == 1:\n",
    "    print('Você optou pelo pagamento à vista no dinheiro/cheque. Então o valor a ser pago será de R${:.2f}'.format(valor-(valor*0.10)))\n",
    "elif metodo == 2:\n",
    "    print('Você optou pelo pagamento à vista no cartão. Então o valor a ser pago será de R${:.2f}'.format(valor-(valor*0.05)))\n",
    "elif metodo == 3: \n",
    "    print('Você optou pelo pagamento em 2x no cartão. Então o valor será de R${:.2f}'.format(valor))\n",
    "elif metodo == 4:\n",
    "    print('Você optou pelo pagamento em 3x ou mais no cartão. Então o valor será de R${:.2f}'.format(valor+(valor*0.20)))\n",
    "else:\n",
    "    print('Forma de pagamento inválida')"
   ]
  },
  {
   "cell_type": "raw",
   "id": "27eff41d",
   "metadata": {},
   "source": [
    "10 - Crie um programa que faça o computador jogar Jokenpô com você. "
   ]
  },
  {
   "cell_type": "code",
   "execution_count": 67,
   "id": "c67ba25c",
   "metadata": {},
   "outputs": [
    {
     "name": "stdout",
     "output_type": "stream",
     "text": [
      "Suas opções:\n",
      "[0] Pedra\n",
      "[1] Papel\n",
      "[2] Tesoura\n",
      "Qual é a sua jogada? 2\n",
      "-=-=-=-=-=-=-=-=-=-=\n",
      "Computador jogou Papel\n",
      "Jogador jogou Tesoura\n",
      "-=-=-=-=-=-=-=-=-=-=\n",
      "JOGADOR VENCE\n"
     ]
    }
   ],
   "source": [
    "from random import randint\n",
    "from time import sleep \n",
    "itens = ('Pedra', 'Papel','Tesoura')\n",
    "computador = randint(0,2)\n",
    "print('''Suas opções:\n",
    "[0] Pedra\n",
    "[1] Papel\n",
    "[2] Tesoura''')\n",
    "jogador = int(input('Qual é a sua jogada? '))\n",
    "print('JO')\n",
    "sleep(1)\n",
    "print('KEN')\n",
    "sl\n",
    "print('-='*10)\n",
    "print('Computador jogou {}'.format(itens[computador]))\n",
    "print('Jogador jogou {}'.format(itens[jogador]))\n",
    "print('-='*10)\n",
    "if computador == 0: # PEDRA\n",
    "    if jogador == 0:\n",
    "        print('Empate')\n",
    "    elif jogador == 1:\n",
    "        print('JOGADOR VENCE')\n",
    "    elif jogador == 2:\n",
    "        print('COMPUTADOR VENCE')\n",
    "    else: \n",
    "        print('JOGADA NEGADA')\n",
    "elif computador == 1: # PAPEL\n",
    "    if jogador == 0:\n",
    "        print('COMPUTADOR VENCE')\n",
    "    elif jogador == 1:\n",
    "        print('EMPATE')\n",
    "    elif jogador == 2:\n",
    "        print('JOGADOR VENCE')\n",
    "    else: \n",
    "        print('JOGADA NEGADA')\n",
    "elif computador == 2: # TESOURA\n",
    "    if jogador == 0:\n",
    "        print('JOGADOR VENCE')\n",
    "    elif jogador == 1:\n",
    "        print('COMPUTADOR VENCE')\n",
    "    elif jogador == 2:\n",
    "        print('EMPATE')\n",
    "    else: \n",
    "        print('JOGADA NEGADA')"
   ]
  }
 ],
 "metadata": {
  "kernelspec": {
   "display_name": "Python 3",
   "language": "python",
   "name": "python3"
  },
  "language_info": {
   "codemirror_mode": {
    "name": "ipython",
    "version": 3
   },
   "file_extension": ".py",
   "mimetype": "text/x-python",
   "name": "python",
   "nbconvert_exporter": "python",
   "pygments_lexer": "ipython3",
   "version": "3.8.8"
  },
  "toc": {
   "base_numbering": 1,
   "nav_menu": {},
   "number_sections": true,
   "sideBar": true,
   "skip_h1_title": false,
   "title_cell": "Table of Contents",
   "title_sidebar": "Contents",
   "toc_cell": false,
   "toc_position": {},
   "toc_section_display": true,
   "toc_window_display": false
  },
  "varInspector": {
   "cols": {
    "lenName": 16,
    "lenType": 16,
    "lenVar": 40
   },
   "kernels_config": {
    "python": {
     "delete_cmd_postfix": "",
     "delete_cmd_prefix": "del ",
     "library": "var_list.py",
     "varRefreshCmd": "print(var_dic_list())"
    },
    "r": {
     "delete_cmd_postfix": ") ",
     "delete_cmd_prefix": "rm(",
     "library": "var_list.r",
     "varRefreshCmd": "cat(var_dic_list()) "
    }
   },
   "types_to_exclude": [
    "module",
    "function",
    "builtin_function_or_method",
    "instance",
    "_Feature"
   ],
   "window_display": false
  }
 },
 "nbformat": 4,
 "nbformat_minor": 5
}
