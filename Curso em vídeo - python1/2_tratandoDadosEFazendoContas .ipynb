{
 "cells": [
  {
   "cell_type": "markdown",
   "id": "573861f4",
   "metadata": {},
   "source": [
    "# Tratando Dados e Fazendo Contas"
   ]
  },
  {
   "cell_type": "markdown",
   "id": "1029e3fe",
   "metadata": {},
   "source": [
    "## Aula 6 - Tipos Primitivos e Saída de Dados "
   ]
  },
  {
   "cell_type": "raw",
   "id": "096ecb00",
   "metadata": {},
   "source": [
    "Os quatro tipos príncipais:\n",
    "int(7,-4,0,9875)\n",
    "float(4.5,0.076,-15.223,7.0)\n",
    "bool(1,0,True,False)\n",
    "str('Olá','7.5','')"
   ]
  },
  {
   "cell_type": "code",
   "execution_count": 7,
   "id": "9f798db4",
   "metadata": {},
   "outputs": [
    {
     "name": "stdout",
     "output_type": "stream",
     "text": [
      "Digite um número: 10\n",
      "<class 'str'>\n"
     ]
    }
   ],
   "source": [
    "#Tipos de dados \n",
    "n1 = input('Digite um número: ')\n",
    "print(type(n1))"
   ]
  },
  {
   "cell_type": "code",
   "execution_count": 8,
   "id": "a35f8368",
   "metadata": {},
   "outputs": [
    {
     "name": "stdout",
     "output_type": "stream",
     "text": [
      "Digite um número: 10\n",
      "<class 'int'>\n"
     ]
    }
   ],
   "source": [
    "#Tipos de dados \n",
    "n1 = int(input('Digite um número: '))\n",
    "print(type(n1))"
   ]
  },
  {
   "cell_type": "code",
   "execution_count": 2,
   "id": "5e41f11a",
   "metadata": {},
   "outputs": [
    {
     "name": "stdout",
     "output_type": "stream",
     "text": [
      "Digite um número:10\n",
      "Digite mais um número:10\n",
      "Total é: 20\n"
     ]
    }
   ],
   "source": [
    "#A função int() converte tudo que for armazenado na variável em número inteiro \n",
    "n1 = int(input('Digite um número:'))\n",
    "n2 = int(input('Digite mais um número:'))\n",
    "s = n1+n2\n",
    "print('Total é:',s)"
   ]
  },
  {
   "cell_type": "code",
   "execution_count": 6,
   "id": "dea8ed1b",
   "metadata": {},
   "outputs": [
    {
     "name": "stdout",
     "output_type": "stream",
     "text": [
      "A soma vale 20\n"
     ]
    }
   ],
   "source": [
    "#Exemplo de Str usando .format()\n",
    "print('A soma vale {}'.format(s))"
   ]
  },
  {
   "cell_type": "code",
   "execution_count": 9,
   "id": "d84bb867",
   "metadata": {},
   "outputs": [
    {
     "name": "stdout",
     "output_type": "stream",
     "text": [
      "A soma entre 10 e 10 vale 20\n"
     ]
    }
   ],
   "source": [
    "print('A soma entre {} e {} vale {}'.format(n1,n2,s))"
   ]
  },
  {
   "cell_type": "code",
   "execution_count": 11,
   "id": "7ff056f0",
   "metadata": {},
   "outputs": [
    {
     "name": "stdout",
     "output_type": "stream",
     "text": [
      "Digite um valor:5\n",
      "5.0\n",
      "<class 'float'>\n"
     ]
    }
   ],
   "source": [
    "f = float(input('Digite um valor:'))\n",
    "print(f)\n",
    "print(type(f))"
   ]
  },
  {
   "cell_type": "code",
   "execution_count": 12,
   "id": "01ae2b1c",
   "metadata": {},
   "outputs": [
    {
     "name": "stdout",
     "output_type": "stream",
     "text": [
      "Digite um número: \n",
      "False\n",
      "<class 'bool'>\n"
     ]
    }
   ],
   "source": [
    "b = bool(input('Digite um número: '))\n",
    "print(b)\n",
    "print(type(b))\n"
   ]
  },
  {
   "cell_type": "markdown",
   "id": "4dd64eff",
   "metadata": {},
   "source": [
    "### Desafios"
   ]
  },
  {
   "cell_type": "raw",
   "id": "667b5ffa",
   "metadata": {},
   "source": [
    "1- Crie um programa e mostre a soma entre eles"
   ]
  },
  {
   "cell_type": "code",
   "execution_count": 15,
   "id": "76f6d015",
   "metadata": {},
   "outputs": [
    {
     "name": "stdout",
     "output_type": "stream",
     "text": [
      "Digite um número:5\n",
      "Digite mais um número:5\n",
      "A soma entre 5 e 5, resultou no valor 10\n"
     ]
    }
   ],
   "source": [
    "n1 = int(input('Digite um número:'))\n",
    "n2 = int(input('Digite mais um número:'))\n",
    "s = n1+n2 \n",
    "print('A soma entre {} e {}, resultou no valor {}'.format(n1,n2,s))"
   ]
  },
  {
   "cell_type": "raw",
   "id": "7c07b8b9",
   "metadata": {},
   "source": [
    "2 - Faça um programa que leia algo pelo teclado e mostre na tela o seu tipo primitivo e todas as informações possíveis sobre ela "
   ]
  },
  {
   "cell_type": "code",
   "execution_count": 39,
   "id": "b9489ac2",
   "metadata": {},
   "outputs": [
    {
     "name": "stdout",
     "output_type": "stream",
     "text": [
      "Digite algo:Olá\n",
      "O tipo primitivo desse valor é <class 'str'>\n",
      "Só tem espaço? False\n",
      "É um número? False\n",
      "É alfabético? True\n",
      "É alfanúmerico? True\n",
      "Está em maiúsculo? False\n",
      "Está em minúsculo? False\n",
      "Está capitalizada? True\n"
     ]
    }
   ],
   "source": [
    "x = input('Digite algo:')\n",
    "print('O tipo primitivo desse valor é {}'.format(type(x)))\n",
    "print('Só tem espaço? {}'.format(x.isspace()))\n",
    "print('É um número? {}'.format(x.isnumeric()))\n",
    "print('É alfabético? {}'.format(x.isalpha()))\n",
    "print('É alfanúmerico? {}'.format(x.isalnum()))\n",
    "print('Está em maiúsculo? {}'.format(x.isupper()))\n",
    "print('Está em minúsculo? {}'.format(x.islower()))\n",
    "print('Está capitalizada? {}'.format(x.istitle()))"
   ]
  },
  {
   "cell_type": "markdown",
   "id": "a516c1d6",
   "metadata": {},
   "source": [
    "# Aula 7 - Operadores Aritméticos "
   ]
  },
  {
   "cell_type": "raw",
   "id": "67a973fe",
   "metadata": {},
   "source": [
    "Operadores\n",
    "+ - Mais\n",
    "- - Menos \n",
    "* - Multiplicação \n",
    "/ - Divisão \n",
    "** - Potência  \n",
    "// - Divisão inteira (Caso seja float, ele vai converter para inteiro)\n",
    "% - Resto da divisão (Sobra da divisão) \n",
    "= - Recebe \n",
    "== - Igual "
   ]
  },
  {
   "cell_type": "raw",
   "id": "18234638",
   "metadata": {},
   "source": [
    "Ordem de precedência \n",
    "1 - ()\n",
    "2 - **\n",
    "3 - *,/,//,%\n",
    "4 - +,-"
   ]
  },
  {
   "cell_type": "code",
   "execution_count": 20,
   "id": "7c1582ea",
   "metadata": {},
   "outputs": [
    {
     "name": "stdout",
     "output_type": "stream",
     "text": [
      "11\n",
      "25\n",
      "125\n",
      "9\n",
      "9.5\n",
      "0\n",
      "64\n",
      "====================\n"
     ]
    }
   ],
   "source": [
    "#Exemplos\n",
    "print(5+3*2)\n",
    "print(5**2)\n",
    "print(5**3)\n",
    "print(19//2)\n",
    "print(19/2)\n",
    "print(18%2)\n",
    "pow(4,3)\n",
    "print(4**3) \n",
    "print('='*20)\n"
   ]
  },
  {
   "cell_type": "code",
   "execution_count": 27,
   "id": "e2d8783f",
   "metadata": {},
   "outputs": [
    {
     "name": "stdout",
     "output_type": "stream",
     "text": [
      "Qual é o nome?Lucas\n",
      "Prazer em te conhecer Lucas!\n",
      "Prazer em te conhecer Lucas               !\n",
      "Prazer em te conhecer                Lucas!\n",
      "Prazer em te conhecer Lucas               !\n",
      "Prazer em te conhecer        Lucas        !\n",
      "Prazer em te conhecer =======Lucas========!\n"
     ]
    }
   ],
   "source": [
    "nome = input('Qual é o nome?')\n",
    "print('Prazer em te conhecer {}!'.format(nome))\n",
    "print('Prazer em te conhecer {:20}!'.format(nome))\n",
    "print('Prazer em te conhecer {:>20}!'.format(nome))\n",
    "print('Prazer em te conhecer {:<20}!'.format(nome))\n",
    "print('Prazer em te conhecer {:^20}!'.format(nome))\n",
    "print('Prazer em te conhecer {:=^20}!'.format(nome))"
   ]
  },
  {
   "cell_type": "code",
   "execution_count": 28,
   "id": "119c8dc4",
   "metadata": {},
   "outputs": [
    {
     "name": "stdout",
     "output_type": "stream",
     "text": [
      "Primeiro valor:1\n",
      "Segundo valor:2\n",
      "A soma dos dois resulta em 3\n"
     ]
    }
   ],
   "source": [
    "n1 = int(input('Primeiro valor:'))\n",
    "n2 = int(input('Segundo valor:'))\n",
    "print('A soma dos dois resulta em {}'.format(n1+n2))"
   ]
  },
  {
   "cell_type": "code",
   "execution_count": 33,
   "id": "5382c2df",
   "metadata": {},
   "outputs": [
    {
     "name": "stdout",
     "output_type": "stream",
     "text": [
      "Primeiro número:10\n",
      "Segundo número:2\n",
      "A soma é 12, a multiplicação é 20 e a divisão é 5.000 A divisão inteira é 5 e a potência é 100\n"
     ]
    }
   ],
   "source": [
    "n1 = int(input('Primeiro número:'))\n",
    "n2 = int(input('Segundo número:'))\n",
    "s = n1+n2\n",
    "m = n1*n2 \n",
    "d = n1/n2\n",
    "di =n1//n2\n",
    "e =n1**n2 \n",
    "print('A soma é {}, a multiplicação é {} e a divisão é {:.3f}'.format(s,m,d), end=' ')\n",
    "print('A divisão inteira é {} e a potência é {}'.format(di,e))"
   ]
  },
  {
   "cell_type": "raw",
   "id": "0a7cff88",
   "metadata": {},
   "source": [
    "\\n - Pula linha \n",
    ":.3f - Acrescenta 3 casas decimais \n",
    "end='' - Não pula linha"
   ]
  },
  {
   "cell_type": "markdown",
   "id": "90c33fbe",
   "metadata": {},
   "source": [
    "## Desafios "
   ]
  },
  {
   "cell_type": "raw",
   "id": "1405ab2a",
   "metadata": {},
   "source": [
    "1 - Faça um programa que leia um número inteiro e mostra na tela o seu sucessor e seu atecessor "
   ]
  },
  {
   "cell_type": "code",
   "execution_count": 34,
   "id": "7ba3d707",
   "metadata": {},
   "outputs": [
    {
     "name": "stdout",
     "output_type": "stream",
     "text": [
      "Digite um número:10\n",
      "O número digitado foi 10, seu sucessor é 11 e o antecessor é 9\n"
     ]
    }
   ],
   "source": [
    "x = int(input('Digite um número:'))\n",
    "print('O número digitado foi {}, seu sucessor é {} e o antecessor é {}'.format(x,x+1,x-1))"
   ]
  },
  {
   "cell_type": "raw",
   "id": "531af938",
   "metadata": {},
   "source": [
    "2 - Crie um algoritmo que leia um número e mostre seu dobro,triplo e raiz quadrada"
   ]
  },
  {
   "cell_type": "code",
   "execution_count": 63,
   "id": "e1ca69b3",
   "metadata": {},
   "outputs": [
    {
     "name": "stdout",
     "output_type": "stream",
     "text": [
      "Digite um número:18\n",
      "O dobro desse número é 36, o triplo desse número é 54 e a sua raiz quadrada é 4.24\n"
     ]
    }
   ],
   "source": [
    "x = int(input('Digite um número:'))\n",
    "print('O dobro desse número é {}, o triplo desse número é {} e a sua raiz quadrada é {:.2f}'.format(x*2,x*3,x**(1/2)))"
   ]
  },
  {
   "cell_type": "raw",
   "id": "8035becb",
   "metadata": {},
   "source": [
    "3 - Desenvolva um programa que leia as duas notas de um aluno, calcule e mostre sua média"
   ]
  },
  {
   "cell_type": "code",
   "execution_count": 64,
   "id": "5e379d66",
   "metadata": {},
   "outputs": [
    {
     "name": "stdout",
     "output_type": "stream",
     "text": [
      "Primeira nota:10\n",
      "Segunda nota:2\n",
      "A sua média é 6.0\n"
     ]
    }
   ],
   "source": [
    "x1 = float(input('Primeira nota:'))\n",
    "x2 = float(input('Segunda nota:'))\n",
    "print('A sua média é {}'.format((x1+x2)/2))"
   ]
  },
  {
   "cell_type": "raw",
   "id": "2e31f725",
   "metadata": {},
   "source": [
    "4 - Escreva um programa que leia um valor em metros e o exiba convertido em centímetros e milímetros "
   ]
  },
  {
   "cell_type": "code",
   "execution_count": 71,
   "id": "aca4d771",
   "metadata": {},
   "outputs": [
    {
     "name": "stdout",
     "output_type": "stream",
     "text": [
      "Digite um valor em metros:2.5\n",
      "O valor 2.5 em centímetros vale 250cm e em milímetros vale 2500mm\n"
     ]
    }
   ],
   "source": [
    "x = float(input('Digite um valor em metros:'))\n",
    "print('O valor {} em centímetros vale {:.0f}cm e em milímetros vale {:.0f}mm'.format(x,x*100,x*1000))"
   ]
  },
  {
   "cell_type": "raw",
   "id": "77d06645",
   "metadata": {},
   "source": [
    "5 - Faça um programa que leia um número inteiro qualquer e mostre na tela sua tabuada "
   ]
  },
  {
   "cell_type": "code",
   "execution_count": 43,
   "id": "faecec91",
   "metadata": {},
   "outputs": [
    {
     "name": "stdout",
     "output_type": "stream",
     "text": [
      "Digite um número:2\n",
      "Sua tabuada é: 2 - 4 - 6 - 8 - 10 - 12 - 14 - 16 - 18 -20\n"
     ]
    }
   ],
   "source": [
    "x = int(input('Digite um número:'))\n",
    "print('Sua tabuada é: {} - {} - {} - {} - {} - {} - {} - {} - {} -{}'.format(x*1,x*2,x*3,x*4,x*5,x*6,x*7,x*8,x*9,x*10))"
   ]
  },
  {
   "cell_type": "raw",
   "id": "490dd369",
   "metadata": {},
   "source": [
    "6 - Crie um programa que leia quanto dinheiro uma pessoa tem na carteira e mostre quantos Dólares ela pode comprar"
   ]
  },
  {
   "cell_type": "code",
   "execution_count": 47,
   "id": "bc7e203a",
   "metadata": {},
   "outputs": [
    {
     "name": "stdout",
     "output_type": "stream",
     "text": [
      "Digite quantos reais você gostaria de converter para Dólares:50\n",
      "O valor em Doláres será 9.26 US$\n"
     ]
    }
   ],
   "source": [
    "#Considerando 1US$ = 5.40 \n",
    "x = float(input('Digite quantos reais você gostaria de converter para Dólares:'))\n",
    "print('O valor em Doláres será {:.2f} US$'.format(x/5.40))"
   ]
  },
  {
   "cell_type": "raw",
   "id": "795b6579",
   "metadata": {},
   "source": [
    "7 - Faça um programa que leie a largura e a altura de uma parede em metros, calcule a sua área\n",
    "e a quantidade de tinta necessáia para pinta-lá, sabendo que cada litro da tinta, pinta uma área de 2m**2 "
   ]
  },
  {
   "cell_type": "code",
   "execution_count": 72,
   "id": "b83babbf",
   "metadata": {},
   "outputs": [
    {
     "name": "stdout",
     "output_type": "stream",
     "text": [
      "Digite quantos metros de largura tem sua parede:3\n",
      "Digite quantos metros de altura tem sua parede:2\n",
      "A área da sua parede é 6.0\n",
      "Para pinta-lá precisará de 3.0 litros de tinta\n"
     ]
    }
   ],
   "source": [
    "l = float(input('Digite quantos metros de largura tem sua parede:')) \n",
    "a = float(input('Digite quantos metros de altura tem sua parede:'))\n",
    "print('A área da sua parede é {}\\nPara pinta-lá precisará de {} litros de tinta'.format(l*a,(l*a)/2))"
   ]
  },
  {
   "cell_type": "raw",
   "id": "9cd498fc",
   "metadata": {},
   "source": [
    "8 - Faça um algoritmo que leia o preço de um produto e mostre seu novo preço, com 5% de desconto "
   ]
  },
  {
   "cell_type": "code",
   "execution_count": 58,
   "id": "3ac3c86a",
   "metadata": {},
   "outputs": [
    {
     "name": "stdout",
     "output_type": "stream",
     "text": [
      "Digite o preço do produto:50\n",
      "Parabéns, você recebeu 5% de desconto, então o valor passou a ser 47.5 R$\n"
     ]
    }
   ],
   "source": [
    "x = float(input('Digite o preço do produto:'))\n",
    "print('Parabéns, você recebeu 5% de desconto, então o valor passou a ser {} R$'.format(((x*0.05)-x)*-1))"
   ]
  },
  {
   "cell_type": "raw",
   "id": "8c41a1da",
   "metadata": {},
   "source": [
    "9 - Faça um algoritmo que leia o salário de um funcionário e mostre seu novo salário, com 15% de aumento"
   ]
  },
  {
   "cell_type": "code",
   "execution_count": 62,
   "id": "4921c1e8",
   "metadata": {},
   "outputs": [
    {
     "name": "stdout",
     "output_type": "stream",
     "text": [
      "Salário anterior:2000\n",
      "O seu sálario passou a ser 2300.0 R$\n"
     ]
    }
   ],
   "source": [
    "x = float(input('Salário anterior:'))\n",
    "print('O seu sálario passou a ser {} R$'.format((x*0.15)+x))"
   ]
  },
  {
   "cell_type": "raw",
   "id": "e0c2d015",
   "metadata": {},
   "source": [
    "10 - Crie um programa que passe a temperatura de °C para °F "
   ]
  },
  {
   "cell_type": "code",
   "execution_count": 74,
   "id": "ed0361d1",
   "metadata": {},
   "outputs": [
    {
     "name": "stdout",
     "output_type": "stream",
     "text": [
      "Informe a temperatura em °C:45\n",
      "A temperatura 45.0 em °C passou a ser 113.0°F, após conversão!\n"
     ]
    }
   ],
   "source": [
    "c = float(input('Informe a temperatura em °C:'))\n",
    "print('A temperatura {} em °C passou a ser {}°F, após conversão!'.format(c,((9*c)/5)+32))"
   ]
  },
  {
   "cell_type": "raw",
   "id": "00cc2ddc",
   "metadata": {},
   "source": [
    "11 - Escreva um programa que pergunte a quantidade de Km percorridos por um carro alugado e a quantidade de dias pelos quais ele foi alugado. Calcule o preço a pagar, sabendo que o carro custa R$60 por dia e R$0,15 por Km rodado  "
   ]
  },
  {
   "cell_type": "code",
   "execution_count": 77,
   "id": "dcaa44a4",
   "metadata": {},
   "outputs": [
    {
     "name": "stdout",
     "output_type": "stream",
     "text": [
      "Quantos dias o carro foi alugado?3\n",
      "Quantos Kms o carro rodou?350\n",
      "O preço a pagar no aluguel é 232.5R$\n"
     ]
    }
   ],
   "source": [
    "dias = int(input('Quantos dias o carro foi alugado?'))\n",
    "km = float(input('Quantos Kms o carro rodou?'))\n",
    "pago = (dias*60) + (km*0.15) \n",
    "print('O preço a pagar no aluguel é {}R$'.format(pago))"
   ]
  }
 ],
 "metadata": {
  "kernelspec": {
   "display_name": "Python 3",
   "language": "python",
   "name": "python3"
  },
  "language_info": {
   "codemirror_mode": {
    "name": "ipython",
    "version": 3
   },
   "file_extension": ".py",
   "mimetype": "text/x-python",
   "name": "python",
   "nbconvert_exporter": "python",
   "pygments_lexer": "ipython3",
   "version": "3.8.8"
  },
  "toc": {
   "base_numbering": 1,
   "nav_menu": {},
   "number_sections": true,
   "sideBar": true,
   "skip_h1_title": false,
   "title_cell": "Table of Contents",
   "title_sidebar": "Contents",
   "toc_cell": false,
   "toc_position": {},
   "toc_section_display": true,
   "toc_window_display": false
  },
  "varInspector": {
   "cols": {
    "lenName": 16,
    "lenType": 16,
    "lenVar": 40
   },
   "kernels_config": {
    "python": {
     "delete_cmd_postfix": "",
     "delete_cmd_prefix": "del ",
     "library": "var_list.py",
     "varRefreshCmd": "print(var_dic_list())"
    },
    "r": {
     "delete_cmd_postfix": ") ",
     "delete_cmd_prefix": "rm(",
     "library": "var_list.r",
     "varRefreshCmd": "cat(var_dic_list()) "
    }
   },
   "types_to_exclude": [
    "module",
    "function",
    "builtin_function_or_method",
    "instance",
    "_Feature"
   ],
   "window_display": false
  }
 },
 "nbformat": 4,
 "nbformat_minor": 5
}
