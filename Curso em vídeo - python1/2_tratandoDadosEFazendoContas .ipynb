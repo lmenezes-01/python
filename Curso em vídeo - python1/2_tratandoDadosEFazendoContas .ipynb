{
 "cells": [
  {
   "cell_type": "markdown",
   "id": "573861f4",
   "metadata": {},
   "source": [
    "# Tratando Dados e Fazendo Contas"
   ]
  },
  {
   "cell_type": "markdown",
   "id": "1029e3fe",
   "metadata": {},
   "source": [
    "## Aula 6 - Tipos Primitivos e Saída de Dados "
   ]
  },
  {
   "cell_type": "raw",
   "id": "096ecb00",
   "metadata": {},
   "source": [
    "Os quatro tipos príncipais:\n",
    "int(7,-4,0,9875)\n",
    "float(4.5,0.076,-15.223,7.0)\n",
    "bool(1,0,True,False)\n",
    "str('Olá','7.5','')"
   ]
  },
  {
   "cell_type": "code",
   "execution_count": 7,
   "id": "9f798db4",
   "metadata": {},
   "outputs": [
    {
     "name": "stdout",
     "output_type": "stream",
     "text": [
      "Digite um número: 10\n",
      "<class 'str'>\n"
     ]
    }
   ],
   "source": [
    "#Tipos de dados \n",
    "n1 = input('Digite um número: ')\n",
    "print(type(n1))"
   ]
  },
  {
   "cell_type": "code",
   "execution_count": 8,
   "id": "a35f8368",
   "metadata": {},
   "outputs": [
    {
     "name": "stdout",
     "output_type": "stream",
     "text": [
      "Digite um número: 10\n",
      "<class 'int'>\n"
     ]
    }
   ],
   "source": [
    "#Tipos de dados \n",
    "n1 = int(input('Digite um número: '))\n",
    "print(type(n1))"
   ]
  },
  {
   "cell_type": "code",
   "execution_count": 2,
   "id": "5e41f11a",
   "metadata": {},
   "outputs": [
    {
     "name": "stdout",
     "output_type": "stream",
     "text": [
      "Digite um número:10\n",
      "Digite mais um número:10\n",
      "Total é: 20\n"
     ]
    }
   ],
   "source": [
    "#A função int() converte tudo que for armazenado na variável em número inteiro \n",
    "n1 = int(input('Digite um número:'))\n",
    "n2 = int(input('Digite mais um número:'))\n",
    "s = n1+n2\n",
    "print('Total é:',s)"
   ]
  },
  {
   "cell_type": "code",
   "execution_count": 6,
   "id": "dea8ed1b",
   "metadata": {},
   "outputs": [
    {
     "name": "stdout",
     "output_type": "stream",
     "text": [
      "A soma vale 20\n"
     ]
    }
   ],
   "source": [
    "#Exemplo de Str usando .format()\n",
    "print('A soma vale {}'.format(s))"
   ]
  },
  {
   "cell_type": "code",
   "execution_count": 9,
   "id": "d84bb867",
   "metadata": {},
   "outputs": [
    {
     "name": "stdout",
     "output_type": "stream",
     "text": [
      "A soma entre 10 e 10 vale 20\n"
     ]
    }
   ],
   "source": [
    "print('A soma entre {} e {} vale {}'.format(n1,n2,s))"
   ]
  },
  {
   "cell_type": "code",
   "execution_count": 11,
   "id": "7ff056f0",
   "metadata": {},
   "outputs": [
    {
     "name": "stdout",
     "output_type": "stream",
     "text": [
      "Digite um valor:5\n",
      "5.0\n",
      "<class 'float'>\n"
     ]
    }
   ],
   "source": [
    "f = float(input('Digite um valor:'))\n",
    "print(f)\n",
    "print(type(f))"
   ]
  },
  {
   "cell_type": "code",
   "execution_count": 12,
   "id": "01ae2b1c",
   "metadata": {},
   "outputs": [
    {
     "name": "stdout",
     "output_type": "stream",
     "text": [
      "Digite um número: \n",
      "False\n",
      "<class 'bool'>\n"
     ]
    }
   ],
   "source": [
    "b = bool(input('Digite um número: '))\n",
    "print(b)\n",
    "print(type(b))\n"
   ]
  },
  {
   "cell_type": "markdown",
   "id": "4dd64eff",
   "metadata": {},
   "source": [
    "### Desafios"
   ]
  },
  {
   "cell_type": "raw",
   "id": "667b5ffa",
   "metadata": {},
   "source": [
    "1- Crie um programa e mostre a soma entre eles"
   ]
  },
  {
   "cell_type": "code",
   "execution_count": 15,
   "id": "76f6d015",
   "metadata": {},
   "outputs": [
    {
     "name": "stdout",
     "output_type": "stream",
     "text": [
      "Digite um número:5\n",
      "Digite mais um número:5\n",
      "A soma entre 5 e 5, resultou no valor 10\n"
     ]
    }
   ],
   "source": [
    "n1 = int(input('Digite um número:'))\n",
    "n2 = int(input('Digite mais um número:'))\n",
    "s = n1+n2 \n",
    "print('A soma entre {} e {}, resultou no valor {}'.format(n1,n2,s))"
   ]
  },
  {
   "cell_type": "raw",
   "id": "7c07b8b9",
   "metadata": {},
   "source": [
    "2 - Faça um programa que leia algo pelo teclado e mostre na tela o seu tipo primitivo e todas as informações possíveis sobre ela "
   ]
  },
  {
   "cell_type": "code",
   "execution_count": 39,
   "id": "b9489ac2",
   "metadata": {},
   "outputs": [
    {
     "name": "stdout",
     "output_type": "stream",
     "text": [
      "Digite algo:Olá\n",
      "O tipo primitivo desse valor é <class 'str'>\n",
      "Só tem espaço? False\n",
      "É um número? False\n",
      "É alfabético? True\n",
      "É alfanúmerico? True\n",
      "Está em maiúsculo? False\n",
      "Está em minúsculo? False\n",
      "Está capitalizada? True\n"
     ]
    }
   ],
   "source": [
    "x = input('Digite algo:')\n",
    "print('O tipo primitivo desse valor é {}'.format(type(x)))\n",
    "print('Só tem espaço? {}'.format(x.isspace()))\n",
    "print('É um número? {}'.format(x.isnumeric()))\n",
    "print('É alfabético? {}'.format(x.isalpha()))\n",
    "print('É alfanúmerico? {}'.format(x.isalnum()))\n",
    "print('Está em maiúsculo? {}'.format(x.isupper()))\n",
    "print('Está em minúsculo? {}'.format(x.islower()))\n",
    "print('Está capitalizada? {}'.format(x.istitle()))"
   ]
  },
  {
   "cell_type": "markdown",
   "id": "a516c1d6",
   "metadata": {},
   "source": [
    "## Aula 7 - Operadores Aritméticos "
   ]
  },
  {
   "cell_type": "code",
   "execution_count": null,
   "id": "b1b3bf33",
   "metadata": {},
   "outputs": [],
   "source": []
  }
 ],
 "metadata": {
  "kernelspec": {
   "display_name": "Python 3",
   "language": "python",
   "name": "python3"
  },
  "language_info": {
   "codemirror_mode": {
    "name": "ipython",
    "version": 3
   },
   "file_extension": ".py",
   "mimetype": "text/x-python",
   "name": "python",
   "nbconvert_exporter": "python",
   "pygments_lexer": "ipython3",
   "version": "3.8.8"
  },
  "toc": {
   "base_numbering": 1,
   "nav_menu": {},
   "number_sections": true,
   "sideBar": true,
   "skip_h1_title": false,
   "title_cell": "Table of Contents",
   "title_sidebar": "Contents",
   "toc_cell": false,
   "toc_position": {},
   "toc_section_display": true,
   "toc_window_display": false
  },
  "varInspector": {
   "cols": {
    "lenName": 16,
    "lenType": 16,
    "lenVar": 40
   },
   "kernels_config": {
    "python": {
     "delete_cmd_postfix": "",
     "delete_cmd_prefix": "del ",
     "library": "var_list.py",
     "varRefreshCmd": "print(var_dic_list())"
    },
    "r": {
     "delete_cmd_postfix": ") ",
     "delete_cmd_prefix": "rm(",
     "library": "var_list.r",
     "varRefreshCmd": "cat(var_dic_list()) "
    }
   },
   "types_to_exclude": [
    "module",
    "function",
    "builtin_function_or_method",
    "instance",
    "_Feature"
   ],
   "window_display": false
  }
 },
 "nbformat": 4,
 "nbformat_minor": 5
}
