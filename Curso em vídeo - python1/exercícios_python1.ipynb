{
 "cells": [
  {
   "cell_type": "markdown",
   "id": "f7dc2b4b",
   "metadata": {},
   "source": [
    "# 1 - Crie um programa que escreva \"Olá,mundo!\" na tela"
   ]
  },
  {
   "cell_type": "code",
   "execution_count": 2,
   "id": "7151f321",
   "metadata": {},
   "outputs": [
    {
     "name": "stdout",
     "output_type": "stream",
     "text": [
      "Olá,mundo!\n"
     ]
    }
   ],
   "source": [
    "print('Olá,mundo!')"
   ]
  },
  {
   "cell_type": "code",
   "execution_count": 3,
   "id": "7aaf1cf9",
   "metadata": {},
   "outputs": [
    {
     "name": "stdout",
     "output_type": "stream",
     "text": [
      "Olá, mundo!\n"
     ]
    }
   ],
   "source": [
    "msg = 'Olá, mundo!'\n",
    "print(msg)"
   ]
  },
  {
   "cell_type": "markdown",
   "id": "15369a55",
   "metadata": {},
   "source": [
    "# 2 - Faça um programa que leia o nome de uma pessoa e mostre sua mensagem de boas-vindas"
   ]
  },
  {
   "cell_type": "code",
   "execution_count": 7,
   "id": "9354e7f1",
   "metadata": {},
   "outputs": [
    {
     "name": "stdout",
     "output_type": "stream",
     "text": [
      "Qual o seu nome?Lucas\n",
      "Olá Lucas ,seja bem vindo(a)!\n"
     ]
    }
   ],
   "source": [
    "nome = input('Qual o seu nome?')\n",
    "print('Olá',nome,',seja bem vindo(a)!')"
   ]
  },
  {
   "cell_type": "code",
   "execution_count": 8,
   "id": "1e3379e8",
   "metadata": {},
   "outputs": [
    {
     "name": "stdout",
     "output_type": "stream",
     "text": [
      "Digite seu nome: Lucas\n",
      "É um prazer te conhecer Lucas!\n"
     ]
    }
   ],
   "source": [
    "nome = input('Digite seu nome: ')\n",
    "print('É um prazer te conhecer {}!'.format(nome))"
   ]
  },
  {
   "cell_type": "markdown",
   "id": "aecbcacf",
   "metadata": {},
   "source": [
    "# 3 - Crie um programa e mostre a soma entre eles"
   ]
  },
  {
   "cell_type": "code",
   "execution_count": 9,
   "id": "993b8fa4",
   "metadata": {},
   "outputs": [
    {
     "name": "stdout",
     "output_type": "stream",
     "text": [
      "Digite um número:10\n",
      "Digite mais um número:2\n",
      "A soma entre 10 e 2, resultou no valor 12\n"
     ]
    }
   ],
   "source": [
    "n1 = int(input('Digite um número:'))\n",
    "n2 = int(input('Digite mais um número:'))\n",
    "s = n1+n2 \n",
    "print('A soma entre {} e {}, resultou no valor {}'.format(n1,n2,s))"
   ]
  },
  {
   "cell_type": "markdown",
   "id": "8198a1c7",
   "metadata": {},
   "source": [
    "# 4 - Faça um programa que leia algo pelo teclado e mostre na tela o seu tipo primitivo e todas as informações possíveis sobre ela "
   ]
  },
  {
   "cell_type": "code",
   "execution_count": 10,
   "id": "7ef249f1",
   "metadata": {},
   "outputs": [
    {
     "name": "stdout",
     "output_type": "stream",
     "text": [
      "Digite algo:olá\n",
      "O tipo primitivo desse valor é <class 'str'>\n",
      "Só tem espaço? False\n",
      "É um número? False\n",
      "É alfabético? True\n",
      "É alfanúmerico? True\n",
      "Está em maiúsculo? False\n",
      "Está em minúsculo? True\n",
      "Está capitalizada? False\n"
     ]
    }
   ],
   "source": [
    "x = input('Digite algo:')\n",
    "print('O tipo primitivo desse valor é {}'.format(type(x)))\n",
    "print('Só tem espaço? {}'.format(x.isspace()))\n",
    "print('É um número? {}'.format(x.isnumeric()))\n",
    "print('É alfabético? {}'.format(x.isalpha()))\n",
    "print('É alfanúmerico? {}'.format(x.isalnum()))\n",
    "print('Está em maiúsculo? {}'.format(x.isupper()))\n",
    "print('Está em minúsculo? {}'.format(x.islower()))\n",
    "print('Está capitalizada? {}'.format(x.istitle()))"
   ]
  },
  {
   "cell_type": "markdown",
   "id": "3112de88",
   "metadata": {},
   "source": [
    "# 5 - Faça um programa que leia um número inteiro e mostra na tela o seu sucessor e seu atecessor "
   ]
  },
  {
   "cell_type": "code",
   "execution_count": 1,
   "id": "d84db321",
   "metadata": {},
   "outputs": [
    {
     "name": "stdout",
     "output_type": "stream",
     "text": [
      "Digite um número:10\n",
      "O número digitado foi 10, seu sucessor é 11 e o antecessor é 9\n"
     ]
    }
   ],
   "source": [
    "x = int(input('Digite um número:'))\n",
    "print('O número digitado foi {}, seu sucessor é {} e o antecessor é {}'.format(x,x+1,x-1))"
   ]
  },
  {
   "cell_type": "markdown",
   "id": "31ea5807",
   "metadata": {},
   "source": [
    "# 6 - Crie um algoritmo que leia um número e mostre seu dobro,triplo e raiz quadrada "
   ]
  },
  {
   "cell_type": "code",
   "execution_count": 6,
   "id": "5f537402",
   "metadata": {},
   "outputs": [
    {
     "name": "stdout",
     "output_type": "stream",
     "text": [
      "Digite um número:10\n",
      "O dobro desse número é 20, o triplo desse número é 30 e a sua raiz quadrada é 3.16\n"
     ]
    }
   ],
   "source": [
    "x = int(input('Digite um número:'))\n",
    "print('O dobro desse número é {}, o triplo desse número é {} e a sua raiz quadrada é {:.2f}'.format(x*2,x*3,x**(1/2)))"
   ]
  },
  {
   "cell_type": "markdown",
   "id": "06dd66fd",
   "metadata": {},
   "source": [
    "# 7 - Desenvolva um programa que leia as duas notas de um aluno, calcule e mostre sua média"
   ]
  },
  {
   "cell_type": "code",
   "execution_count": 12,
   "id": "95278482",
   "metadata": {},
   "outputs": [
    {
     "name": "stdout",
     "output_type": "stream",
     "text": [
      "Primeira nota:10\n",
      "Segunda nota:2\n",
      "A sua média é 6.0\n"
     ]
    }
   ],
   "source": [
    "x1 = float(input('Primeira nota:'))\n",
    "x2 = float(input('Segunda nota:'))\n",
    "print('A sua média é {}'.format((x1+x2)/2))"
   ]
  },
  {
   "cell_type": "markdown",
   "id": "4cfda10e",
   "metadata": {},
   "source": [
    "# 8 - Escreva um programa que leia um valor em metros e o exiba convertido em centímetros e milímetros "
   ]
  },
  {
   "cell_type": "code",
   "execution_count": 13,
   "id": "a2790e46",
   "metadata": {},
   "outputs": [
    {
     "name": "stdout",
     "output_type": "stream",
     "text": [
      "Digite um valor em metros:2.5\n",
      "O valor 2.5 em centímetros vale 250cm e em milímetros vale 2500mm\n"
     ]
    }
   ],
   "source": [
    "x = float(input('Digite um valor em metros:'))\n",
    "print('O valor {} em centímetros vale {:.0f}cm e em milímetros vale {:.0f}mm'.format(x,x*100,x*1000))"
   ]
  },
  {
   "cell_type": "markdown",
   "id": "83fccc65",
   "metadata": {},
   "source": [
    "# 9 - Faça um programa que leia um número inteiro qualquer e mostre na tela sua tabuada "
   ]
  },
  {
   "cell_type": "code",
   "execution_count": 4,
   "id": "97bea26a",
   "metadata": {},
   "outputs": [
    {
     "name": "stdout",
     "output_type": "stream",
     "text": [
      "Digite um número:2\n",
      "Sua tabuada é: 2 - 4 - 6 - 8 - 10 - 12 - 14 - 16 - 18 -20\n"
     ]
    }
   ],
   "source": [
    "x = int(input('Digite um número:'))\n",
    "print('Sua tabuada é: {} - {} - {} - {} - {} - {} - {} - {} - {} -{}'.format(x*1,x*2,x*3,x*4,x*5,x*6,x*7,x*8,x*9,x*10))"
   ]
  },
  {
   "cell_type": "markdown",
   "id": "0d33cc2d",
   "metadata": {},
   "source": [
    "\n",
    "# 10 - Crie um programa que leia quanto dinheiro uma pessoa tem na carteira e mostre quantos Dólares ela pode comprar"
   ]
  },
  {
   "cell_type": "code",
   "execution_count": 5,
   "id": "3ce0a67c",
   "metadata": {},
   "outputs": [
    {
     "name": "stdout",
     "output_type": "stream",
     "text": [
      "Digite quantos reais você gostaria de converter para Dólares:150\n",
      "O valor em Doláres será 27.78 US$\n"
     ]
    }
   ],
   "source": [
    "#Considerando 1US$ = 5.40 \n",
    "x = float(input('Digite quantos reais você gostaria de converter para Dólares:'))\n",
    "print('O valor em Doláres será {:.2f} US$'.format(x/5.40))"
   ]
  },
  {
   "cell_type": "markdown",
   "id": "11fff8a9",
   "metadata": {},
   "source": [
    "# 11 - Faça um programa que leie a largura e a altura de uma parede em metros, calcule a sua área e a quantidade de tinta necessáia para pinta-lá, sabendo que cada litro da tinta, pinta uma área de 2m**2 "
   ]
  },
  {
   "cell_type": "code",
   "execution_count": 14,
   "id": "92e2a665",
   "metadata": {},
   "outputs": [
    {
     "name": "stdout",
     "output_type": "stream",
     "text": [
      "Digite quantos metros de largura tem sua parede:3\n",
      "Digite quantos metros de altura tem sua parede:2\n",
      "A área da sua parede é 6.0\n",
      "Para pinta-lá precisará de 3.0 litros de tinta\n"
     ]
    }
   ],
   "source": [
    "l = float(input('Digite quantos metros de largura tem sua parede:')) \n",
    "a = float(input('Digite quantos metros de altura tem sua parede:'))\n",
    "print('A área da sua parede é {}\\nPara pinta-lá precisará de {} litros de tinta'.format(l*a,(l*a)/2))"
   ]
  },
  {
   "cell_type": "markdown",
   "id": "efcc29a9",
   "metadata": {},
   "source": [
    "\n",
    "# 12 - Faça um algoritmo que leia o preço de um produto e mostre seu novo preço, com 5% de desconto "
   ]
  },
  {
   "cell_type": "code",
   "execution_count": 8,
   "id": "55aef20d",
   "metadata": {},
   "outputs": [
    {
     "name": "stdout",
     "output_type": "stream",
     "text": [
      "Digite o preço do produto:30\n",
      "Parabéns, você recebeu 5% de desconto, então o valor passou a ser 28.5 R$\n"
     ]
    }
   ],
   "source": [
    "x = float(input('Digite o preço do produto:'))\n",
    "print('Parabéns, você recebeu 5% de desconto, então o valor passou a ser {} R$'.format(((x*0.05)-x)*-1))"
   ]
  },
  {
   "cell_type": "markdown",
   "id": "eadce9e3",
   "metadata": {},
   "source": [
    "# 13 - Faça um algoritmo que leia o salário de um funcionário e mostre seu novo salário, com 15% de aumento"
   ]
  },
  {
   "cell_type": "code",
   "execution_count": 11,
   "id": "17288579",
   "metadata": {},
   "outputs": [
    {
     "name": "stdout",
     "output_type": "stream",
     "text": [
      "Salário anterior:2150\n",
      "O seu sálario passou a ser 2472.5 R$\n"
     ]
    }
   ],
   "source": [
    "x = float(input('Salário anterior:'))\n",
    "print('O seu sálario passou a ser {} R$'.format((x*0.15)+x))"
   ]
  },
  {
   "cell_type": "markdown",
   "id": "9f8759c3",
   "metadata": {},
   "source": [
    "# 14 - Crie um programa que passe a temperatura de °C para °F "
   ]
  },
  {
   "cell_type": "code",
   "execution_count": 15,
   "id": "9ee0fe50",
   "metadata": {},
   "outputs": [
    {
     "name": "stdout",
     "output_type": "stream",
     "text": [
      "Informe a temperatura em °C:45\n",
      "A temperatura 45.0 em °C passou a ser 113.0°F, após conversão!\n"
     ]
    }
   ],
   "source": [
    "c = float(input('Informe a temperatura em °C:'))\n",
    "print('A temperatura {} em °C passou a ser {}°F, após conversão!'.format(c,((9*c)/5)+32))"
   ]
  },
  {
   "cell_type": "markdown",
   "id": "c18f206f",
   "metadata": {},
   "source": [
    "# 15 - Escreva um programa que pergunte a quantidade de Km percorridos por um carro alugado e a quantidade de dias pelos quais ele foi alugado.Calcule o preço a pagar, sabendo que o carro custa RS60 por dia e RS0,15 por Km rodado  "
   ]
  },
  {
   "cell_type": "code",
   "execution_count": 20,
   "id": "d0e1fa6d",
   "metadata": {},
   "outputs": [
    {
     "name": "stdout",
     "output_type": "stream",
     "text": [
      "Quantos dias o carro foi alugado?3\n",
      "Quantos Kms o carro rodou?350\n",
      "O preço a pagar no aluguel é 232.5R$\n"
     ]
    }
   ],
   "source": [
    "dias = int(input('Quantos dias o carro foi alugado?'))\n",
    "km = float(input('Quantos Kms o carro rodou?'))\n",
    "pago = (dias*60) + (km*0.15) \n",
    "print('O preço a pagar no aluguel é {}R$'.format(pago))"
   ]
  },
  {
   "cell_type": "markdown",
   "id": "6f5857cb",
   "metadata": {},
   "source": [
    "# 16 - Crie um programa que leia um número real qualquer pelo teclado e mostre na tela sua porção inteira. ex: Digite um número 6.127. O número 6.127 tem a parte inteira 6.  "
   ]
  },
  {
   "cell_type": "code",
   "execution_count": 1,
   "id": "529ffe5d",
   "metadata": {},
   "outputs": [
    {
     "name": "stdout",
     "output_type": "stream",
     "text": [
      "Digite um valor qualquer:6.127\n",
      "O número 6.127 tem a parte inteira 6\n"
     ]
    }
   ],
   "source": [
    "from math import trunc\n",
    "\n",
    "num = float(input('Digite um valor qualquer:'))\n",
    "inteiro = trunc(num)\n",
    "print('O número {} tem a parte inteira {}'.format(num,inteiro))"
   ]
  },
  {
   "cell_type": "markdown",
   "id": "b8e4df91",
   "metadata": {},
   "source": [
    "# 17 - Faça um programa que leia o comprimento de cateto oposto e do cateto adjacente de um triângulo retângulo, calcule e mostre o comprimento da hipotenusa. "
   ]
  },
  {
   "cell_type": "code",
   "execution_count": 8,
   "id": "81cf4416",
   "metadata": {},
   "outputs": [
    {
     "name": "stdout",
     "output_type": "stream",
     "text": [
      "Digite o valor do cateto oposto:8\n",
      "Digite o valor do cateto adjacente:3\n",
      "O valor do cateto oposto é 8.0 e o valor do cateto adjacente é 3.0, resultando na hipotenusa 8.54\n"
     ]
    }
   ],
   "source": [
    "from math import sqrt,hypot\n",
    "\n",
    "catop = float(input('Digite o valor do cateto oposto:'))\n",
    "catad = float(input('Digite o valor do cateto adjacente:'))\n",
    "hip = hypot(catop,catad)\n",
    "print('O valor do cateto oposto é {} e o valor do cateto adjacente é {}, resultando na hipotenusa {:.2f}'.format(catop,catad,hip))"
   ]
  },
  {
   "cell_type": "markdown",
   "id": "1d517d44",
   "metadata": {},
   "source": [
    "# 18 - Faça um programa que leia um ângulo qualquer e mostre na tela o valor do seno, cosseno e tangente desse ângulo. "
   ]
  },
  {
   "cell_type": "code",
   "execution_count": 10,
   "id": "dca1f5e6",
   "metadata": {},
   "outputs": [
    {
     "name": "stdout",
     "output_type": "stream",
     "text": [
      "Digite um ângulo qualquer:30\n",
      "O ângulo 30.0 representa 0.50 seno, 0.87 cosseno e 0.58 tangente.\n"
     ]
    }
   ],
   "source": [
    "from math import cos,sin,tan,radians\n",
    "\n",
    "ang = float(input('Digite um ângulo qualquer:'))\n",
    "sen = sin(radians(ang))\n",
    "cos = cos(radians(ang))\n",
    "tan = tan(radians(ang))\n",
    "print('O ângulo {} representa {:.2f} seno, {:.2f} cosseno e {:.2f} tangente.'.format(ang,sen,cos,tan))\n"
   ]
  },
  {
   "cell_type": "markdown",
   "id": "baf3bfc8",
   "metadata": {},
   "source": [
    "# 19 - Um professor quer sotear um dos seus quatro alunos para apagar o quadro. Faça um programa que ajude ele, lendo o nome deles e escrevendo o nome escolhido.  "
   ]
  },
  {
   "cell_type": "code",
   "execution_count": 4,
   "id": "03cc4cf1",
   "metadata": {},
   "outputs": [
    {
     "name": "stdout",
     "output_type": "stream",
     "text": [
      "Aluno 1:Lucas\n",
      "Aluno 2:Ana\n",
      "Aluno 3:Paulo\n",
      "Aluno 4:Maria\n",
      "Dos alunos Lucas, Ana, Paulo e Maria. O aluno(a) Paulo foi escolhido\n"
     ]
    }
   ],
   "source": [
    "from random import choice \n",
    "\n",
    "a = str(input('Aluno 1:'))\n",
    "b = str(input('Aluno 2:'))\n",
    "c = str(input('Aluno 3:'))\n",
    "d = str(input('Aluno 4:'))\n",
    "sort = choice([a, b, c, d])\n",
    "print('Dos alunos {}, {}, {} e {}. O aluno(a) {} foi escolhido'.format(a,b,c,d,sort))"
   ]
  },
  {
   "cell_type": "markdown",
   "id": "eefead80",
   "metadata": {},
   "source": [
    "# 20 - O mesmo professor do desafio anterior quer sortear a ordem de apresentação de trabalhos dos alunos. Faça um programa que leia o nome dos quatros alunos e mostre a ordem sorteada."
   ]
  },
  {
   "cell_type": "code",
   "execution_count": 5,
   "id": "259d881f",
   "metadata": {},
   "outputs": [
    {
     "name": "stdout",
     "output_type": "stream",
     "text": [
      "Aluno 1:Lucas\n",
      "Aluno 2:Maria\n",
      "Aluno 3:Paulo\n",
      "Aluno 4:Ana\n",
      "Dos alunos Lucas, Maria, Paulo e Ana. A ordem de apresentação será:\n",
      "['Lucas', 'Paulo', 'Ana', 'Maria']\n"
     ]
    }
   ],
   "source": [
    "from random import sample\n",
    "\n",
    "a = str(input('Aluno 1:'))\n",
    "b = str(input('Aluno 2:'))\n",
    "c = str(input('Aluno 3:'))\n",
    "d = str(input('Aluno 4:'))\n",
    "sort = sample([a,b,c,d],k=4)\n",
    "print('Dos alunos {}, {}, {} e {}. A ordem de apresentação será:\\n{}'.format(a,b,c,d,sort))"
   ]
  },
  {
   "cell_type": "markdown",
   "id": "2210708f",
   "metadata": {},
   "source": [
    "# 21 - Faça um programa em python que abra e reproduza o aúdio de um arquivo mp3. "
   ]
  },
  {
   "cell_type": "code",
   "execution_count": 18,
   "id": "23cc1066",
   "metadata": {},
   "outputs": [
    {
     "data": {
      "text/plain": [
       "<Event(4352-AudioDeviceAdded {'which': 0, 'iscapture': 0})>"
      ]
     },
     "execution_count": 18,
     "metadata": {},
     "output_type": "execute_result"
    }
   ],
   "source": [
    "#!pip install pygame - Caso precise baixar essa biblioteca externa \n",
    "import pygame \n",
    "pygame.init()\n",
    "pygame.mixer.music.load('thatsMyWay.mp3')\n",
    "pygame.mixer.music.play()\n",
    "#pygame.mixer.music.stop() #stop\n",
    "pygame.event.wait()"
   ]
  },
  {
   "cell_type": "markdown",
   "id": "31980213",
   "metadata": {},
   "source": [
    "# 22 -  Crie um programa que leia o nome completo de uma pessoa e mostre: \n",
    "    - O nome com todas as letras maiúsculas;\n",
    "    - O nome com todas minúsculas;\n",
    "    - Quantas letras ao todo(Sem considerar espaço);\n",
    "    - Quantas letras tem o primeiro nome."
   ]
  },
  {
   "cell_type": "code",
   "execution_count": 1,
   "id": "14050947",
   "metadata": {},
   "outputs": [
    {
     "name": "stdout",
     "output_type": "stream",
     "text": [
      "Digite seu nome completo:Ana Paula de Souza\n",
      "ANA PAULA DE SOUZA\n",
      "ana paula de souza\n",
      "15\n",
      "3\n"
     ]
    }
   ],
   "source": [
    "nome = str(input('Digite seu nome completo:')).strip()\n",
    "print(nome.upper())\n",
    "print(nome.lower())\n",
    "print(len(nome) - nome.count(' '))\n",
    "print(nome.find(' '))"
   ]
  },
  {
   "cell_type": "markdown",
   "id": "6a949b39",
   "metadata": {},
   "source": [
    "# 23 - Faça um programa que leia um número de 0 a 9999 e mostre na tela cada um dos dígitos separados.\n",
    "    Ex: \n",
    "    Digite um número: 1834 \n",
    "    \n",
    "    Unidade: 4 \n",
    "    Dezena: 3\n",
    "    Centena: 8\n",
    "    Milhar: 1 "
   ]
  },
  {
   "cell_type": "code",
   "execution_count": 2,
   "id": "6b39c865",
   "metadata": {},
   "outputs": [
    {
     "name": "stdout",
     "output_type": "stream",
     "text": [
      "Digite um número entre 0 a 9999:1834\n",
      "O número digitado foi 1834\n",
      "Unidade: 4\n",
      "Dezena: 3\n",
      "Centena: 8\n",
      "Milhar: 1\n"
     ]
    }
   ],
   "source": [
    "num = str(input('Digite um número entre 0 a 9999:'))\n",
    "print('O número digitado foi {}\\nUnidade: {}\\nDezena: {}\\nCentena: {}\\nMilhar: {}'.format(num,num[3],num[2],num[1],num[0]))"
   ]
  },
  {
   "cell_type": "markdown",
   "id": "d6d47cfd",
   "metadata": {},
   "source": [
    "# 24 - Crie um programa que leia o nome de uma cidade e diga se ela começa ou não com o nome \"SANTO\""
   ]
  },
  {
   "cell_type": "code",
   "execution_count": 3,
   "id": "2218b566",
   "metadata": {},
   "outputs": [
    {
     "name": "stdout",
     "output_type": "stream",
     "text": [
      "Digite o nome de uma cidade:Santo Amaro\n",
      "A cidade escrita inicia com Santo? True\n"
     ]
    }
   ],
   "source": [
    "cidade = str(input('Digite o nome de uma cidade:')).strip()\n",
    "quebra = cidade.upper().split()\n",
    "result = 'SANTO' in quebra[0] \n",
    "print('A cidade escrita inicia com Santo? {}'.format(result))"
   ]
  },
  {
   "cell_type": "markdown",
   "id": "46ac9f9e",
   "metadata": {},
   "source": [
    "# 25 - Crie um programa que leia o nome de uma pessoa e diga se ela tem \"SILVA\" no nome. "
   ]
  },
  {
   "cell_type": "code",
   "execution_count": 4,
   "id": "e87e7bb6",
   "metadata": {},
   "outputs": [
    {
     "name": "stdout",
     "output_type": "stream",
     "text": [
      "Digite seu nome completo:Felipe José dos Santos\n",
      "O nome escrito, contém Silva? False\n"
     ]
    }
   ],
   "source": [
    "nome = str(input('Digite seu nome completo:'))\n",
    "result = 'SILVA' in nome.upper()\n",
    "print('O nome escrito, contém Silva? {}'.format(result))"
   ]
  },
  {
   "cell_type": "markdown",
   "id": "1c7e3d0e",
   "metadata": {},
   "source": [
    "# 26 - Faça um programa que leia uma frasee pelo teclado e mostre:\n",
    "    - Quantas vezes aparece a letra \"A\";\n",
    "    - Em vez que posição ela aparece a primeira vez;\n",
    "    - Em que posição ela aparece a última vez."
   ]
  },
  {
   "cell_type": "code",
   "execution_count": 5,
   "id": "51d7b5bf",
   "metadata": {},
   "outputs": [
    {
     "name": "stdout",
     "output_type": "stream",
     "text": [
      "Digite uma frase:A maior arma é o conhecimento \n",
      "Sobre a frase escrita\n",
      "A letra \"A\" apareceu 4 vezes\n",
      "A primeira vez que apareceu foi na posição 0\n",
      "A última vez foi 11\n"
     ]
    }
   ],
   "source": [
    "frase = str(input('Digite uma frase:')).strip()\n",
    "print('Sobre a frase escrita\\nA letra \"A\" apareceu {} vezes\\nA primeira vez que apareceu foi na posição {}\\nA última vez foi {}'\n",
    "     .format(frase.upper().count('A'), frase.upper().find('A'), frase.upper().rfind('A')))"
   ]
  },
  {
   "cell_type": "markdown",
   "id": "aabfec06",
   "metadata": {},
   "source": [
    "# 27 - Faça um programa que leia o nome completo de uma pessoa, mostrando em seguida o primeiro e o último nome separadamente.\n",
    "    Ex: Ana Maria de Souza \n",
    "    Primeiro = Ana  \n",
    "    Último = Souza  "
   ]
  },
  {
   "cell_type": "code",
   "execution_count": 6,
   "id": "43b2378d",
   "metadata": {},
   "outputs": [
    {
     "name": "stdout",
     "output_type": "stream",
     "text": [
      "Digite o seu nome:Ana Maria de Souza\n",
      "Muito prazer em te conhecer!\n",
      "Seu primeiro nome é Ana\n",
      "Seu último nome é Souza\n"
     ]
    }
   ],
   "source": [
    "nome = str(input('Digite o seu nome:')).strip()\n",
    "n = nome.split()\n",
    "print('Muito prazer em te conhecer!')\n",
    "print('Seu primeiro nome é {}'.format(n[0]))\n",
    "print('Seu último nome é {}'.format(n[len(n)-1]))"
   ]
  },
  {
   "cell_type": "markdown",
   "id": "4d7446a4",
   "metadata": {},
   "source": [
    "# 28 - Escreva um programa que faça o computador \"pensar\" em um número inteiro entre 0 e 5 e peça para o usuário tentar descobrir qual foi o número escolhido pelo computador. O programa deverá escrever na tela se o usuário vendeu ou perdeu."
   ]
  },
  {
   "cell_type": "code",
   "execution_count": 7,
   "id": "6185368d",
   "metadata": {},
   "outputs": [
    {
     "name": "stdout",
     "output_type": "stream",
     "text": [
      "Digite um número entre 0 e 5, afim de advinhar o que o computador pensou...0\n",
      "Processando...\n",
      "Tente novamente, você digitou 0 e o computador pensou em 3\n"
     ]
    }
   ],
   "source": [
    "from random import randint\n",
    "from time import sleep\n",
    "x = randint(0,5)\n",
    "num = int(input('Digite um número entre 0 e 5, afim de advinhar o que o computador pensou...'))\n",
    "print('Processando...')\n",
    "sleep(2)\n",
    "if num == x:\n",
    "    print('Parabéns, você advinhou! Você digiou {} e o computador pensou em {}'.format(num,x))\n",
    "else:\n",
    "    print('Tente novamente, você digitou {} e o computador pensou em {}'.format(num,x))"
   ]
  },
  {
   "cell_type": "markdown",
   "id": "c902cb5f",
   "metadata": {},
   "source": [
    "# 29 - Escreva um programa que leia a velocidade de um carro. Se ele ultrapassar 80Km/h, mostre uma mensagem dizendo que ele foi multado. A multa vai ser custar RS7,00 por cada Km caima do limite. "
   ]
  },
  {
   "cell_type": "code",
   "execution_count": 8,
   "id": "daeb8214",
   "metadata": {},
   "outputs": [
    {
     "name": "stdout",
     "output_type": "stream",
     "text": [
      "Qual é a sua velocidade?110\n",
      "Passou do limite de velocidade da via, você terá que pagar uma multa no valor de R$210.00\n"
     ]
    }
   ],
   "source": [
    "vel = float(input('Qual é a sua velocidade?'))\n",
    "if vel > 80:\n",
    "    multa = (vel-80)*7\n",
    "    print('Passou do limite de velocidade da via, você terá que pagar uma multa no valor de R${:.2f}'.format(multa))\n",
    "else:\n",
    "    print('Velocidade permitida')"
   ]
  },
  {
   "cell_type": "markdown",
   "id": "7e57ae4f",
   "metadata": {},
   "source": [
    "# 30 - Crie um  programa que leia um número inteiro qualquer e mostre na tela se ele é par ou ímpar."
   ]
  },
  {
   "cell_type": "code",
   "execution_count": 9,
   "id": "9ff95671",
   "metadata": {},
   "outputs": [
    {
     "name": "stdout",
     "output_type": "stream",
     "text": [
      "Digite um número:12\n",
      "O número 12 é PAR\n"
     ]
    }
   ],
   "source": [
    "num = int(input('Digite um número:'))\n",
    "calc = num%2\n",
    "if calc == 0:\n",
    "    print('O número {} é PAR'.format(num))\n",
    "else:\n",
    "    print('O número {} é ÍMPAR'.format(num))"
   ]
  },
  {
   "cell_type": "markdown",
   "id": "c42570ab",
   "metadata": {},
   "source": [
    "# 31 - Desenvolva um programa que pergunte a distância de uma viagem em Km. Calcule o preço da passagem, cobrando RS0,50 por Km para viagens de até 200Km e R$0,45 para viagens mais longas."
   ]
  },
  {
   "cell_type": "code",
   "execution_count": 10,
   "id": "9980f472",
   "metadata": {},
   "outputs": [
    {
     "name": "stdout",
     "output_type": "stream",
     "text": [
      "Qual a distância em KM da sua viagem?180\n",
      "O valor da passagem custará R$90.00\n"
     ]
    }
   ],
   "source": [
    "km = float(input('Qual a distância em KM da sua viagem?'))\n",
    "if km<=200:\n",
    "    km_menor = km*0.50\n",
    "    print('O valor da passagem custará R${:.2f}'.format(km_menor))\n",
    "else:\n",
    "    km_maior = km*0.45\n",
    "    print('O valor da passagaem custará R${:.2f}'.format(km_maior))\n",
    "\n",
    "#preco = km * 0.50 if km <= 200 else km * 0.45 "
   ]
  },
  {
   "cell_type": "markdown",
   "id": "ab58e6ab",
   "metadata": {},
   "source": [
    "# 32 - Faça um programa que leia um ano qualquer e mostre se ele é bissexto. "
   ]
  },
  {
   "cell_type": "code",
   "execution_count": 11,
   "id": "bed75f32",
   "metadata": {},
   "outputs": [
    {
     "name": "stdout",
     "output_type": "stream",
     "text": [
      "Digite o ano e descubra se ele é ou não bisssexto...1988\n",
      "O ano 1988 é bissexto!\n"
     ]
    }
   ],
   "source": [
    "ano = int(input('Digite o ano e descubra se ele é ou não bisssexto...'))\n",
    "if ano % 4 == 0 and ano % 100 != 0 or ano % 400 == 0:\n",
    "    print('O ano {} é bissexto!'.format(ano))\n",
    "else:\n",
    "    print('Esse ano não é bissexto :(')"
   ]
  },
  {
   "cell_type": "markdown",
   "id": "4ddf82ca",
   "metadata": {},
   "source": [
    "# 33 - Faça um programa que leia três números e mostre qual é o maior e qual é o menor."
   ]
  },
  {
   "cell_type": "code",
   "execution_count": null,
   "id": "7ba73619",
   "metadata": {},
   "outputs": [],
   "source": [
    "a = int(input('Digite o primeiro número:'))\n",
    "b = int(input('Digite o segundo número:'))\n",
    "c = int(input('Digite o terceiro número:'))\n",
    "#Verificando o menor \n",
    "menor = a \n",
    "if b<a and b>c:\n",
    "    menor = b\n",
    "if c<a and c<b:\n",
    "    menor = c\n",
    "#Verificando o maior \n",
    "maior = a \n",
    "if b>a and b>c:\n",
    "    maior = b \n",
    "if c>a and c>b:\n",
    "    maior = c\n",
    "print('O menor valor foi {}'.format(menor))\n",
    "print('O maior valor foi {}'.format(maior))"
   ]
  },
  {
   "cell_type": "markdown",
   "id": "4b5672e3",
   "metadata": {},
   "source": [
    "# 34 - Escreva um progama que pergunte o salário de um funcionário e calcule o valor do seu aumento. Para salários superiores a RS1.250,00, calcule um aumento de 10%.Para os inferiores ou iguais, o aumento é de 15%. "
   ]
  },
  {
   "cell_type": "code",
   "execution_count": null,
   "id": "b4a66811",
   "metadata": {},
   "outputs": [],
   "source": [
    "sal = float(input('Qual é o valor do seu salário?'))\n",
    "if sal > 1250:\n",
    "    aum10 = ((sal*0.10)+sal) \n",
    "    print('O seu salário aumentou 10%, sendo assim, você passará a receber R${}'.format(aum10))\n",
    "else:\n",
    "    aum15 = ((sal*0.15)+sal)\n",
    "    print('O seu salário aumentou 15%, sendo assim, você parassará a receber R${}'.format(aum15))"
   ]
  },
  {
   "cell_type": "markdown",
   "id": "b4a37dc3",
   "metadata": {},
   "source": [
    "# 35 - Desenvolva um programa que leia o comprimento de três retas e diga ao usuário se elas podem ou não formar um triângulo"
   ]
  },
  {
   "cell_type": "code",
   "execution_count": null,
   "id": "cd36aa62",
   "metadata": {},
   "outputs": [],
   "source": [
    "a = float(input('Valor da primeira reta:'))\n",
    "b = float(input('Valor da segunda reta:'))\n",
    "c = float(input('Valor da terceira reta:'))\n",
    "if ((b-c)<a<(b+c)) and ((a-c)<b<(a+c)) and ((a-b)<c<(a+b)):\n",
    "    print('Correto! Os comprimentos formam um triângulo')\n",
    "else:\n",
    "    print('Errado! OS comprimentos não formam um triângulo')"
   ]
  }
 ],
 "metadata": {
  "kernelspec": {
   "display_name": "Python 3",
   "language": "python",
   "name": "python3"
  },
  "language_info": {
   "codemirror_mode": {
    "name": "ipython",
    "version": 3
   },
   "file_extension": ".py",
   "mimetype": "text/x-python",
   "name": "python",
   "nbconvert_exporter": "python",
   "pygments_lexer": "ipython3",
   "version": "3.8.8"
  },
  "toc": {
   "base_numbering": 1,
   "nav_menu": {},
   "number_sections": true,
   "sideBar": true,
   "skip_h1_title": false,
   "title_cell": "Table of Contents",
   "title_sidebar": "Contents",
   "toc_cell": false,
   "toc_position": {},
   "toc_section_display": true,
   "toc_window_display": true
  },
  "varInspector": {
   "cols": {
    "lenName": 16,
    "lenType": 16,
    "lenVar": 40
   },
   "kernels_config": {
    "python": {
     "delete_cmd_postfix": "",
     "delete_cmd_prefix": "del ",
     "library": "var_list.py",
     "varRefreshCmd": "print(var_dic_list())"
    },
    "r": {
     "delete_cmd_postfix": ") ",
     "delete_cmd_prefix": "rm(",
     "library": "var_list.r",
     "varRefreshCmd": "cat(var_dic_list()) "
    }
   },
   "types_to_exclude": [
    "module",
    "function",
    "builtin_function_or_method",
    "instance",
    "_Feature"
   ],
   "window_display": false
  }
 },
 "nbformat": 4,
 "nbformat_minor": 5
}
