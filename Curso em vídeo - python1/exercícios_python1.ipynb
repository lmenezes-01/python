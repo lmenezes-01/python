{
 "cells": [
  {
   "cell_type": "markdown",
   "id": "f7dc2b4b",
   "metadata": {},
   "source": [
    "# 1 - Crie um programa que escreva \"Olá,mundo!\" na tela"
   ]
  },
  {
   "cell_type": "code",
   "execution_count": 2,
   "id": "7151f321",
   "metadata": {},
   "outputs": [
    {
     "name": "stdout",
     "output_type": "stream",
     "text": [
      "Olá,mundo!\n"
     ]
    }
   ],
   "source": [
    "print('Olá,mundo!')"
   ]
  },
  {
   "cell_type": "code",
   "execution_count": 3,
   "id": "7aaf1cf9",
   "metadata": {},
   "outputs": [
    {
     "name": "stdout",
     "output_type": "stream",
     "text": [
      "Olá, mundo!\n"
     ]
    }
   ],
   "source": [
    "msg = 'Olá, mundo!'\n",
    "print(msg)"
   ]
  },
  {
   "cell_type": "markdown",
   "id": "15369a55",
   "metadata": {},
   "source": [
    "# 2 - Faça um programa que leia o nome de uma pessoa e mostre sua mensagem de boas-vindas"
   ]
  },
  {
   "cell_type": "code",
   "execution_count": 7,
   "id": "9354e7f1",
   "metadata": {},
   "outputs": [
    {
     "name": "stdout",
     "output_type": "stream",
     "text": [
      "Qual o seu nome?Lucas\n",
      "Olá Lucas ,seja bem vindo(a)!\n"
     ]
    }
   ],
   "source": [
    "nome = input('Qual o seu nome?')\n",
    "print('Olá',nome,',seja bem vindo(a)!')"
   ]
  },
  {
   "cell_type": "code",
   "execution_count": 8,
   "id": "1e3379e8",
   "metadata": {},
   "outputs": [
    {
     "name": "stdout",
     "output_type": "stream",
     "text": [
      "Digite seu nome: Lucas\n",
      "É um prazer te conhecer Lucas!\n"
     ]
    }
   ],
   "source": [
    "nome = input('Digite seu nome: ')\n",
    "print('É um prazer te conhecer {}!'.format(nome))"
   ]
  },
  {
   "cell_type": "markdown",
   "id": "aecbcacf",
   "metadata": {},
   "source": [
    "# 3 - Crie um programa e mostre a soma entre eles"
   ]
  },
  {
   "cell_type": "code",
   "execution_count": 9,
   "id": "993b8fa4",
   "metadata": {},
   "outputs": [
    {
     "name": "stdout",
     "output_type": "stream",
     "text": [
      "Digite um número:10\n",
      "Digite mais um número:2\n",
      "A soma entre 10 e 2, resultou no valor 12\n"
     ]
    }
   ],
   "source": [
    "n1 = int(input('Digite um número:'))\n",
    "n2 = int(input('Digite mais um número:'))\n",
    "s = n1+n2 \n",
    "print('A soma entre {} e {}, resultou no valor {}'.format(n1,n2,s))"
   ]
  },
  {
   "cell_type": "markdown",
   "id": "8198a1c7",
   "metadata": {},
   "source": [
    "# 4 - Faça um programa que leia algo pelo teclado e mostre na tela o seu tipo primitivo e todas as informações possíveis sobre ela "
   ]
  },
  {
   "cell_type": "code",
   "execution_count": 10,
   "id": "7ef249f1",
   "metadata": {},
   "outputs": [
    {
     "name": "stdout",
     "output_type": "stream",
     "text": [
      "Digite algo:olá\n",
      "O tipo primitivo desse valor é <class 'str'>\n",
      "Só tem espaço? False\n",
      "É um número? False\n",
      "É alfabético? True\n",
      "É alfanúmerico? True\n",
      "Está em maiúsculo? False\n",
      "Está em minúsculo? True\n",
      "Está capitalizada? False\n"
     ]
    }
   ],
   "source": [
    "x = input('Digite algo:')\n",
    "print('O tipo primitivo desse valor é {}'.format(type(x)))\n",
    "print('Só tem espaço? {}'.format(x.isspace()))\n",
    "print('É um número? {}'.format(x.isnumeric()))\n",
    "print('É alfabético? {}'.format(x.isalpha()))\n",
    "print('É alfanúmerico? {}'.format(x.isalnum()))\n",
    "print('Está em maiúsculo? {}'.format(x.isupper()))\n",
    "print('Está em minúsculo? {}'.format(x.islower()))\n",
    "print('Está capitalizada? {}'.format(x.istitle()))"
   ]
  }
 ],
 "metadata": {
  "kernelspec": {
   "display_name": "Python 3",
   "language": "python",
   "name": "python3"
  },
  "language_info": {
   "codemirror_mode": {
    "name": "ipython",
    "version": 3
   },
   "file_extension": ".py",
   "mimetype": "text/x-python",
   "name": "python",
   "nbconvert_exporter": "python",
   "pygments_lexer": "ipython3",
   "version": "3.8.8"
  },
  "toc": {
   "base_numbering": 1,
   "nav_menu": {},
   "number_sections": true,
   "sideBar": true,
   "skip_h1_title": false,
   "title_cell": "Table of Contents",
   "title_sidebar": "Contents",
   "toc_cell": false,
   "toc_position": {},
   "toc_section_display": true,
   "toc_window_display": true
  },
  "varInspector": {
   "cols": {
    "lenName": 16,
    "lenType": 16,
    "lenVar": 40
   },
   "kernels_config": {
    "python": {
     "delete_cmd_postfix": "",
     "delete_cmd_prefix": "del ",
     "library": "var_list.py",
     "varRefreshCmd": "print(var_dic_list())"
    },
    "r": {
     "delete_cmd_postfix": ") ",
     "delete_cmd_prefix": "rm(",
     "library": "var_list.r",
     "varRefreshCmd": "cat(var_dic_list()) "
    }
   },
   "types_to_exclude": [
    "module",
    "function",
    "builtin_function_or_method",
    "instance",
    "_Feature"
   ],
   "window_display": false
  }
 },
 "nbformat": 4,
 "nbformat_minor": 5
}
