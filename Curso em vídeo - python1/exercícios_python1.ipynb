{
 "cells": [
  {
   "cell_type": "markdown",
   "id": "879074d3",
   "metadata": {},
   "source": [
    "# 1 - Crie um programa que escreva \"Olá,mundo!\" na tela"
   ]
  },
  {
   "cell_type": "code",
   "execution_count": 2,
   "id": "7d5be173",
   "metadata": {},
   "outputs": [
    {
     "name": "stdout",
     "output_type": "stream",
     "text": [
      "Olá,mundo!\n"
     ]
    }
   ],
   "source": [
    "print('Olá,mundo!')"
   ]
  },
  {
   "cell_type": "code",
   "execution_count": 3,
   "id": "9e755a4a",
   "metadata": {},
   "outputs": [
    {
     "name": "stdout",
     "output_type": "stream",
     "text": [
      "Olá, mundo!\n"
     ]
    }
   ],
   "source": [
    "msg = 'Olá, mundo!'\n",
    "print(msg)"
   ]
  },
  {
   "cell_type": "markdown",
   "id": "3a4c9892",
   "metadata": {},
   "source": [
    "# 2 - Faça um programa que leia o nome de uma pessoa e mostre sua mensagem de boas-vindas"
   ]
  },
  {
   "cell_type": "code",
   "execution_count": 7,
   "id": "4982dccc",
   "metadata": {},
   "outputs": [
    {
     "name": "stdout",
     "output_type": "stream",
     "text": [
      "Qual o seu nome?Lucas\n",
      "Olá Lucas ,seja bem vindo(a)!\n"
     ]
    }
   ],
   "source": [
    "nome = input('Qual o seu nome?')\n",
    "print('Olá',nome,',seja bem vindo(a)!')"
   ]
  },
  {
   "cell_type": "code",
   "execution_count": 8,
   "id": "020872f4",
   "metadata": {},
   "outputs": [
    {
     "name": "stdout",
     "output_type": "stream",
     "text": [
      "Digite seu nome: Lucas\n",
      "É um prazer te conhecer Lucas!\n"
     ]
    }
   ],
   "source": [
    "nome = input('Digite seu nome: ')\n",
    "print('É um prazer te conhecer {}!'.format(nome))"
   ]
  }
 ],
 "metadata": {
  "kernelspec": {
   "display_name": "Python 3",
   "language": "python",
   "name": "python3"
  },
  "language_info": {
   "codemirror_mode": {
    "name": "ipython",
    "version": 3
   },
   "file_extension": ".py",
   "mimetype": "text/x-python",
   "name": "python",
   "nbconvert_exporter": "python",
   "pygments_lexer": "ipython3",
   "version": "3.8.8"
  },
  "toc": {
   "base_numbering": 1,
   "nav_menu": {},
   "number_sections": true,
   "sideBar": true,
   "skip_h1_title": false,
   "title_cell": "Table of Contents",
   "title_sidebar": "Contents",
   "toc_cell": false,
   "toc_position": {},
   "toc_section_display": true,
   "toc_window_display": true
  },
  "varInspector": {
   "cols": {
    "lenName": 16,
    "lenType": 16,
    "lenVar": 40
   },
   "kernels_config": {
    "python": {
     "delete_cmd_postfix": "",
     "delete_cmd_prefix": "del ",
     "library": "var_list.py",
     "varRefreshCmd": "print(var_dic_list())"
    },
    "r": {
     "delete_cmd_postfix": ") ",
     "delete_cmd_prefix": "rm(",
     "library": "var_list.r",
     "varRefreshCmd": "cat(var_dic_list()) "
    }
   },
   "types_to_exclude": [
    "module",
    "function",
    "builtin_function_or_method",
    "instance",
    "_Feature"
   ],
   "window_display": false
  }
 },
 "nbformat": 4,
 "nbformat_minor": 5
}
