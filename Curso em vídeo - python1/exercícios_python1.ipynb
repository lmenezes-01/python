{
 "cells": [
  {
   "cell_type": "markdown",
   "id": "f7dc2b4b",
   "metadata": {},
   "source": [
    "# 1 - Crie um programa que escreva \"Olá,mundo!\" na tela"
   ]
  },
  {
   "cell_type": "code",
   "execution_count": 2,
   "id": "7151f321",
   "metadata": {},
   "outputs": [
    {
     "name": "stdout",
     "output_type": "stream",
     "text": [
      "Olá,mundo!\n"
     ]
    }
   ],
   "source": [
    "print('Olá,mundo!')"
   ]
  },
  {
   "cell_type": "code",
   "execution_count": 3,
   "id": "7aaf1cf9",
   "metadata": {},
   "outputs": [
    {
     "name": "stdout",
     "output_type": "stream",
     "text": [
      "Olá, mundo!\n"
     ]
    }
   ],
   "source": [
    "msg = 'Olá, mundo!'\n",
    "print(msg)"
   ]
  },
  {
   "cell_type": "markdown",
   "id": "15369a55",
   "metadata": {},
   "source": [
    "# 2 - Faça um programa que leia o nome de uma pessoa e mostre sua mensagem de boas-vindas"
   ]
  },
  {
   "cell_type": "code",
   "execution_count": 7,
   "id": "9354e7f1",
   "metadata": {},
   "outputs": [
    {
     "name": "stdout",
     "output_type": "stream",
     "text": [
      "Qual o seu nome?Lucas\n",
      "Olá Lucas ,seja bem vindo(a)!\n"
     ]
    }
   ],
   "source": [
    "nome = input('Qual o seu nome?')\n",
    "print('Olá',nome,',seja bem vindo(a)!')"
   ]
  },
  {
   "cell_type": "code",
   "execution_count": 8,
   "id": "1e3379e8",
   "metadata": {},
   "outputs": [
    {
     "name": "stdout",
     "output_type": "stream",
     "text": [
      "Digite seu nome: Lucas\n",
      "É um prazer te conhecer Lucas!\n"
     ]
    }
   ],
   "source": [
    "nome = input('Digite seu nome: ')\n",
    "print('É um prazer te conhecer {}!'.format(nome))"
   ]
  },
  {
   "cell_type": "markdown",
   "id": "aecbcacf",
   "metadata": {},
   "source": [
    "# 3 - Crie um programa e mostre a soma entre eles"
   ]
  },
  {
   "cell_type": "code",
   "execution_count": 9,
   "id": "993b8fa4",
   "metadata": {},
   "outputs": [
    {
     "name": "stdout",
     "output_type": "stream",
     "text": [
      "Digite um número:10\n",
      "Digite mais um número:2\n",
      "A soma entre 10 e 2, resultou no valor 12\n"
     ]
    }
   ],
   "source": [
    "n1 = int(input('Digite um número:'))\n",
    "n2 = int(input('Digite mais um número:'))\n",
    "s = n1+n2 \n",
    "print('A soma entre {} e {}, resultou no valor {}'.format(n1,n2,s))"
   ]
  },
  {
   "cell_type": "markdown",
   "id": "8198a1c7",
   "metadata": {},
   "source": [
    "# 4 - Faça um programa que leia algo pelo teclado e mostre na tela o seu tipo primitivo e todas as informações possíveis sobre ela "
   ]
  },
  {
   "cell_type": "code",
   "execution_count": 10,
   "id": "7ef249f1",
   "metadata": {},
   "outputs": [
    {
     "name": "stdout",
     "output_type": "stream",
     "text": [
      "Digite algo:olá\n",
      "O tipo primitivo desse valor é <class 'str'>\n",
      "Só tem espaço? False\n",
      "É um número? False\n",
      "É alfabético? True\n",
      "É alfanúmerico? True\n",
      "Está em maiúsculo? False\n",
      "Está em minúsculo? True\n",
      "Está capitalizada? False\n"
     ]
    }
   ],
   "source": [
    "x = input('Digite algo:')\n",
    "print('O tipo primitivo desse valor é {}'.format(type(x)))\n",
    "print('Só tem espaço? {}'.format(x.isspace()))\n",
    "print('É um número? {}'.format(x.isnumeric()))\n",
    "print('É alfabético? {}'.format(x.isalpha()))\n",
    "print('É alfanúmerico? {}'.format(x.isalnum()))\n",
    "print('Está em maiúsculo? {}'.format(x.isupper()))\n",
    "print('Está em minúsculo? {}'.format(x.islower()))\n",
    "print('Está capitalizada? {}'.format(x.istitle()))"
   ]
  },
  {
   "cell_type": "markdown",
   "id": "3112de88",
   "metadata": {},
   "source": [
    "# 5 - Faça um programa que leia um número inteiro e mostra na tela o seu sucessor e seu atecessor "
   ]
  },
  {
   "cell_type": "code",
   "execution_count": 1,
   "id": "d84db321",
   "metadata": {},
   "outputs": [
    {
     "name": "stdout",
     "output_type": "stream",
     "text": [
      "Digite um número:10\n",
      "O número digitado foi 10, seu sucessor é 11 e o antecessor é 9\n"
     ]
    }
   ],
   "source": [
    "x = int(input('Digite um número:'))\n",
    "print('O número digitado foi {}, seu sucessor é {} e o antecessor é {}'.format(x,x+1,x-1))"
   ]
  },
  {
   "cell_type": "markdown",
   "id": "31ea5807",
   "metadata": {},
   "source": [
    "# 6 - Crie um algoritmo que leia um número e mostre seu dobro,triplo e raiz quadrada "
   ]
  },
  {
   "cell_type": "code",
   "execution_count": 6,
   "id": "5f537402",
   "metadata": {},
   "outputs": [
    {
     "name": "stdout",
     "output_type": "stream",
     "text": [
      "Digite um número:10\n",
      "O dobro desse número é 20, o triplo desse número é 30 e a sua raiz quadrada é 3.16\n"
     ]
    }
   ],
   "source": [
    "x = int(input('Digite um número:'))\n",
    "print('O dobro desse número é {}, o triplo desse número é {} e a sua raiz quadrada é {:.2f}'.format(x*2,x*3,x**(1/2)))"
   ]
  },
  {
   "cell_type": "markdown",
   "id": "06dd66fd",
   "metadata": {},
   "source": [
    "# 7 - Desenvolva um programa que leia as duas notas de um aluno, calcule e mostre sua média"
   ]
  },
  {
   "cell_type": "code",
   "execution_count": 12,
   "id": "95278482",
   "metadata": {},
   "outputs": [
    {
     "name": "stdout",
     "output_type": "stream",
     "text": [
      "Primeira nota:10\n",
      "Segunda nota:2\n",
      "A sua média é 6.0\n"
     ]
    }
   ],
   "source": [
    "x1 = float(input('Primeira nota:'))\n",
    "x2 = float(input('Segunda nota:'))\n",
    "print('A sua média é {}'.format((x1+x2)/2))"
   ]
  },
  {
   "cell_type": "markdown",
   "id": "4cfda10e",
   "metadata": {},
   "source": [
    "# 8 - Escreva um programa que leia um valor em metros e o exiba convertido em centímetros e milímetros "
   ]
  },
  {
   "cell_type": "code",
   "execution_count": 13,
   "id": "a2790e46",
   "metadata": {},
   "outputs": [
    {
     "name": "stdout",
     "output_type": "stream",
     "text": [
      "Digite um valor em metros:2.5\n",
      "O valor 2.5 em centímetros vale 250cm e em milímetros vale 2500mm\n"
     ]
    }
   ],
   "source": [
    "x = float(input('Digite um valor em metros:'))\n",
    "print('O valor {} em centímetros vale {:.0f}cm e em milímetros vale {:.0f}mm'.format(x,x*100,x*1000))"
   ]
  },
  {
   "cell_type": "markdown",
   "id": "83fccc65",
   "metadata": {},
   "source": [
    "# 9 - Faça um programa que leia um número inteiro qualquer e mostre na tela sua tabuada "
   ]
  },
  {
   "cell_type": "code",
   "execution_count": 4,
   "id": "97bea26a",
   "metadata": {},
   "outputs": [
    {
     "name": "stdout",
     "output_type": "stream",
     "text": [
      "Digite um número:2\n",
      "Sua tabuada é: 2 - 4 - 6 - 8 - 10 - 12 - 14 - 16 - 18 -20\n"
     ]
    }
   ],
   "source": [
    "x = int(input('Digite um número:'))\n",
    "print('Sua tabuada é: {} - {} - {} - {} - {} - {} - {} - {} - {} -{}'.format(x*1,x*2,x*3,x*4,x*5,x*6,x*7,x*8,x*9,x*10))"
   ]
  },
  {
   "cell_type": "markdown",
   "id": "0d33cc2d",
   "metadata": {},
   "source": [
    "\n",
    "# 10 - Crie um programa que leia quanto dinheiro uma pessoa tem na carteira e mostre quantos Dólares ela pode comprar"
   ]
  },
  {
   "cell_type": "code",
   "execution_count": 5,
   "id": "3ce0a67c",
   "metadata": {},
   "outputs": [
    {
     "name": "stdout",
     "output_type": "stream",
     "text": [
      "Digite quantos reais você gostaria de converter para Dólares:150\n",
      "O valor em Doláres será 27.78 US$\n"
     ]
    }
   ],
   "source": [
    "#Considerando 1US$ = 5.40 \n",
    "x = float(input('Digite quantos reais você gostaria de converter para Dólares:'))\n",
    "print('O valor em Doláres será {:.2f} US$'.format(x/5.40))"
   ]
  },
  {
   "cell_type": "markdown",
   "id": "11fff8a9",
   "metadata": {},
   "source": [
    "# 11 - Faça um programa que leie a largura e a altura de uma parede em metros, calcule a sua área e a quantidade de tinta necessáia para pinta-lá, sabendo que cada litro da tinta, pinta uma área de 2m**2 "
   ]
  },
  {
   "cell_type": "code",
   "execution_count": 14,
   "id": "92e2a665",
   "metadata": {},
   "outputs": [
    {
     "name": "stdout",
     "output_type": "stream",
     "text": [
      "Digite quantos metros de largura tem sua parede:3\n",
      "Digite quantos metros de altura tem sua parede:2\n",
      "A área da sua parede é 6.0\n",
      "Para pinta-lá precisará de 3.0 litros de tinta\n"
     ]
    }
   ],
   "source": [
    "l = float(input('Digite quantos metros de largura tem sua parede:')) \n",
    "a = float(input('Digite quantos metros de altura tem sua parede:'))\n",
    "print('A área da sua parede é {}\\nPara pinta-lá precisará de {} litros de tinta'.format(l*a,(l*a)/2))"
   ]
  },
  {
   "cell_type": "markdown",
   "id": "efcc29a9",
   "metadata": {},
   "source": [
    "\n",
    "# 12 - Faça um algoritmo que leia o preço de um produto e mostre seu novo preço, com 5% de desconto "
   ]
  },
  {
   "cell_type": "code",
   "execution_count": 8,
   "id": "55aef20d",
   "metadata": {},
   "outputs": [
    {
     "name": "stdout",
     "output_type": "stream",
     "text": [
      "Digite o preço do produto:30\n",
      "Parabéns, você recebeu 5% de desconto, então o valor passou a ser 28.5 R$\n"
     ]
    }
   ],
   "source": [
    "x = float(input('Digite o preço do produto:'))\n",
    "print('Parabéns, você recebeu 5% de desconto, então o valor passou a ser {} R$'.format(((x*0.05)-x)*-1))"
   ]
  },
  {
   "cell_type": "markdown",
   "id": "eadce9e3",
   "metadata": {},
   "source": [
    "# 13 - Faça um algoritmo que leia o salário de um funcionário e mostre seu novo salário, com 15% de aumento"
   ]
  },
  {
   "cell_type": "code",
   "execution_count": 11,
   "id": "17288579",
   "metadata": {},
   "outputs": [
    {
     "name": "stdout",
     "output_type": "stream",
     "text": [
      "Salário anterior:2150\n",
      "O seu sálario passou a ser 2472.5 R$\n"
     ]
    }
   ],
   "source": [
    "x = float(input('Salário anterior:'))\n",
    "print('O seu sálario passou a ser {} R$'.format((x*0.15)+x))"
   ]
  },
  {
   "cell_type": "markdown",
   "id": "9f8759c3",
   "metadata": {},
   "source": [
    "# 14 - Crie um programa que passe a temperatura de °C para °F "
   ]
  },
  {
   "cell_type": "code",
   "execution_count": 15,
   "id": "9ee0fe50",
   "metadata": {},
   "outputs": [
    {
     "name": "stdout",
     "output_type": "stream",
     "text": [
      "Informe a temperatura em °C:45\n",
      "A temperatura 45.0 em °C passou a ser 113.0°F, após conversão!\n"
     ]
    }
   ],
   "source": [
    "c = float(input('Informe a temperatura em °C:'))\n",
    "print('A temperatura {} em °C passou a ser {}°F, após conversão!'.format(c,((9*c)/5)+32))"
   ]
  },
  {
   "cell_type": "markdown",
   "id": "c18f206f",
   "metadata": {},
   "source": [
    "# 15 - Escreva um programa que pergunte a quantidade de Km percorridos por um carro alugado e a quantidade de dias pelos quais ele foi alugado.Calcule o preço a pagar, sabendo que o carro custa RS60 por dia e RS0,15 por Km rodado  "
   ]
  },
  {
   "cell_type": "code",
   "execution_count": 20,
   "id": "d0e1fa6d",
   "metadata": {},
   "outputs": [
    {
     "name": "stdout",
     "output_type": "stream",
     "text": [
      "Quantos dias o carro foi alugado?3\n",
      "Quantos Kms o carro rodou?350\n",
      "O preço a pagar no aluguel é 232.5R$\n"
     ]
    }
   ],
   "source": [
    "dias = int(input('Quantos dias o carro foi alugado?'))\n",
    "km = float(input('Quantos Kms o carro rodou?'))\n",
    "pago = (dias*60) + (km*0.15) \n",
    "print('O preço a pagar no aluguel é {}R$'.format(pago))"
   ]
  },
  {
   "cell_type": "markdown",
   "id": "6f5857cb",
   "metadata": {},
   "source": [
    "# 16 - Crie um programa que leia um número real qualquer pelo teclado e mostre na tela sua porção inteira. ex: Digite um número 6.127. O número 6.127 tem a parte inteira 6.  "
   ]
  },
  {
   "cell_type": "code",
   "execution_count": 1,
   "id": "529ffe5d",
   "metadata": {},
   "outputs": [
    {
     "name": "stdout",
     "output_type": "stream",
     "text": [
      "Digite um valor qualquer:6.127\n",
      "O número 6.127 tem a parte inteira 6\n"
     ]
    }
   ],
   "source": [
    "from math import trunc\n",
    "\n",
    "num = float(input('Digite um valor qualquer:'))\n",
    "inteiro = trunc(num)\n",
    "print('O número {} tem a parte inteira {}'.format(num,inteiro))"
   ]
  },
  {
   "cell_type": "markdown",
   "id": "b8e4df91",
   "metadata": {},
   "source": [
    "# 17 - Faça um programa que leia o comprimento de cateto oposto e do cateto adjacente de um triângulo retângulo, calcule e mostre o comprimento da hipotenusa. "
   ]
  },
  {
   "cell_type": "code",
   "execution_count": 8,
   "id": "81cf4416",
   "metadata": {},
   "outputs": [
    {
     "name": "stdout",
     "output_type": "stream",
     "text": [
      "Digite o valor do cateto oposto:8\n",
      "Digite o valor do cateto adjacente:3\n",
      "O valor do cateto oposto é 8.0 e o valor do cateto adjacente é 3.0, resultando na hipotenusa 8.54\n"
     ]
    }
   ],
   "source": [
    "from math import sqrt,hypot\n",
    "\n",
    "catop = float(input('Digite o valor do cateto oposto:'))\n",
    "catad = float(input('Digite o valor do cateto adjacente:'))\n",
    "hip = hypot(catop,catad)\n",
    "print('O valor do cateto oposto é {} e o valor do cateto adjacente é {}, resultando na hipotenusa {:.2f}'.format(catop,catad,hip))"
   ]
  },
  {
   "cell_type": "markdown",
   "id": "1d517d44",
   "metadata": {},
   "source": [
    "# 18 - Faça um programa que leia um ângulo qualquer e mostre na tela o valor do seno, cosseno e tangente desse ângulo. "
   ]
  },
  {
   "cell_type": "code",
   "execution_count": 10,
   "id": "dca1f5e6",
   "metadata": {},
   "outputs": [
    {
     "name": "stdout",
     "output_type": "stream",
     "text": [
      "Digite um ângulo qualquer:30\n",
      "O ângulo 30.0 representa 0.50 seno, 0.87 cosseno e 0.58 tangente.\n"
     ]
    }
   ],
   "source": [
    "from math import cos,sin,tan,radians\n",
    "\n",
    "ang = float(input('Digite um ângulo qualquer:'))\n",
    "sen = sin(radians(ang))\n",
    "cos = cos(radians(ang))\n",
    "tan = tan(radians(ang))\n",
    "print('O ângulo {} representa {:.2f} seno, {:.2f} cosseno e {:.2f} tangente.'.format(ang,sen,cos,tan))\n"
   ]
  },
  {
   "cell_type": "markdown",
   "id": "baf3bfc8",
   "metadata": {},
   "source": [
    "# 19 - Um professor quer sotear um dos seus quatro alunos para apagar o quadro. Faça um programa que ajude ele, lendo o nome deles e escrevendo o nome escolhido.  "
   ]
  },
  {
   "cell_type": "code",
   "execution_count": 4,
   "id": "03cc4cf1",
   "metadata": {},
   "outputs": [
    {
     "name": "stdout",
     "output_type": "stream",
     "text": [
      "Aluno 1:Lucas\n",
      "Aluno 2:Ana\n",
      "Aluno 3:Paulo\n",
      "Aluno 4:Maria\n",
      "Dos alunos Lucas, Ana, Paulo e Maria. O aluno(a) Paulo foi escolhido\n"
     ]
    }
   ],
   "source": [
    "from random import choice \n",
    "\n",
    "a = str(input('Aluno 1:'))\n",
    "b = str(input('Aluno 2:'))\n",
    "c = str(input('Aluno 3:'))\n",
    "d = str(input('Aluno 4:'))\n",
    "sort = choice([a, b, c, d])\n",
    "print('Dos alunos {}, {}, {} e {}. O aluno(a) {} foi escolhido'.format(a,b,c,d,sort))"
   ]
  },
  {
   "cell_type": "markdown",
   "id": "eefead80",
   "metadata": {},
   "source": [
    "# 20 - O mesmo professor do desafio anterior quer sortear a ordem de apresentação de trabalhos dos alunos. Faça um programa que leia o nome dos quatros alunos e mostre a ordem sorteada."
   ]
  },
  {
   "cell_type": "code",
   "execution_count": 5,
   "id": "259d881f",
   "metadata": {},
   "outputs": [
    {
     "name": "stdout",
     "output_type": "stream",
     "text": [
      "Aluno 1:Lucas\n",
      "Aluno 2:Maria\n",
      "Aluno 3:Paulo\n",
      "Aluno 4:Ana\n",
      "Dos alunos Lucas, Maria, Paulo e Ana. A ordem de apresentação será:\n",
      "['Lucas', 'Paulo', 'Ana', 'Maria']\n"
     ]
    }
   ],
   "source": [
    "from random import sample\n",
    "\n",
    "a = str(input('Aluno 1:'))\n",
    "b = str(input('Aluno 2:'))\n",
    "c = str(input('Aluno 3:'))\n",
    "d = str(input('Aluno 4:'))\n",
    "sort = sample([a,b,c,d],k=4)\n",
    "print('Dos alunos {}, {}, {} e {}. A ordem de apresentação será:\\n{}'.format(a,b,c,d,sort))"
   ]
  },
  {
   "cell_type": "markdown",
   "id": "2210708f",
   "metadata": {},
   "source": [
    "# 21 - Faça um programa em python que abra e reproduza o aúdio de um arquivo mp3. "
   ]
  },
  {
   "cell_type": "code",
   "execution_count": 18,
   "id": "23cc1066",
   "metadata": {},
   "outputs": [
    {
     "data": {
      "text/plain": [
       "<Event(4352-AudioDeviceAdded {'which': 0, 'iscapture': 0})>"
      ]
     },
     "execution_count": 18,
     "metadata": {},
     "output_type": "execute_result"
    }
   ],
   "source": [
    "#!pip install pygame - Caso precise baixar essa biblioteca externa \n",
    "import pygame \n",
    "pygame.init()\n",
    "pygame.mixer.music.load('thatsMyWay.mp3')\n",
    "pygame.mixer.music.play()\n",
    "#pygame.mixer.music.stop() #stop\n",
    "pygame.event.wait()"
   ]
  }
 ],
 "metadata": {
  "kernelspec": {
   "display_name": "Python 3",
   "language": "python",
   "name": "python3"
  },
  "language_info": {
   "codemirror_mode": {
    "name": "ipython",
    "version": 3
   },
   "file_extension": ".py",
   "mimetype": "text/x-python",
   "name": "python",
   "nbconvert_exporter": "python",
   "pygments_lexer": "ipython3",
   "version": "3.8.8"
  },
  "toc": {
   "base_numbering": 1,
   "nav_menu": {},
   "number_sections": true,
   "sideBar": true,
   "skip_h1_title": false,
   "title_cell": "Table of Contents",
   "title_sidebar": "Contents",
   "toc_cell": false,
   "toc_position": {},
   "toc_section_display": true,
   "toc_window_display": true
  },
  "varInspector": {
   "cols": {
    "lenName": 16,
    "lenType": 16,
    "lenVar": 40
   },
   "kernels_config": {
    "python": {
     "delete_cmd_postfix": "",
     "delete_cmd_prefix": "del ",
     "library": "var_list.py",
     "varRefreshCmd": "print(var_dic_list())"
    },
    "r": {
     "delete_cmd_postfix": ") ",
     "delete_cmd_prefix": "rm(",
     "library": "var_list.r",
     "varRefreshCmd": "cat(var_dic_list()) "
    }
   },
   "types_to_exclude": [
    "module",
    "function",
    "builtin_function_or_method",
    "instance",
    "_Feature"
   ],
   "window_display": false
  }
 },
 "nbformat": 4,
 "nbformat_minor": 5
}
