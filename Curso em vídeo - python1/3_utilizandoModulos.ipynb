{
 "cells": [
  {
   "cell_type": "markdown",
   "id": "f253d126",
   "metadata": {},
   "source": [
    "# Utilizando Módulos "
   ]
  },
  {
   "cell_type": "raw",
   "id": "583da809",
   "metadata": {},
   "source": [
    "Import: Carrega bibliotecas \n",
    "From - biblioteca - import - módulo x: Essa forma puxa uma funcionalidade específica  \n",
    "\n",
    "Exp Biblioteca:\n",
    "- math(Já vem instalado)  import math \n",
    "                                ou \n",
    "                          from math import ceil/floor/trunc/pow/sqrt/factorial  (Mais de uma é apenas colocar \",\")\n",
    "                          \n",
    "Importar apenas um módul"
   ]
  },
  {
   "cell_type": "code",
   "execution_count": 1,
   "id": "ed7ea1aa",
   "metadata": {},
   "outputs": [],
   "source": [
    "# Prática "
   ]
  },
  {
   "cell_type": "code",
   "execution_count": 16,
   "id": "bf405288",
   "metadata": {},
   "outputs": [
    {
     "name": "stdout",
     "output_type": "stream",
     "text": [
      "Digite um número inteiro:29\n",
      "A raiz quadrada de 29 é igual a 5.39\n"
     ]
    }
   ],
   "source": [
    "#Importando a biblioteca por completa \n",
    "import math \n",
    "\n",
    "num = int(input('Digite um número inteiro:'))\n",
    "raiz = math.sqrt(num)\n",
    "print('A raiz quadrada de {} é igual a {:.2f}'.format(num, raiz))"
   ]
  },
  {
   "cell_type": "code",
   "execution_count": 17,
   "id": "5201c595",
   "metadata": {},
   "outputs": [
    {
     "name": "stdout",
     "output_type": "stream",
     "text": [
      "Digite um número inteiro:29\n",
      "A raiz quadrada de 29 é igual a 5.39\n"
     ]
    }
   ],
   "source": [
    "#Importando apenas uma funcionalidade da bibloteca \n",
    "from math import sqrt \n",
    "\n",
    "num = int(input('Digite um número inteiro:'))\n",
    "raiz = math.sqrt(num)\n",
    "print('A raiz quadrada de {} é igual a {:.2f}'.format(num, raiz))"
   ]
  },
  {
   "cell_type": "code",
   "execution_count": 22,
   "id": "c71d37b0",
   "metadata": {},
   "outputs": [
    {
     "name": "stdout",
     "output_type": "stream",
     "text": [
      "0.6997644301934312\n",
      "2\n"
     ]
    }
   ],
   "source": [
    "import random\n",
    "\n",
    "#número aleatório entre 0 e 1 \n",
    "num = random.random()\n",
    "print(num)\n",
    "\n",
    "#número aleatório 1 e 10 inteiro \n",
    "num = random.randint(1,10)\n",
    "print(num)"
   ]
  },
  {
   "cell_type": "markdown",
   "id": "dd4e8c23",
   "metadata": {},
   "source": [
    "## Desafios "
   ]
  },
  {
   "cell_type": "raw",
   "id": "ca002963",
   "metadata": {},
   "source": [
    "1 - Crie um programa que leia um número real qualquer pelo teclado e mostre na tela sua porção inteira \n",
    "    ex: Digite um número 6.127. O número 6.127 tem a parte inteira 6.  "
   ]
  },
  {
   "cell_type": "code",
   "execution_count": 32,
   "id": "2e733418",
   "metadata": {},
   "outputs": [
    {
     "name": "stdout",
     "output_type": "stream",
     "text": [
      "Digite um valor qualquer:6.127\n",
      "O número 6.127 tem a parte inteira 6\n"
     ]
    }
   ],
   "source": [
    "from math import trunc\n",
    "\n",
    "num = float(input('Digite um valor qualquer:'))\n",
    "inteiro = trunc(num)\n",
    "print('O número {} tem a parte inteira {}'.format(num,inteiro))\n"
   ]
  },
  {
   "cell_type": "raw",
   "id": "9246d72f",
   "metadata": {},
   "source": [
    "2 - Faça um programa que leia o comprimento de cateto oposto e do cateto adjacente de um triângulo retângulo, calcule e mostre\n",
    "    o comprimento da hipotenusa. "
   ]
  },
  {
   "cell_type": "code",
   "execution_count": 53,
   "id": "444afa85",
   "metadata": {},
   "outputs": [
    {
     "name": "stdout",
     "output_type": "stream",
     "text": [
      "Digite o valor do cateto oposto:9\n",
      "Digite o valor do cateto adjacente:12\n",
      "O valor do cateto oposto é 9.0 e o valor do cateto adjacente é 12.0, resultando na hipotenusa 15.0\n"
     ]
    }
   ],
   "source": [
    "from math import sqrt,hypot\n",
    "\n",
    "catop = float(input('Digite o valor do cateto oposto:'))\n",
    "catad = float(input('Digite o valor do cateto adjacente:'))\n",
    "hyp = hypot(catop,catad)\n",
    "print('O valor do cateto oposto é {} e o valor do cateto adjacente é {}, resultando na hipotenusa {}'.format(catop,catad,hip))"
   ]
  },
  {
   "cell_type": "raw",
   "id": "49c82471",
   "metadata": {},
   "source": [
    "3 - Faça um programa que leia um ângulo qualquer e mostre na tela o valor do seno, cosseno e tangente desse ângulo. "
   ]
  },
  {
   "cell_type": "code",
   "execution_count": 55,
   "id": "feed9c20",
   "metadata": {},
   "outputs": [
    {
     "name": "stdout",
     "output_type": "stream",
     "text": [
      "Digite um ângulo qualquer:30\n",
      "O ângulo 30.0 representa 0.50 seno, 0.87 cosseno e 0.58 tangente.\n"
     ]
    }
   ],
   "source": [
    "from math import cos,sin,tan,radians\n",
    "\n",
    "ang = float(input('Digite um ângulo qualquer:'))\n",
    "sen = sin(radians(ang))\n",
    "cos = cos(radians(ang))\n",
    "tan = tan(radians(ang))\n",
    "print('O ângulo {} representa {:.2f} seno, {:.2f} cosseno e {:.2f} tangente.'.format(ang,sen,cos,tan))\n"
   ]
  },
  {
   "cell_type": "code",
   "execution_count": null,
   "id": "9a59fea5",
   "metadata": {},
   "outputs": [],
   "source": [
    "4 - Um professor quer sotear um dos seus quatro alunos para apagar o quadro. Faça um programa que ajude ele,\n",
    "    lendo o nome deles e escrevendo o nome escolhido.  "
   ]
  },
  {
   "cell_type": "code",
   "execution_count": 46,
   "id": "a5dba711",
   "metadata": {},
   "outputs": [
    {
     "name": "stdout",
     "output_type": "stream",
     "text": [
      "Aluno 1:Ana\n",
      "Aluno 2:Maria \n",
      "Aluno 3:Fernando \n",
      "Aluno 4:João\n",
      "Dos alunos Ana, Maria , Fernando  e João. O aluno(a) Ana foi escolhido\n"
     ]
    }
   ],
   "source": [
    "from random import choice \n",
    "\n",
    "a = str(input('Aluno 1:'))\n",
    "b = str(input('Aluno 2:'))\n",
    "c = str(input('Aluno 3:'))\n",
    "d = str(input('Aluno 4:'))\n",
    "sort = choice([a, b, c, d])\n",
    "print('Dos alunos {}, {}, {} e {}. O aluno(a) {} foi escolhido'.format(a,b,c,d,sort))"
   ]
  },
  {
   "cell_type": "raw",
   "id": "ee5396a3",
   "metadata": {},
   "source": [
    "5 - O mesmo professor do desafio anterior quer sortear a ordem de apresentação de trabalhos dos alunos. Faça um programa \n",
    "    que leia o nome dos quatros alunos e mostre a ordem sorteada."
   ]
  },
  {
   "cell_type": "code",
   "execution_count": 52,
   "id": "dd14e06c",
   "metadata": {},
   "outputs": [
    {
     "name": "stdout",
     "output_type": "stream",
     "text": [
      "Aluno 1:Lucas\n",
      "Aluno 2:Paulo\n",
      "Aluno 3:Maria \n",
      "Aluno 4:Ana\n",
      "Dos alunos Lucas, Paulo, Maria  e Ana. A ordem de apresentação será:\n",
      "['Ana', 'Paulo', 'Lucas', 'Maria ']\n"
     ]
    }
   ],
   "source": [
    "from random import sample\n",
    "\n",
    "a = str(input('Aluno 1:'))\n",
    "b = str(input('Aluno 2:'))\n",
    "c = str(input('Aluno 3:'))\n",
    "d = str(input('Aluno 4:'))\n",
    "sort = sample([a,b,c,d],k=4)\n",
    "print('Dos alunos {}, {}, {} e {}. A ordem de apresentação será:\\n{}'.format(a,b,c,d,sort))"
   ]
  },
  {
   "cell_type": "raw",
   "id": "c5a09291",
   "metadata": {},
   "source": [
    "6 - Faça um programa em python que abra e reproduza o aúdio de um arquivo mp3. "
   ]
  },
  {
   "cell_type": "code",
   "execution_count": 65,
   "id": "be04e4f6",
   "metadata": {},
   "outputs": [
    {
     "data": {
      "text/plain": [
       "<Event(4352-AudioDeviceAdded {'which': 1, 'iscapture': 1})>"
      ]
     },
     "execution_count": 65,
     "metadata": {},
     "output_type": "execute_result"
    }
   ],
   "source": [
    "#!pip install pygame - Caso precise baixar essa biblioteca externa \n",
    "import pygame \n",
    "pygame.init()\n",
    "pygame.mixer.music.load('thatsMyWay.mp3')\n",
    "pygame.mixer.music.play()\n",
    "#pygame.mixer.music.stop() #stop\n",
    "pygame.event.wait()"
   ]
  }
 ],
 "metadata": {
  "kernelspec": {
   "display_name": "Python 3",
   "language": "python",
   "name": "python3"
  },
  "language_info": {
   "codemirror_mode": {
    "name": "ipython",
    "version": 3
   },
   "file_extension": ".py",
   "mimetype": "text/x-python",
   "name": "python",
   "nbconvert_exporter": "python",
   "pygments_lexer": "ipython3",
   "version": "3.8.8"
  },
  "toc": {
   "base_numbering": 1,
   "nav_menu": {},
   "number_sections": true,
   "sideBar": true,
   "skip_h1_title": false,
   "title_cell": "Table of Contents",
   "title_sidebar": "Contents",
   "toc_cell": false,
   "toc_position": {},
   "toc_section_display": true,
   "toc_window_display": false
  },
  "varInspector": {
   "cols": {
    "lenName": 16,
    "lenType": 16,
    "lenVar": 40
   },
   "kernels_config": {
    "python": {
     "delete_cmd_postfix": "",
     "delete_cmd_prefix": "del ",
     "library": "var_list.py",
     "varRefreshCmd": "print(var_dic_list())"
    },
    "r": {
     "delete_cmd_postfix": ") ",
     "delete_cmd_prefix": "rm(",
     "library": "var_list.r",
     "varRefreshCmd": "cat(var_dic_list()) "
    }
   },
   "types_to_exclude": [
    "module",
    "function",
    "builtin_function_or_method",
    "instance",
    "_Feature"
   ],
   "window_display": false
  }
 },
 "nbformat": 4,
 "nbformat_minor": 5
}
