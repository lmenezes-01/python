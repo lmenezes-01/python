{
 "cells": [
  {
   "cell_type": "markdown",
   "id": "f253d126",
   "metadata": {},
   "source": [
    "# Utilizando Módulos "
   ]
  },
  {
   "cell_type": "raw",
   "id": "583da809",
   "metadata": {},
   "source": [
    "Import: Carrega bibliotecas \n",
    "From - biblioteca - import - módulo x: Essa forma puxa uma funcionalidade específica  \n",
    "\n",
    "Exp Biblioteca:\n",
    "- math(Já vem instalado)  import math \n",
    "                                ou \n",
    "                          from math import ceil/floor/trunc/pow/sqrt/factorial  (Mais de uma é apenas colocar \",\")\n",
    "                          \n",
    "Importar apenas um módul"
   ]
  },
  {
   "cell_type": "code",
   "execution_count": 1,
   "id": "ed7ea1aa",
   "metadata": {},
   "outputs": [],
   "source": [
    "# Prática "
   ]
  },
  {
   "cell_type": "code",
   "execution_count": 16,
   "id": "bf405288",
   "metadata": {},
   "outputs": [
    {
     "name": "stdout",
     "output_type": "stream",
     "text": [
      "Digite um número inteiro:29\n",
      "A raiz quadrada de 29 é igual a 5.39\n"
     ]
    }
   ],
   "source": [
    "#Importando a biblioteca por completa \n",
    "import math \n",
    "\n",
    "num = int(input('Digite um número inteiro:'))\n",
    "raiz = math.sqrt(num)\n",
    "print('A raiz quadrada de {} é igual a {:.2f}'.format(num, raiz))"
   ]
  },
  {
   "cell_type": "code",
   "execution_count": 17,
   "id": "5201c595",
   "metadata": {},
   "outputs": [
    {
     "name": "stdout",
     "output_type": "stream",
     "text": [
      "Digite um número inteiro:29\n",
      "A raiz quadrada de 29 é igual a 5.39\n"
     ]
    }
   ],
   "source": [
    "#Importando apenas uma funcionalidade da bibloteca \n",
    "from math import sqrt \n",
    "\n",
    "num = int(input('Digite um número inteiro:'))\n",
    "raiz = math.sqrt(num)\n",
    "print('A raiz quadrada de {} é igual a {:.2f}'.format(num, raiz))"
   ]
  },
  {
   "cell_type": "code",
   "execution_count": 22,
   "id": "c71d37b0",
   "metadata": {},
   "outputs": [
    {
     "name": "stdout",
     "output_type": "stream",
     "text": [
      "0.6997644301934312\n",
      "2\n"
     ]
    }
   ],
   "source": [
    "import random\n",
    "\n",
    "#número aleatório entre 0 e 1 \n",
    "num = random.random()\n",
    "print(num)\n",
    "\n",
    "#número aleatório 1 e 10 inteiro \n",
    "num = random.randint(1,10)\n",
    "print(num)"
   ]
  },
  {
   "cell_type": "markdown",
   "id": "dd4e8c23",
   "metadata": {},
   "source": [
    "## Desafios "
   ]
  },
  {
   "cell_type": "raw",
   "id": "ca002963",
   "metadata": {},
   "source": [
    "1 - Crie um programa que leia um número real qualquer pelo teclado e mostre na tela sua porção inteira \n",
    "    ex: Digite um número 6.127. O número 6.127 tem a parte inteira 6.  "
   ]
  },
  {
   "cell_type": "code",
   "execution_count": 32,
   "id": "2e733418",
   "metadata": {},
   "outputs": [
    {
     "name": "stdout",
     "output_type": "stream",
     "text": [
      "Digite um valor qualquer:6.127\n",
      "O número 6.127 tem a parte inteira 6\n"
     ]
    }
   ],
   "source": [
    "from math import trunc\n",
    "\n",
    "num = float(input('Digite um valor qualquer:'))\n",
    "inteiro = trunc(num)\n",
    "print('O número {} tem a parte inteira {}'.format(num,inteiro))\n"
   ]
  },
  {
   "cell_type": "raw",
   "id": "9246d72f",
   "metadata": {},
   "source": [
    "2 - Faça um programa que leia o comprimento de cateto oposto e do cateto adjacente de um triângulo retângulo, calcule e mostre\n",
    "    o comprimento da hipotenusa. "
   ]
  },
  {
   "cell_type": "code",
   "execution_count": 53,
   "id": "444afa85",
   "metadata": {},
   "outputs": [
    {
     "name": "stdout",
     "output_type": "stream",
     "text": [
      "Digite o valor do cateto oposto:9\n",
      "Digite o valor do cateto adjacente:12\n",
      "O valor do cateto oposto é 9.0 e o valor do cateto adjacente é 12.0, resultando na hipotenusa 15.0\n"
     ]
    }
   ],
   "source": [
    "from math import sqrt,hypot\n",
    "\n",
    "catop = float(input('Digite o valor do cateto oposto:'))\n",
    "catad = float(input('Digite o valor do cateto adjacente:'))\n",
    "hyp = hypot(catop,catad)\n",
    "print('O valor do cateto oposto é {} e o valor do cateto adjacente é {}, resultando na hipotenusa {}'.format(catop,catad,hip))"
   ]
  },
  {
   "cell_type": "raw",
   "id": "49c82471",
   "metadata": {},
   "source": [
    "3 - Faça um programa que leia um ângulo qualquer e mostre na tela o valor do seno, cosseno e tangente desse ângulo. "
   ]
  },
  {
   "cell_type": "code",
   "execution_count": 55,
   "id": "feed9c20",
   "metadata": {},
   "outputs": [
    {
     "name": "stdout",
     "output_type": "stream",
     "text": [
      "Digite um ângulo qualquer:30\n",
      "O ângulo 30.0 representa 0.50 seno, 0.87 cosseno e 0.58 tangente.\n"
     ]
    }
   ],
   "source": [
    "from math import cos,sin,tan,radians\n",
    "\n",
    "ang = float(input('Digite um ângulo qualquer:'))\n",
    "sen = sin(radians(ang))\n",
    "cos = cos(radians(ang))\n",
    "tan = tan(radians(ang))\n",
    "print('O ângulo {} representa {:.2f} seno, {:.2f} cosseno e {:.2f} tangente.'.format(ang,sen,cos,tan))\n"
   ]
  },
  {
   "cell_type": "code",
   "execution_count": null,
   "id": "9a59fea5",
   "metadata": {},
   "outputs": [],
   "source": [
    "4 - Um professor quer sotear um dos seus quatro alunos para apagar o quadro. Faça um programa que ajude ele,\n",
    "    lendo o nome deles e escrevendo o nome escolhido.  "
   ]
  },
  {
   "cell_type": "code",
   "execution_count": 46,
   "id": "a5dba711",
   "metadata": {},
   "outputs": [
    {
     "name": "stdout",
     "output_type": "stream",
     "text": [
      "Aluno 1:Ana\n",
      "Aluno 2:Maria \n",
      "Aluno 3:Fernando \n",
      "Aluno 4:João\n",
      "Dos alunos Ana, Maria , Fernando  e João. O aluno(a) Ana foi escolhido\n"
     ]
    }
   ],
   "source": [
    "from random import choice \n",
    "\n",
    "a = str(input('Aluno 1:'))\n",
    "b = str(input('Aluno 2:'))\n",
    "c = str(input('Aluno 3:'))\n",
    "d = str(input('Aluno 4:'))\n",
    "sort = choice([a, b, c, d])\n",
    "print('Dos alunos {}, {}, {} e {}. O aluno(a) {} foi escolhido'.format(a,b,c,d,sort))"
   ]
  },
  {
   "cell_type": "raw",
   "id": "ee5396a3",
   "metadata": {},
   "source": [
    "5 - O mesmo professor do desafio anterior quer sortear a ordem de apresentação de trabalhos dos alunos. Faça um programa \n",
    "    que leia o nome dos quatros alunos e mostre a ordem sorteada."
   ]
  },
  {
   "cell_type": "code",
   "execution_count": 52,
   "id": "dd14e06c",
   "metadata": {},
   "outputs": [
    {
     "name": "stdout",
     "output_type": "stream",
     "text": [
      "Aluno 1:Lucas\n",
      "Aluno 2:Paulo\n",
      "Aluno 3:Maria \n",
      "Aluno 4:Ana\n",
      "Dos alunos Lucas, Paulo, Maria  e Ana. A ordem de apresentação será:\n",
      "['Ana', 'Paulo', 'Lucas', 'Maria ']\n"
     ]
    }
   ],
   "source": [
    "from random import sample\n",
    "\n",
    "a = str(input('Aluno 1:'))\n",
    "b = str(input('Aluno 2:'))\n",
    "c = str(input('Aluno 3:'))\n",
    "d = str(input('Aluno 4:'))\n",
    "sort = sample([a,b,c,d],k=4)\n",
    "print('Dos alunos {}, {}, {} e {}. A ordem de apresentação será:\\n{}'.format(a,b,c,d,sort))"
   ]
  },
  {
   "cell_type": "raw",
   "id": "c5a09291",
   "metadata": {},
   "source": [
    "6 - Faça um programa em python que abra e reproduza o aúdio de um arquivo mp3. "
   ]
  },
  {
   "cell_type": "code",
   "execution_count": 65,
   "id": "be04e4f6",
   "metadata": {},
   "outputs": [
    {
     "data": {
      "text/plain": [
       "<Event(4352-AudioDeviceAdded {'which': 1, 'iscapture': 1})>"
      ]
     },
     "execution_count": 65,
     "metadata": {},
     "output_type": "execute_result"
    }
   ],
   "source": [
    "#!pip install pygame - Caso precise baixar essa biblioteca externa \n",
    "import pygame \n",
    "pygame.init()\n",
    "pygame.mixer.music.load('thatsMyWay.mp3')\n",
    "pygame.mixer.music.play()\n",
    "#pygame.mixer.music.stop() #stop\n",
    "pygame.event.wait()"
   ]
  },
  {
   "cell_type": "markdown",
   "id": "dceabc62",
   "metadata": {},
   "source": [
    "# Manipulando Textos "
   ]
  },
  {
   "cell_type": "raw",
   "id": "fd541801",
   "metadata": {},
   "source": [
    "Toda cadeia de texto está entre ('') ou (\"\").\n",
    "frase = 'Curso em Vídeo Python'\n",
    "\n",
    "    | C | u | r | s | o |   | e | m |   | V | í | d | e | o |   | P | y | t | h | o | n |\n",
    "      0   1   2   3   4   5   6   7   8   9   10  11  12  13  14  15  16  17  18  19  20 \n",
    "    \n",
    "A frase é armazenda em cada mini quadradinho, tendo o total de 20 caracteres.\n",
    "\n",
    "Técnicas:\n",
    "    - Fatiamento \n",
    "    frase[9] = V \n",
    "    frase[9:13] = Víde (Corta o último número)\n",
    "    frase[9:14] = Vídeo\n",
    "    frase[9:21] = Vídeo Python\n",
    "    frase[9:21:2] = VdoPto (Pula de dois em dois)\n",
    "    frase[:5]= Curso (Retorna tudo antes do carácter 5(vazio))\n",
    "    frase[15:] = Python (Captura o carácter 15 e o restante à sua frente) \n",
    "    frase[9::3] = VePh (Começa no carácter 9, lê todo o restante, porém! Pula de 3 em 3 casas)\n",
    "\n",
    "    - Análise \n",
    "    len(frase) = 21 caracteres (len vem de comprimento)   \n",
    "    frase.count('o') = 3 (Conta quantas vezes retorna a letra \"o\")\n",
    "    frase.count('o',0,13) = 1 (Conta quantas vezes retorna a letra \"o\" + Fatiamento de caracteres)\n",
    "    frase.find('deo') = 11 (Ele mostra em qual posição iniciou a letra ou palavra procurada) \n",
    "    frase.find('Android') = -1 (Quando não tem um string que foi procurada, ele retorna o -1)\n",
    "    'Curso' in frase = True (Existe a palavra Curso em frase? Caso sim(True) e caso não (False))\n",
    "    frase.replace('Python,'Android') = Android (Ele substitui, onde estava Python para Android)\n",
    "    frase.upper() = CURSO EM VÍDEO PYTHON (Todos os caracteres passam a ser maiúsculo) \n",
    "    frase.lower() = curso em vídeo python (Todos os caracteres passam a ser minúsculo)\n",
    "    frase.captalize() = Curso em vídeo python (Apenas o primeiro caracter será maiúsculo) \n",
    "    frase.title() = Cuso Em Vídeo Python (Ele pegará todas as frase e tornará primeiro carácter maiúsculo)\n",
    "    \n",
    "    - Transformação \n",
    "    frase_nova = ('   Aprenda Python  ')\n",
    "    |  |  |  | A | P | R | E | N | D | A |  | P | Y | T | H | O | N |  |  | \n",
    "     1   2  3  4   5   6   7   8   9  10  11  12  13  13  15  16  17 18 19\n",
    "     \n",
    "    frase_nova.strip() = Aprenda Python (Excluí os espaços desnecessáios) \n",
    "    frase_nova.rstrip() = ___Aprenda Python (Excluí os últimos espaços da direita) \n",
    "    frase_nova.lstrip() = Aprenda Python__ (Excluí os primeiros espaços da esquerda) \n",
    "    \n",
    "    -Divisão \n",
    "    frase.split() = | C | u | r | s | o |   | e | m |   | V | í | d | e | o |   | P | y | t | h | o | n | (Quabra as palavras \n",
    "                      0   1   2   3   4       0   1       0   1   2   3   4       0   1   2   3   4   5    em nova lista)\n",
    "                    _____________________   _________   _____________________   _________________________\n",
    "                              0                 1                 2                         3 \n",
    "    \n",
    "    - Junção \n",
    "    '-'.join(frase) = Curso-em-Vídeo-Python "
   ]
  },
  {
   "cell_type": "code",
   "execution_count": 32,
   "id": "f9dae2f9",
   "metadata": {},
   "outputs": [
    {
     "name": "stdout",
     "output_type": "stream",
     "text": [
      "Curso em Vídeo Python\n",
      "s\n",
      "so em Víde\n",
      "Curso em Víde\n",
      "o Python\n",
      "us mVdo\n",
      "Croe íe yhn\n",
      "3\n",
      "3\n",
      "21\n",
      "21\n",
      "Curso em Vídeo Android\n",
      "True\n",
      "9\n",
      "9\n",
      "['Curso', 'em', 'Vídeo', 'Python']\n"
     ]
    }
   ],
   "source": [
    "# Colocando os conhecimentos em prática \n",
    "\n",
    "frase = 'Curso em Vídeo Python'\n",
    "frase_espaço = '  Curso em Vídeo Python  '\n",
    "print(frase)\n",
    "print(frase[3])\n",
    "print(frase[3:13])\n",
    "print(frase[:13])\n",
    "print(frase[13:])\n",
    "print(frase[1:15:2])\n",
    "print(frase[::2])\n",
    "print(frase.count('o'))\n",
    "print(frase.upper().count('O'))\n",
    "print(len(frase))\n",
    "print(len(frase_espaço.strip()))\n",
    "fraseV2 = print(frase.replace('Python','Android'))\n",
    "print('Curso' in frase)\n",
    "print(frase.find('Vídeo'))\n",
    "print(frase.lower().find('vídeo'))\n",
    "dividido = print(frase.split())"
   ]
  },
  {
   "cell_type": "code",
   "execution_count": 10,
   "id": "7bcf0821",
   "metadata": {},
   "outputs": [
    {
     "name": "stdout",
     "output_type": "stream",
     "text": [
      "WDWDWWDWDWDWDWDWDWD WDWDWWW\n",
      "        WDWDDWDWDDW\n",
      "        WDWDWDWDW\n"
     ]
    }
   ],
   "source": [
    "#Uso de texto, podemos usar (\"\"\")\n",
    "print(\"\"\"WDWDWWDWDWDWDWDWDWD WDWDWWW\n",
    "        WDWDDWDWDDW\n",
    "        WDWDWDWDW\"\"\")"
   ]
  },
  {
   "cell_type": "markdown",
   "id": "6fb8d415",
   "metadata": {},
   "source": [
    "## Desafios "
   ]
  },
  {
   "cell_type": "raw",
   "id": "6bf5e901",
   "metadata": {},
   "source": [
    "1 - Crie um programa que leia o nome completo de uma pessoa e mostre: \n",
    "    - O nome com todas as letras maiúsculas;\n",
    "    - O nome com todas minúsculas;\n",
    "    - Quantas letras ao todo(Sem considerar espaço);\n",
    "    - Quantas letras tem o primeiro nome."
   ]
  },
  {
   "cell_type": "code",
   "execution_count": 86,
   "id": "042999dc",
   "metadata": {},
   "outputs": [
    {
     "name": "stdout",
     "output_type": "stream",
     "text": [
      "Digite seu nome completo:Ana Maria\n",
      "ANA MARIA\n",
      "ana maria\n",
      "8\n",
      "3\n"
     ]
    }
   ],
   "source": [
    "nome = str(input('Digite seu nome completo:')).strip()\n",
    "print(nome.upper())\n",
    "print(nome.lower())\n",
    "print(len(nome) - nome.count(' '))\n",
    "print(nome.find(' '))"
   ]
  },
  {
   "cell_type": "raw",
   "id": "8923e4da",
   "metadata": {},
   "source": [
    "2 - Faça um programa que leia um número de 0 a 9999 e mostre na tela cada um dos dígitos separados.\n",
    "    Ex: \n",
    "    Digite um número: 1834 \n",
    "    \n",
    "    Unidade: 4 \n",
    "    Dezena: 3\n",
    "    Centena: 8\n",
    "    Milhar: 1 "
   ]
  },
  {
   "cell_type": "code",
   "execution_count": 88,
   "id": "6d0ed0b0",
   "metadata": {},
   "outputs": [
    {
     "name": "stdout",
     "output_type": "stream",
     "text": [
      "Digite um número entre 0 a 9999:1234\n",
      "O número digitado foi 1234\n",
      "Unidade: 4\n",
      "Dezena: 3\n",
      "Centena: 2\n",
      "Milhar: 1\n"
     ]
    }
   ],
   "source": [
    "num = str(input('Digite um número entre 0 a 9999:'))\n",
    "print('O número digitado foi {}\\nUnidade: {}\\nDezena: {}\\nCentena: {}\\nMilhar: {}'.format(num,num[3],num[2],num[1],num[0]))"
   ]
  },
  {
   "cell_type": "raw",
   "id": "107ef576",
   "metadata": {},
   "source": [
    "3 - Crie um programa que leia o nome de uma cidade e diga se ela começa ou não com o nome \"SANTO\""
   ]
  },
  {
   "cell_type": "code",
   "execution_count": 90,
   "id": "e0133b07",
   "metadata": {},
   "outputs": [
    {
     "name": "stdout",
     "output_type": "stream",
     "text": [
      "Digite o nome de uma cidade:Santo André\n",
      "A cidade escrita inicia com Santo? True\n"
     ]
    }
   ],
   "source": [
    "cidade = str(input('Digite o nome de uma cidade:')).strip()\n",
    "quebra = cidade.upper().split()\n",
    "result = 'SANTO' in quebra[0] \n",
    "print('A cidade escrita inicia com Santo? {}'.format(result))"
   ]
  },
  {
   "cell_type": "raw",
   "id": "4b489342",
   "metadata": {},
   "source": [
    "4 - Crie um programa que leia o nome de uma pessoa e diga se ela tem \"SILVA\" no nome. "
   ]
  },
  {
   "cell_type": "code",
   "execution_count": 81,
   "id": "cd9d7387",
   "metadata": {},
   "outputs": [
    {
     "name": "stdout",
     "output_type": "stream",
     "text": [
      "Digite seu nome completo:Lucas Silva Pereira \n",
      "O nome escrito, contém Silva? True\n"
     ]
    }
   ],
   "source": [
    "nome = str(input('Digite seu nome completo:'))\n",
    "result = 'SILVA' in nome.upper()\n",
    "print('O nome escrito, contém Silva? {}'.format(result))\n"
   ]
  },
  {
   "cell_type": "raw",
   "id": "62ff32a0",
   "metadata": {},
   "source": [
    "5 - Faça um programa que leia uma frasee pelo teclado e mostre:\n",
    "    - Quantas vezes aparece a letra \"A\";\n",
    "    - Em vez que posição ela aparece a primeira vez;\n",
    "    - Em que posição ela aparece a última vez."
   ]
  },
  {
   "cell_type": "code",
   "execution_count": 92,
   "id": "5b3c228b",
   "metadata": {},
   "outputs": [
    {
     "name": "stdout",
     "output_type": "stream",
     "text": [
      "Digite uma frase:Tudo o que um sonho precisa para ser realizado é alguém que acredite que ele possa ser realizado.\n",
      "Sobre a frase escrita\n",
      "A letra \"A\" apareceu 10 vezes\n",
      "A primeira vez que apareceu foi na posição 26\n",
      "A última vez foi 93\n"
     ]
    }
   ],
   "source": [
    "frase = str(input('Digite uma frase:')).strip()\n",
    "print('Sobre a frase escrita\\nA letra \"A\" apareceu {} vezes\\nA primeira vez que apareceu foi na posição {}\\nA última vez foi {}'\n",
    "     .format(frase.upper().count('A'), frase.upper().find('A'), frase.upper().rfind('A')))"
   ]
  },
  {
   "cell_type": "raw",
   "id": "eab2e3f6",
   "metadata": {},
   "source": [
    "6 - Faça um programa que leia o nome completo de uma pessoa, mostrando em seguida o primeiro e o último nome separadamente.\n",
    "    Ex: Ana Maria de Souza \n",
    "    Primeiro = Ana  \n",
    "    Último = Souza  "
   ]
  },
  {
   "cell_type": "code",
   "execution_count": 99,
   "id": "7c13e2d4",
   "metadata": {},
   "outputs": [
    {
     "name": "stdout",
     "output_type": "stream",
     "text": [
      "Digite o seu nome:Juan Carlos de Souza \n",
      "Muito prazer em te conhecer!\n",
      "Seu primeiro nome é Juan\n",
      "Seu último nome é Souza\n"
     ]
    }
   ],
   "source": [
    "nome = str(input('Digite o seu nome:')).strip()\n",
    "n = nome.split()\n",
    "print('Muito prazer em te conhecer!')\n",
    "print('Seu primeiro nome é {}'.format(n[0]))\n",
    "print('Seu último nome é {}'.format(n[len(n)-1]))"
   ]
  }
 ],
 "metadata": {
  "kernelspec": {
   "display_name": "Python 3",
   "language": "python",
   "name": "python3"
  },
  "language_info": {
   "codemirror_mode": {
    "name": "ipython",
    "version": 3
   },
   "file_extension": ".py",
   "mimetype": "text/x-python",
   "name": "python",
   "nbconvert_exporter": "python",
   "pygments_lexer": "ipython3",
   "version": "3.8.8"
  },
  "toc": {
   "base_numbering": 1,
   "nav_menu": {},
   "number_sections": true,
   "sideBar": true,
   "skip_h1_title": false,
   "title_cell": "Table of Contents",
   "title_sidebar": "Contents",
   "toc_cell": false,
   "toc_position": {},
   "toc_section_display": true,
   "toc_window_display": false
  },
  "varInspector": {
   "cols": {
    "lenName": 16,
    "lenType": 16,
    "lenVar": 40
   },
   "kernels_config": {
    "python": {
     "delete_cmd_postfix": "",
     "delete_cmd_prefix": "del ",
     "library": "var_list.py",
     "varRefreshCmd": "print(var_dic_list())"
    },
    "r": {
     "delete_cmd_postfix": ") ",
     "delete_cmd_prefix": "rm(",
     "library": "var_list.r",
     "varRefreshCmd": "cat(var_dic_list()) "
    }
   },
   "types_to_exclude": [
    "module",
    "function",
    "builtin_function_or_method",
    "instance",
    "_Feature"
   ],
   "window_display": false
  }
 },
 "nbformat": 4,
 "nbformat_minor": 5
}
