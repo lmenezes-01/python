{
 "cells": [
  {
   "cell_type": "markdown",
   "id": "8f367b4f",
   "metadata": {},
   "source": [
    "# Primeiros comandos "
   ]
  },
  {
   "cell_type": "code",
   "execution_count": 3,
   "id": "3caac599",
   "metadata": {},
   "outputs": [
    {
     "name": "stdout",
     "output_type": "stream",
     "text": [
      "Olá mundo!\n"
     ]
    }
   ],
   "source": [
    "#String\n",
    "print('Olá mundo!')"
   ]
  },
  {
   "cell_type": "code",
   "execution_count": 4,
   "id": "c47cf15b",
   "metadata": {},
   "outputs": [
    {
     "name": "stdout",
     "output_type": "stream",
     "text": [
      "11\n"
     ]
    }
   ],
   "source": [
    "#Número\n",
    "print(7+4)"
   ]
  },
  {
   "cell_type": "code",
   "execution_count": 5,
   "id": "a496b6b8",
   "metadata": {},
   "outputs": [
    {
     "name": "stdout",
     "output_type": "stream",
     "text": [
      "74\n"
     ]
    }
   ],
   "source": [
    "#Concatenando String \n",
    "print('7'+'4')"
   ]
  },
  {
   "cell_type": "code",
   "execution_count": 6,
   "id": "36b631d4",
   "metadata": {},
   "outputs": [],
   "source": [
    "#Toda variável é um objeto no Python \n",
    "# O \"+\" não funciona para concatenar uma váriavel com texto em seguida, precisa colocar \",\""
   ]
  },
  {
   "cell_type": "code",
   "execution_count": 10,
   "id": "7bbb1557",
   "metadata": {},
   "outputs": [
    {
     "name": "stdout",
     "output_type": "stream",
     "text": [
      "Meu nome é Lucas tenho 20 anos e peso 63 Kg\n"
     ]
    }
   ],
   "source": [
    "#Criando variáveis\n",
    "nome = 'Lucas'\n",
    "idade = '20'\n",
    "peso = '63'\n",
    "\n",
    "print('Meu nome é', nome,'tenho', idade, 'anos e peso', peso, 'Kg')"
   ]
  },
  {
   "cell_type": "code",
   "execution_count": 14,
   "id": "97564ab2",
   "metadata": {},
   "outputs": [
    {
     "name": "stdout",
     "output_type": "stream",
     "text": [
      "Qual o seu nome?Lucas\n",
      "Qual a sua idade?20\n",
      "Quanto você pesa?70\n",
      "Lucas 20 70\n"
     ]
    }
   ],
   "source": [
    "#Input armazena o que o usuário digitou na variável\n",
    "nome = input('Qual o seu nome?')\n",
    "idade = input('Qual a sua idade?')\n",
    "peso = input('Quanto você pesa?')\n",
    "\n",
    "print(nome,idade,peso)"
   ]
  },
  {
   "cell_type": "markdown",
   "id": "6ceac83b",
   "metadata": {},
   "source": [
    "# Desafios"
   ]
  },
  {
   "cell_type": "raw",
   "id": "b326261f",
   "metadata": {},
   "source": [
    "1 - Crie um scrip Python que leia o nome de uma pessoa e mostre uma mensagem de boas-vindas de acordo com o valor digitado"
   ]
  },
  {
   "cell_type": "code",
   "execution_count": 17,
   "id": "ee346a50",
   "metadata": {},
   "outputs": [
    {
     "name": "stdout",
     "output_type": "stream",
     "text": [
      "Qual o seu nome?Lucas\n",
      "Olá Lucas ! Prazer em te conhecer\n"
     ]
    }
   ],
   "source": [
    "nome = input('Qual o seu nome?')\n",
    "print('Olá', nome, '! Prazer em te conhecer' )"
   ]
  },
  {
   "cell_type": "raw",
   "id": "ae3a8aed",
   "metadata": {},
   "source": [
    "2 - Crie um script Python que leia o dia, o mês e o ano de nascimento de uma pessoa e mostre uma mensagem com a data formatada"
   ]
  },
  {
   "cell_type": "code",
   "execution_count": 29,
   "id": "4afe3e41",
   "metadata": {},
   "outputs": [
    {
     "name": "stdout",
     "output_type": "stream",
     "text": [
      "Qual o dia do seu aniversário?09\n",
      "Qual o mês do seu anivesário?Mar\n",
      "Que ano você nasceu?2001\n",
      "Você nasceu em 09 de Mar de 2001 . Correto?\n"
     ]
    }
   ],
   "source": [
    "dia = input('Qual o dia do seu aniversário?')\n",
    "mes = input('Qual o mês do seu anivesário?')\n",
    "ano = input('Que ano você nasceu?')\n",
    "print('Você nasceu em',dia,'de',mes,'de',ano,'. Correto?')"
   ]
  },
  {
   "cell_type": "raw",
   "id": "2f766f6f",
   "metadata": {},
   "source": [
    "3 - Crie um script Python que leia dois números e tente mostrar a soma entre eles "
   ]
  },
  {
   "cell_type": "code",
   "execution_count": 37,
   "id": "6e8310a8",
   "metadata": {},
   "outputs": [
    {
     "name": "stdout",
     "output_type": "stream",
     "text": [
      "Primeiro valor:10\n",
      "Segundo valor:10\n",
      "A soma entre os dois valores são: 1010\n"
     ]
    }
   ],
   "source": [
    "nm1 = input('Primeiro valor:')\n",
    "nm2 = input('Segundo valor:')\n",
    "print('A soma entre os dois valores são:',nm3)"
   ]
  }
 ],
 "metadata": {
  "kernelspec": {
   "display_name": "Python 3",
   "language": "python",
   "name": "python3"
  },
  "language_info": {
   "codemirror_mode": {
    "name": "ipython",
    "version": 3
   },
   "file_extension": ".py",
   "mimetype": "text/x-python",
   "name": "python",
   "nbconvert_exporter": "python",
   "pygments_lexer": "ipython3",
   "version": "3.8.8"
  },
  "toc": {
   "base_numbering": 1,
   "nav_menu": {},
   "number_sections": true,
   "sideBar": true,
   "skip_h1_title": false,
   "title_cell": "Table of Contents",
   "title_sidebar": "Contents",
   "toc_cell": false,
   "toc_position": {},
   "toc_section_display": true,
   "toc_window_display": true
  },
  "varInspector": {
   "cols": {
    "lenName": 16,
    "lenType": 16,
    "lenVar": 40
   },
   "kernels_config": {
    "python": {
     "delete_cmd_postfix": "",
     "delete_cmd_prefix": "del ",
     "library": "var_list.py",
     "varRefreshCmd": "print(var_dic_list())"
    },
    "r": {
     "delete_cmd_postfix": ") ",
     "delete_cmd_prefix": "rm(",
     "library": "var_list.r",
     "varRefreshCmd": "cat(var_dic_list()) "
    }
   },
   "types_to_exclude": [
    "module",
    "function",
    "builtin_function_or_method",
    "instance",
    "_Feature"
   ],
   "window_display": false
  }
 },
 "nbformat": 4,
 "nbformat_minor": 5
}
