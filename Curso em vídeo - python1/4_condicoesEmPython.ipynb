{
 "cells": [
  {
   "cell_type": "markdown",
   "id": "49ba8c74",
   "metadata": {},
   "source": [
    "# Condições em Python(If...else)"
   ]
  },
  {
   "cell_type": "raw",
   "id": "1f33a3b6",
   "metadata": {},
   "source": [
    "Condições Simples - Quando apenas tem o IF\n",
    "        x\n",
    "Condições Compostas - Quando apresenta IF e ELSE \n",
    "\n",
    "Ideia em português          Pyhton\n",
    "se carro.esquerda()    if carro.esquerda:\n",
    "     bloco_V_             bloco True\n",
    "senão                  else: \n",
    "    bloco_F_              bloco False \n",
    "    \n",
    "Exemplo - Seu carro é novo ou velho?\n",
    "    tempo = int(input('Quantos anos tem seu carro?'))\n",
    "    if tempo <= 3:\n",
    "        print('Carro novo')\n",
    "    else:\n",
    "        print('Carro velho')\n",
    "    print('--FIM--')\n",
    "    \n",
    "                        OU\n",
    "    \n",
    "    tempo = int(input('Quantos anos tem seu carro?')\n",
    "    print('Carro novo'if tempo<=3 else 'Carro velho'\n",
    "    print('--FIM--')\n",
    " "
   ]
  },
  {
   "cell_type": "code",
   "execution_count": 3,
   "id": "6dfa6dc2",
   "metadata": {},
   "outputs": [
    {
     "name": "stdout",
     "output_type": "stream",
     "text": [
      "Qual é o seu nome?Lucas\n",
      "Que nome lindo você tem!\n",
      "Bom dia Lucas!\n"
     ]
    }
   ],
   "source": [
    "#Prática \n",
    "\n",
    "#Só aparece nome lindo, caso o nome bata com a condição de ser Lucas \n",
    "nome = str(input('Qual é o seu nome?'))\n",
    "if nome == 'Lucas':\n",
    "    print('Que nome lindo você tem!')\n",
    "print('Bom dia {}!'.format(nome))"
   ]
  },
  {
   "cell_type": "code",
   "execution_count": 4,
   "id": "4e610f12",
   "metadata": {},
   "outputs": [
    {
     "name": "stdout",
     "output_type": "stream",
     "text": [
      "Qual é o seu nome?José\n",
      "Bom dia José!\n"
     ]
    }
   ],
   "source": [
    "nome = str(input('Qual é o seu nome?'))\n",
    "if nome == 'Lucas':\n",
    "    print('Que nome lindo você tem!')\n",
    "print('Bom dia {}!'.format(nome))"
   ]
  },
  {
   "cell_type": "code",
   "execution_count": 5,
   "id": "8e91d068",
   "metadata": {},
   "outputs": [
    {
     "name": "stdout",
     "output_type": "stream",
     "text": [
      "Qual é o seu nome?José\n",
      "Seu nome é tão normal\n",
      "Bom dia José!\n"
     ]
    }
   ],
   "source": [
    "nome = str(input('Qual é o seu nome?'))\n",
    "if nome == 'Lucas':\n",
    "    print('Que nome lindo você tem!')\n",
    "else:\n",
    "    print('Seu nome é tão normal')\n",
    "print('Bom dia {}!'.format(nome))"
   ]
  },
  {
   "cell_type": "code",
   "execution_count": 12,
   "id": "f2f817e7",
   "metadata": {},
   "outputs": [
    {
     "name": "stdout",
     "output_type": "stream",
     "text": [
      "Digite a primeira nota: 10\n",
      "Digite a segunda nota: 1\n",
      "Reprovado\n"
     ]
    }
   ],
   "source": [
    "n1 = float(input('Digite a primeira nota: '))\n",
    "n2 = float(input('Digite a segunda nota: '))\n",
    "m = ((n1+n2)/2)\n",
    "\n",
    "if m >= 6:\n",
    "    print('O aluno foi aprovado')\n",
    "else:\n",
    "    print('Reprovado')"
   ]
  },
  {
   "cell_type": "code",
   "execution_count": 15,
   "id": "62747760",
   "metadata": {},
   "outputs": [
    {
     "name": "stdout",
     "output_type": "stream",
     "text": [
      "Digite a primeira nota: 10\n",
      "Digite a segunda nota: 2\n",
      "O aluno passou, parabéns\n"
     ]
    }
   ],
   "source": [
    "n1 = float(input('Digite a primeira nota: '))\n",
    "n2 = float(input('Digite a segunda nota: '))\n",
    "m = ((n1+n2)/2)\n",
    "\n",
    "print('O aluno passou, parabéns' if m>=6 else 'Aluno reprovado')"
   ]
  },
  {
   "cell_type": "markdown",
   "id": "72d694a1",
   "metadata": {},
   "source": [
    "## Desafios"
   ]
  },
  {
   "cell_type": "raw",
   "id": "a135fd48",
   "metadata": {},
   "source": [
    "1 - Escreva um programa que faça o computador \"pensar\" em um número inteiro entre 0 e 5 e peça para o usuário tentar descobrir \n",
    "qual foi o número escolhido pelo computador.\n",
    "O programa deverá escrever na tela se o usuário vendeu ou perdeu."
   ]
  },
  {
   "cell_type": "code",
   "execution_count": 86,
   "id": "0f2ab4fd",
   "metadata": {},
   "outputs": [
    {
     "name": "stdout",
     "output_type": "stream",
     "text": [
      "Digite um número entre 0 e 5, afim de advinhar o que o computador pensou...2\n",
      "Processando...\n",
      "Parabéns, você advinhou! Você digiou 2 e o computador pensou em 2\n"
     ]
    }
   ],
   "source": [
    "from random import randint\n",
    "from time import sleep\n",
    "x = randint(0,5)\n",
    "num = int(input('Digite um número entre 0 e 5, afim de advinhar o que o computador pensou...'))\n",
    "print('Processando...')\n",
    "sleep(2)\n",
    "if num == x:\n",
    "    print('Parabéns, você advinhou! Você digiou {} e o computador pensou em {}'.format(num,x))\n",
    "else:\n",
    "    print('Tente novamente, você digitou {} e o computador pensou em {}'.format(num,x))"
   ]
  },
  {
   "cell_type": "raw",
   "id": "8cd92f8f",
   "metadata": {},
   "source": [
    "2 - Escreva um programa que leia a velocidade de um carro.\n",
    "    Se ele ultrapassar 80Km/h, mostre uma mensagem dizendo que ele foi multado.\n",
    "    A multa vai ser custar R$7,00 por cada Km caima do limite. "
   ]
  },
  {
   "cell_type": "code",
   "execution_count": 92,
   "id": "b58ca82a",
   "metadata": {},
   "outputs": [
    {
     "name": "stdout",
     "output_type": "stream",
     "text": [
      "Qual é a sua velocidade?100\n",
      "Passou do limite de velocidade da via, você terá que pagar uma multa no valor de R$140.00\n"
     ]
    }
   ],
   "source": [
    "vel = float(input('Qual é a sua velocidade?'))\n",
    "if vel > 80:\n",
    "    multa = (vel-80)*7\n",
    "    print('Passou do limite de velocidade da via, você terá que pagar uma multa no valor de R${:.2f}'.format(multa))\n",
    "else:\n",
    "    print('Velocidade permitida')"
   ]
  },
  {
   "cell_type": "raw",
   "id": "48b639ea",
   "metadata": {},
   "source": [
    "3 - Crie um  programa que leia um número inteiro qualquer e mostre na tela se ele é par ou ímpar."
   ]
  },
  {
   "cell_type": "code",
   "execution_count": 95,
   "id": "4b663330",
   "metadata": {},
   "outputs": [
    {
     "name": "stdout",
     "output_type": "stream",
     "text": [
      "Digite um número:32\n",
      "O número 32 é PAR\n"
     ]
    }
   ],
   "source": [
    "num = int(input('Digite um número:'))\n",
    "calc = num%2\n",
    "if calc == 0:\n",
    "    print('O número {} é PAR'.format(num))\n",
    "else:\n",
    "    print('O número {} é ÍMPAR'.format(num))"
   ]
  },
  {
   "cell_type": "raw",
   "id": "93c08b9e",
   "metadata": {},
   "source": [
    "4 - Desenvolva um programa que pergunte a distância de uma viagem em Km. Calcule o preço da passagem, cobrando R$0,50 por Km \n",
    "para viagens de até 200Km e R$0,45 para viagens mais longas."
   ]
  },
  {
   "cell_type": "code",
   "execution_count": 99,
   "id": "5f5f54d0",
   "metadata": {},
   "outputs": [
    {
     "name": "stdout",
     "output_type": "stream",
     "text": [
      "Qual a distância em KM da sua viagem?1000\n",
      "O valor da passagaem custará R$450.00\n"
     ]
    }
   ],
   "source": [
    "km = float(input('Qual a distância em KM da sua viagem?'))\n",
    "if km<=200:\n",
    "    km_menor = km*0.50\n",
    "    print('O valor da passagem custará R${:.2f}'.format(km_menor))\n",
    "else:\n",
    "    km_maior = km*0.45\n",
    "    print('O valor da passagaem custará R${:.2f}'.format(km_maior))\n",
    "\n",
    "#preco = km * 0.50 if km <= 200 else km * 0.45 "
   ]
  },
  {
   "cell_type": "raw",
   "id": "19167ad4",
   "metadata": {},
   "source": [
    "5 - Faça um programa que leia um ano qualquer e mostre se ele é bissexto. "
   ]
  },
  {
   "cell_type": "code",
   "execution_count": 102,
   "id": "730a079d",
   "metadata": {},
   "outputs": [
    {
     "name": "stdout",
     "output_type": "stream",
     "text": [
      "Digite o ano e descubra se ele é ou não bisssexto...1700\n",
      "Esse ano não é bissexto :(\n"
     ]
    }
   ],
   "source": [
    "ano = int(input('Digite o ano e descubra se ele é ou não bisssexto...'))\n",
    "if ano % 4 == 0 and ano % 100 != 0 or ano % 400 == 0:\n",
    "    print('O ano {} é bissexto!'.format(ano))\n",
    "else:\n",
    "    print('Esse ano não é bissexto :(')"
   ]
  },
  {
   "cell_type": "raw",
   "id": "d961edba",
   "metadata": {},
   "source": [
    "6 - Faça um programa que leia três números e mostre qual é o maior e qual é o menor."
   ]
  },
  {
   "cell_type": "code",
   "execution_count": 103,
   "id": "ada110f7",
   "metadata": {},
   "outputs": [
    {
     "name": "stdout",
     "output_type": "stream",
     "text": [
      "Digite o primeiro número:5\n",
      "Digite o segundo número:6\n",
      "Digite o terceiro número:1\n",
      "O menor valor foi 1\n",
      "O maior valor foi 6\n"
     ]
    }
   ],
   "source": [
    "a = int(input('Digite o primeiro número:'))\n",
    "b = int(input('Digite o segundo número:'))\n",
    "c = int(input('Digite o terceiro número:'))\n",
    "#Verificando o menor \n",
    "menor = a \n",
    "if b<a and b>c:\n",
    "    menor = b\n",
    "if c<a and c<b:\n",
    "    menor = c\n",
    "#Verificando o maior \n",
    "maior = a \n",
    "if b>a and b>c:\n",
    "    maior = b \n",
    "if c>a and c>b:\n",
    "    maior = c\n",
    "print('O menor valor foi {}'.format(menor))\n",
    "print('O maior valor foi {}'.format(maior))"
   ]
  },
  {
   "cell_type": "raw",
   "id": "36091167",
   "metadata": {},
   "source": [
    "7 - Escreva um progama que pergunte o salário de um funcionário e calcule o valor do seu aumento. \n",
    "    Para salários superiores a R$1.250,00, calcule um aumento de 10%.\n",
    "    Para os inferiores ou iguais, o aumento é de 15%. "
   ]
  },
  {
   "cell_type": "code",
   "execution_count": 105,
   "id": "c125593c",
   "metadata": {},
   "outputs": [
    {
     "name": "stdout",
     "output_type": "stream",
     "text": [
      "Qual é o valor do seu salário?900\n",
      "O seu salário aumentou 15%, sendo assim, você parassará a receber R$1035.0\n"
     ]
    }
   ],
   "source": [
    "sal = float(input('Qual é o valor do seu salário?'))\n",
    "if sal > 1250:\n",
    "    aum10 = ((sal*0.10)+sal) \n",
    "    print('O seu salário aumentou 10%, sendo assim, você passará a receber R${}'.format(aum10))\n",
    "else:\n",
    "    aum15 = ((sal*0.15)+sal)\n",
    "    print('O seu salário aumentou 15%, sendo assim, você parassará a receber R${}'.format(aum15))"
   ]
  },
  {
   "cell_type": "raw",
   "id": "8e143f85",
   "metadata": {},
   "source": [
    "8 - Desenvolva um programa que leia o comprimento de três retas e diga ao usuário se elas podem ou não formar um triângulo "
   ]
  },
  {
   "cell_type": "code",
   "execution_count": 107,
   "id": "4932da23",
   "metadata": {},
   "outputs": [
    {
     "name": "stdout",
     "output_type": "stream",
     "text": [
      "Valor da primeira reta:2\n",
      "Valor da segunda reta:4\n",
      "Valor da terceira reta:9\n",
      "Errado! OS comprimentos não formam um triângulo\n"
     ]
    }
   ],
   "source": [
    "a = float(input('Valor da primeira reta:'))\n",
    "b = float(input('Valor da segunda reta:'))\n",
    "c = float(input('Valor da terceira reta:'))\n",
    "if ((b-c)<a<(b+c)) and ((a-c)<b<(a+c)) and ((a-b)<c<(a+b)):\n",
    "    print('Correto! Os comprimentos formam um triângulo')\n",
    "else:\n",
    "    print('Errado! OS comprimentos não formam um triângulo')"
   ]
  }
 ],
 "metadata": {
  "kernelspec": {
   "display_name": "Python 3",
   "language": "python",
   "name": "python3"
  },
  "language_info": {
   "codemirror_mode": {
    "name": "ipython",
    "version": 3
   },
   "file_extension": ".py",
   "mimetype": "text/x-python",
   "name": "python",
   "nbconvert_exporter": "python",
   "pygments_lexer": "ipython3",
   "version": "3.8.8"
  },
  "toc": {
   "base_numbering": 1,
   "nav_menu": {},
   "number_sections": true,
   "sideBar": true,
   "skip_h1_title": false,
   "title_cell": "Table of Contents",
   "title_sidebar": "Contents",
   "toc_cell": false,
   "toc_position": {},
   "toc_section_display": true,
   "toc_window_display": false
  },
  "varInspector": {
   "cols": {
    "lenName": 16,
    "lenType": 16,
    "lenVar": 40
   },
   "kernels_config": {
    "python": {
     "delete_cmd_postfix": "",
     "delete_cmd_prefix": "del ",
     "library": "var_list.py",
     "varRefreshCmd": "print(var_dic_list())"
    },
    "r": {
     "delete_cmd_postfix": ") ",
     "delete_cmd_prefix": "rm(",
     "library": "var_list.r",
     "varRefreshCmd": "cat(var_dic_list()) "
    }
   },
   "types_to_exclude": [
    "module",
    "function",
    "builtin_function_or_method",
    "instance",
    "_Feature"
   ],
   "window_display": false
  }
 },
 "nbformat": 4,
 "nbformat_minor": 5
}
