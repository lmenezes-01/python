{
 "cells": [
  {
   "cell_type": "markdown",
   "id": "6e7dcff5",
   "metadata": {},
   "source": [
    "# Condições em Python(If...else)"
   ]
  },
  {
   "cell_type": "raw",
   "id": "cb13ae1a",
   "metadata": {},
   "source": [
    "Condições Simples - Quando apenas tem o IF\n",
    "        x\n",
    "Condições Compostas - Quando apresenta IF e ELSE \n",
    "\n",
    "Ideia em português          Pyhton\n",
    "se carro.esquerda()    if carro.esquerda:\n",
    "     bloco_V_             bloco True\n",
    "senão                  else: \n",
    "    bloco_F_              bloco False \n",
    "    \n",
    "Exemplo - Seu carro é novo ou velho?\n",
    "    tempo = int(input('Quantos anos tem seu carro?'))\n",
    "    if tempo <= 3:\n",
    "        print('Carro novo')\n",
    "    else:\n",
    "        print('Carro velho')\n",
    "    print('--FIM--')\n",
    "    \n",
    "                        OU\n",
    "    \n",
    "    tempo = int(input('Quantos anos tem seu carro?')\n",
    "    print('Carro novo'if tempo<=3 else 'Carro velho'\n",
    "    print('--FIM--')\n",
    " "
   ]
  },
  {
   "cell_type": "code",
   "execution_count": 3,
   "id": "aeb38e8e",
   "metadata": {},
   "outputs": [
    {
     "name": "stdout",
     "output_type": "stream",
     "text": [
      "Qual é o seu nome?Lucas\n",
      "Que nome lindo você tem!\n",
      "Bom dia Lucas!\n"
     ]
    }
   ],
   "source": [
    "#Prática \n",
    "\n",
    "#Só aparece nome lindo, caso o nome bata com a condição de ser Lucas \n",
    "nome = str(input('Qual é o seu nome?'))\n",
    "if nome == 'Lucas':\n",
    "    print('Que nome lindo você tem!')\n",
    "print('Bom dia {}!'.format(nome))"
   ]
  },
  {
   "cell_type": "code",
   "execution_count": 4,
   "id": "a792993f",
   "metadata": {},
   "outputs": [
    {
     "name": "stdout",
     "output_type": "stream",
     "text": [
      "Qual é o seu nome?José\n",
      "Bom dia José!\n"
     ]
    }
   ],
   "source": [
    "nome = str(input('Qual é o seu nome?'))\n",
    "if nome == 'Lucas':\n",
    "    print('Que nome lindo você tem!')\n",
    "print('Bom dia {}!'.format(nome))"
   ]
  },
  {
   "cell_type": "code",
   "execution_count": 5,
   "id": "ab43a567",
   "metadata": {},
   "outputs": [
    {
     "name": "stdout",
     "output_type": "stream",
     "text": [
      "Qual é o seu nome?José\n",
      "Seu nome é tão normal\n",
      "Bom dia José!\n"
     ]
    }
   ],
   "source": [
    "nome = str(input('Qual é o seu nome?'))\n",
    "if nome == 'Lucas':\n",
    "    print('Que nome lindo você tem!')\n",
    "else:\n",
    "    print('Seu nome é tão normal')\n",
    "print('Bom dia {}!'.format(nome))"
   ]
  },
  {
   "cell_type": "code",
   "execution_count": 12,
   "id": "a6600911",
   "metadata": {},
   "outputs": [
    {
     "name": "stdout",
     "output_type": "stream",
     "text": [
      "Digite a primeira nota: 10\n",
      "Digite a segunda nota: 1\n",
      "Reprovado\n"
     ]
    }
   ],
   "source": [
    "n1 = float(input('Digite a primeira nota: '))\n",
    "n2 = float(input('Digite a segunda nota: '))\n",
    "m = ((n1+n2)/2)\n",
    "\n",
    "if m >= 6:\n",
    "    print('O aluno foi aprovado')\n",
    "else:\n",
    "    print('Reprovado')"
   ]
  },
  {
   "cell_type": "code",
   "execution_count": 15,
   "id": "b5bf5946",
   "metadata": {},
   "outputs": [
    {
     "name": "stdout",
     "output_type": "stream",
     "text": [
      "Digite a primeira nota: 10\n",
      "Digite a segunda nota: 2\n",
      "O aluno passou, parabéns\n"
     ]
    }
   ],
   "source": [
    "n1 = float(input('Digite a primeira nota: '))\n",
    "n2 = float(input('Digite a segunda nota: '))\n",
    "m = ((n1+n2)/2)\n",
    "\n",
    "print('O aluno passou, parabéns' if m>=6 else 'Aluno reprovado')"
   ]
  },
  {
   "cell_type": "markdown",
   "id": "c4bf591d",
   "metadata": {},
   "source": [
    "## Desafios"
   ]
  },
  {
   "cell_type": "raw",
   "id": "47ed614c",
   "metadata": {},
   "source": [
    "1 - Escreva um programa que faça o computador \"pensar\" em um número inteiro entre 0 e 5 e peça para o usuário tentar descobrir \n",
    "qual foi o número escolhido pelo computador.\n",
    "O programa deverá escrever na tela se o usuário vendeu ou perdeu."
   ]
  },
  {
   "cell_type": "code",
   "execution_count": null,
   "id": "39894d24",
   "metadata": {},
   "outputs": [],
   "source": []
  },
  {
   "cell_type": "raw",
   "id": "0860572b",
   "metadata": {},
   "source": [
    "2 - Escreva um programa que leia a velocidade de um carro.\n",
    "    Se ele ultrapassar 80Km/h, mostre uma mensagem dizendo que ele foi multado.\n",
    "    A multa vai ser custar R$7,00 por cada Km caima do limite. "
   ]
  },
  {
   "cell_type": "code",
   "execution_count": null,
   "id": "2e083332",
   "metadata": {},
   "outputs": [],
   "source": []
  },
  {
   "cell_type": "raw",
   "id": "918ae70a",
   "metadata": {},
   "source": [
    "3 - Crie um  programa que leia um número inteiro qualquer e mostre na tela se ele é par ou ímpar."
   ]
  },
  {
   "cell_type": "code",
   "execution_count": null,
   "id": "09e0337b",
   "metadata": {},
   "outputs": [],
   "source": []
  },
  {
   "cell_type": "raw",
   "id": "70d8f764",
   "metadata": {},
   "source": [
    "4 - Desenvolva um programa que pergunte a distância de uma viagem em Km. Calcule o preço da passagem, cobrando R$0,50 por Km \n",
    "para viagens de até 200Km e R$0,45 para viagens mais longas."
   ]
  },
  {
   "cell_type": "code",
   "execution_count": null,
   "id": "c6044666",
   "metadata": {},
   "outputs": [],
   "source": []
  },
  {
   "cell_type": "raw",
   "id": "f9a20c0e",
   "metadata": {},
   "source": [
    "5 - Faça um programa que leia um ano qualquer e mostre se ele é bissexto. "
   ]
  },
  {
   "cell_type": "code",
   "execution_count": null,
   "id": "726a4892",
   "metadata": {},
   "outputs": [],
   "source": []
  },
  {
   "cell_type": "code",
   "execution_count": null,
   "id": "4167e4e5",
   "metadata": {},
   "outputs": [],
   "source": [
    "6 - Faça um programa que leia três números e mostre qual é o maior e qual é o menor."
   ]
  },
  {
   "cell_type": "code",
   "execution_count": null,
   "id": "11541cfd",
   "metadata": {},
   "outputs": [],
   "source": []
  },
  {
   "cell_type": "raw",
   "id": "b1a9c1bf",
   "metadata": {},
   "source": [
    "7 - Escreva um progama que pergunte o salário de um funcionário e calcule o valor do seu aumento. \n",
    "    Para salários superiores a R$1.250,00, calcule um aumento de 10%.\n",
    "    Para os inferiores ou iguais, o aumento é de 15%. "
   ]
  },
  {
   "cell_type": "code",
   "execution_count": null,
   "id": "bdabd0f0",
   "metadata": {},
   "outputs": [],
   "source": []
  },
  {
   "cell_type": "raw",
   "id": "e9687aa2",
   "metadata": {},
   "source": [
    "8 - Desenvolva um programa que leia o comprimento de três retas e diga ao usuário se elas podem ou não formar um triângulo "
   ]
  },
  {
   "cell_type": "code",
   "execution_count": null,
   "id": "ee6470b5",
   "metadata": {},
   "outputs": [],
   "source": []
  }
 ],
 "metadata": {
  "kernelspec": {
   "display_name": "Python 3",
   "language": "python",
   "name": "python3"
  },
  "language_info": {
   "codemirror_mode": {
    "name": "ipython",
    "version": 3
   },
   "file_extension": ".py",
   "mimetype": "text/x-python",
   "name": "python",
   "nbconvert_exporter": "python",
   "pygments_lexer": "ipython3",
   "version": "3.8.8"
  },
  "toc": {
   "base_numbering": 1,
   "nav_menu": {},
   "number_sections": true,
   "sideBar": true,
   "skip_h1_title": false,
   "title_cell": "Table of Contents",
   "title_sidebar": "Contents",
   "toc_cell": false,
   "toc_position": {},
   "toc_section_display": true,
   "toc_window_display": false
  },
  "varInspector": {
   "cols": {
    "lenName": 16,
    "lenType": 16,
    "lenVar": 40
   },
   "kernels_config": {
    "python": {
     "delete_cmd_postfix": "",
     "delete_cmd_prefix": "del ",
     "library": "var_list.py",
     "varRefreshCmd": "print(var_dic_list())"
    },
    "r": {
     "delete_cmd_postfix": ") ",
     "delete_cmd_prefix": "rm(",
     "library": "var_list.r",
     "varRefreshCmd": "cat(var_dic_list()) "
    }
   },
   "types_to_exclude": [
    "module",
    "function",
    "builtin_function_or_method",
    "instance",
    "_Feature"
   ],
   "window_display": false
  }
 },
 "nbformat": 4,
 "nbformat_minor": 5
}
